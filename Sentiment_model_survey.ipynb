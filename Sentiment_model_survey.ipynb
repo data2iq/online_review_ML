{
 "cells": [
  {
   "cell_type": "markdown",
   "metadata": {},
   "source": [
    "# Sentiment Model Survey"
   ]
  },
  {
   "cell_type": "code",
   "execution_count": 40,
   "metadata": {
    "collapsed": true
   },
   "outputs": [],
   "source": [
    "import json\n",
    "import pandas as pd\n",
    "import itertools\n",
    "import sys\n",
    "import re\n",
    "import string\n",
    "import nltk\n",
    "from collections import defaultdict\n",
    "from sklearn.metrics import classification_report, accuracy_score, f1_score"
   ]
  },
  {
   "cell_type": "markdown",
   "metadata": {},
   "source": [
    "## Preprocessng and Metrics Functions"
   ]
  },
  {
   "cell_type": "code",
   "execution_count": 61,
   "metadata": {},
   "outputs": [],
   "source": [
    "import re\n",
    "import string\n",
    "from nltk.corpus import stopwords\n",
    "from nltk import word_tokenize\n",
    "from nltk.stem import PorterStemmer\n",
    "\n",
    "## clean up strings\n",
    "def clean_str(string):\n",
    "    string = re.sub(r\"[^A-Za-z0-9(),!?\\'\\`]\", \" \", string)\n",
    "    string = re.sub(r\"\\'s\", \" \\'s\", string)\n",
    "    string = re.sub(r\"\\'ve\", \" \\'ve\", string)\n",
    "    string = re.sub(r\"\\'re\", \" \\'re\", string)\n",
    "    string = re.sub(r\"\\'d\", \" \\'d\", string)\n",
    "    string = re.sub(r\"\\'ll\", \" \\'ll\", string)\n",
    "    string = re.sub(r\",\", \" , \", string)\n",
    "    string = re.sub(r\"!\", \" ! \", string)\n",
    "    string = re.sub(r\"\\(\", \" \\( \", string)\n",
    "    string = re.sub(r\"\\)\", \" \\) \", string)\n",
    "    string = re.sub(r\"\\?\", \" \\? \", string)\n",
    "    string = re.sub(r\"(.)\\1\\1+$\", r\"\\1\", string)\n",
    "    string = re.sub(r\"\\s{2,}\", \" \", string)\n",
    "    return string.strip().lower()\n",
    "\n",
    "## preprocess punctutation, stop words, stemming\n",
    "def preprocess_stop_stem(text, punct=True, stem=False, stop=True, sent=False):\n",
    "    if punct:\n",
    "        regex = re.compile('[%s]' % re.escape(string.punctuation))\n",
    "        text = regex.sub('', text)\n",
    "    tokens = word_tokenize(text) \n",
    "    if stop:\n",
    "        stop = stopwords.words('english')\n",
    "        tokens =[word for word in tokens if word not in stop]\n",
    "        tokens = [word.lower() for word in tokens]\n",
    "    if stem:\n",
    "        stemmer = PorterStemmer()\n",
    "        tokens = [stemmer.stem(t) for t in tokens]\n",
    "    if sent:\n",
    "        tokens = ' '.join(tokens)\n",
    "    return tokens\n",
    "\n",
    "## preproces a sentence\n",
    "def preprocess_doc(doc):\n",
    "    return preprocess_stop_stem(clean_str(doc), punct=True, stem=False, stop=True, sent=True)\n",
    "\n",
    "## label to sentiment\n",
    "def create_senti_label(row):\n",
    "    if row['rating'] >= 3.2:\n",
    "        label = 'pos'\n",
    "    elif row['rating'] <= 1.8:\n",
    "        label = 'neg'\n",
    "    else:\n",
    "        label = 'neu'\n",
    "    return label\n",
    "\n",
    "## Sentiment score\n",
    "def sentiment_result(score):\n",
    "    if score >= 0.5:\n",
    "        return 'pos'\n",
    "    elif score > -0.5 and score < 0.5:\n",
    "        return 'neu'\n",
    "    elif score <= -0.5:\n",
    "        return 'neg'"
   ]
  },
  {
   "cell_type": "markdown",
   "metadata": {},
   "source": [
    "\n",
    "## Vader Lexicon (Rule Based Models)"
   ]
  },
  {
   "cell_type": "markdown",
   "metadata": {
    "collapsed": true
   },
   "source": [
    "We can use the \"rating\" the check the accuracy of the sentiment score"
   ]
  },
  {
   "cell_type": "code",
   "execution_count": 42,
   "metadata": {
    "scrolled": true
   },
   "outputs": [
    {
     "data": {
      "text/html": [
       "<div>\n",
       "<style scoped>\n",
       "    .dataframe tbody tr th:only-of-type {\n",
       "        vertical-align: middle;\n",
       "    }\n",
       "\n",
       "    .dataframe tbody tr th {\n",
       "        vertical-align: top;\n",
       "    }\n",
       "\n",
       "    .dataframe thead th {\n",
       "        text-align: right;\n",
       "    }\n",
       "</style>\n",
       "<table border=\"1\" class=\"dataframe\">\n",
       "  <thead>\n",
       "    <tr style=\"text-align: right;\">\n",
       "      <th></th>\n",
       "      <th>rating</th>\n",
       "      <th>ratingDate</th>\n",
       "      <th>reviewComments</th>\n",
       "      <th>reviewTitle</th>\n",
       "      <th>modelId</th>\n",
       "    </tr>\n",
       "  </thead>\n",
       "  <tbody>\n",
       "    <tr>\n",
       "      <th>0</th>\n",
       "      <td>4</td>\n",
       "      <td>08/15/2017</td>\n",
       "      <td>beautifullllllllllllllllllllllllllllllllllllll...</td>\n",
       "      <td>NaN</td>\n",
       "      <td>4002178_W</td>\n",
       "    </tr>\n",
       "    <tr>\n",
       "      <th>1</th>\n",
       "      <td>1</td>\n",
       "      <td>05/08/2017</td>\n",
       "      <td>The actual product came out looking much diffe...</td>\n",
       "      <td>Disappointing</td>\n",
       "      <td>4002178_W</td>\n",
       "    </tr>\n",
       "    <tr>\n",
       "      <th>2</th>\n",
       "      <td>1</td>\n",
       "      <td>04/10/2017</td>\n",
       "      <td>These shoes look nothing like the picture! I e...</td>\n",
       "      <td>NaN</td>\n",
       "      <td>4002178_W</td>\n",
       "    </tr>\n",
       "    <tr>\n",
       "      <th>3</th>\n",
       "      <td>1</td>\n",
       "      <td>02/26/2017</td>\n",
       "      <td>I ordered this shoe because i loved the displa...</td>\n",
       "      <td>color sample was way off</td>\n",
       "      <td>4002178_W</td>\n",
       "    </tr>\n",
       "    <tr>\n",
       "      <th>4</th>\n",
       "      <td>5</td>\n",
       "      <td>09/15/2017</td>\n",
       "      <td>They are comfortable sneakers for working out ...</td>\n",
       "      <td>awesome sneakers</td>\n",
       "      <td>4002179_W</td>\n",
       "    </tr>\n",
       "  </tbody>\n",
       "</table>\n",
       "</div>"
      ],
      "text/plain": [
       "   rating  ratingDate                                     reviewComments  \\\n",
       "0       4  08/15/2017  beautifullllllllllllllllllllllllllllllllllllll...   \n",
       "1       1  05/08/2017  The actual product came out looking much diffe...   \n",
       "2       1  04/10/2017  These shoes look nothing like the picture! I e...   \n",
       "3       1  02/26/2017  I ordered this shoe because i loved the displa...   \n",
       "4       5  09/15/2017  They are comfortable sneakers for working out ...   \n",
       "\n",
       "                reviewTitle    modelId  \n",
       "0                       NaN  4002178_W  \n",
       "1             Disappointing  4002178_W  \n",
       "2                       NaN  4002178_W  \n",
       "3  color sample was way off  4002178_W  \n",
       "4          awesome sneakers  4002179_W  "
      ]
     },
     "execution_count": 42,
     "metadata": {},
     "output_type": "execute_result"
    }
   ],
   "source": [
    "reviewData_df = pd.read_csv(\"product_reviews.csv\")\n",
    "reviewData_df.head()"
   ]
  },
  {
   "cell_type": "code",
   "execution_count": 43,
   "metadata": {},
   "outputs": [
    {
     "data": {
      "text/html": [
       "<div>\n",
       "<style scoped>\n",
       "    .dataframe tbody tr th:only-of-type {\n",
       "        vertical-align: middle;\n",
       "    }\n",
       "\n",
       "    .dataframe tbody tr th {\n",
       "        vertical-align: top;\n",
       "    }\n",
       "\n",
       "    .dataframe thead th {\n",
       "        text-align: right;\n",
       "    }\n",
       "</style>\n",
       "<table border=\"1\" class=\"dataframe\">\n",
       "  <thead>\n",
       "    <tr style=\"text-align: right;\">\n",
       "      <th></th>\n",
       "      <th>rating</th>\n",
       "      <th>ratingDate</th>\n",
       "      <th>reviewComments</th>\n",
       "      <th>reviewTitle</th>\n",
       "      <th>modelId</th>\n",
       "      <th>label</th>\n",
       "    </tr>\n",
       "  </thead>\n",
       "  <tbody>\n",
       "    <tr>\n",
       "      <th>0</th>\n",
       "      <td>4</td>\n",
       "      <td>08/15/2017</td>\n",
       "      <td>beautiful</td>\n",
       "      <td>NaN</td>\n",
       "      <td>4002178_W</td>\n",
       "      <td>pos</td>\n",
       "    </tr>\n",
       "    <tr>\n",
       "      <th>1</th>\n",
       "      <td>1</td>\n",
       "      <td>05/08/2017</td>\n",
       "      <td>actual product came looking much different onl...</td>\n",
       "      <td>Disappointing</td>\n",
       "      <td>4002178_W</td>\n",
       "      <td>neg</td>\n",
       "    </tr>\n",
       "    <tr>\n",
       "      <th>2</th>\n",
       "      <td>1</td>\n",
       "      <td>04/10/2017</td>\n",
       "      <td>shoes look nothing like picture expected grey ...</td>\n",
       "      <td>NaN</td>\n",
       "      <td>4002178_W</td>\n",
       "      <td>neg</td>\n",
       "    </tr>\n",
       "    <tr>\n",
       "      <th>3</th>\n",
       "      <td>1</td>\n",
       "      <td>02/26/2017</td>\n",
       "      <td>ordered shoe loved displayed blush pink color ...</td>\n",
       "      <td>color sample was way off</td>\n",
       "      <td>4002178_W</td>\n",
       "      <td>neg</td>\n",
       "    </tr>\n",
       "    <tr>\n",
       "      <th>4</th>\n",
       "      <td>5</td>\n",
       "      <td>09/15/2017</td>\n",
       "      <td>comfortable sneakers working running</td>\n",
       "      <td>awesome sneakers</td>\n",
       "      <td>4002179_W</td>\n",
       "      <td>pos</td>\n",
       "    </tr>\n",
       "  </tbody>\n",
       "</table>\n",
       "</div>"
      ],
      "text/plain": [
       "   rating  ratingDate                                     reviewComments  \\\n",
       "0       4  08/15/2017                                          beautiful   \n",
       "1       1  05/08/2017  actual product came looking much different onl...   \n",
       "2       1  04/10/2017  shoes look nothing like picture expected grey ...   \n",
       "3       1  02/26/2017  ordered shoe loved displayed blush pink color ...   \n",
       "4       5  09/15/2017               comfortable sneakers working running   \n",
       "\n",
       "                reviewTitle    modelId label  \n",
       "0                       NaN  4002178_W   pos  \n",
       "1             Disappointing  4002178_W   neg  \n",
       "2                       NaN  4002178_W   neg  \n",
       "3  color sample was way off  4002178_W   neg  \n",
       "4          awesome sneakers  4002179_W   pos  "
      ]
     },
     "execution_count": 43,
     "metadata": {},
     "output_type": "execute_result"
    }
   ],
   "source": [
    "reviewData_df['reviewComments'] = reviewData_df['reviewComments'].apply(preprocess_doc)\n",
    "reviewData_df['label'] = reviewData_df.apply(create_senti_label, axis = 1)\n",
    "reviewData_df.head()"
   ]
  },
  {
   "cell_type": "code",
   "execution_count": 44,
   "metadata": {},
   "outputs": [],
   "source": [
    "from nltk.sentiment.vader import SentimentIntensityAnalyzer"
   ]
  },
  {
   "cell_type": "markdown",
   "metadata": {},
   "source": [
    "#### Test a few samples"
   ]
  },
  {
   "cell_type": "code",
   "execution_count": 45,
   "metadata": {},
   "outputs": [],
   "source": [
    "sentences = [\n",
    "                \"The plot was good, but the characters are uncompelling and the dialog is not great.\", \n",
    "                \"A really bad, horrible book.\",       \n",
    "                \"At least it isn't a horrible book.\"\n",
    "            ]"
   ]
  },
  {
   "cell_type": "code",
   "execution_count": 46,
   "metadata": {
    "scrolled": true
   },
   "outputs": [
    {
     "name": "stdout",
     "output_type": "stream",
     "text": [
      "The plot was good, but the characters are uncompelling and the dialog is not great. {'neg': 0.327, 'neu': 0.579, 'pos': 0.094, 'compound': -0.7042}\n",
      "A really bad, horrible book.------------------------------------- {'neg': 0.791, 'neu': 0.209, 'pos': 0.0, 'compound': -0.8211}\n",
      "At least it isn't a horrible book.------------------------------- {'neg': 0.0, 'neu': 0.637, 'pos': 0.363, 'compound': 0.431}\n"
     ]
    }
   ],
   "source": [
    "analyzer = SentimentIntensityAnalyzer()\n",
    "for sentence in sentences:\n",
    "    vs = analyzer.polarity_scores(sentence)\n",
    "    print(\"{:-<65} {}\".format(sentence, str(vs)))"
   ]
  },
  {
   "cell_type": "markdown",
   "metadata": {},
   "source": [
    "#### Vader sentiment Scoring of all reviews"
   ]
  },
  {
   "cell_type": "code",
   "execution_count": 47,
   "metadata": {},
   "outputs": [],
   "source": [
    "senti_score = []\n",
    "count = 0\n",
    "for review in reviewData_df.loc[:, 'reviewComments']:\n",
    "    vs = analyzer.polarity_scores(review)\n",
    "    senti_score.append(sentiment_result(vs['compound']))"
   ]
  },
  {
   "cell_type": "code",
   "execution_count": 48,
   "metadata": {},
   "outputs": [
    {
     "data": {
      "text/html": [
       "<div>\n",
       "<style scoped>\n",
       "    .dataframe tbody tr th:only-of-type {\n",
       "        vertical-align: middle;\n",
       "    }\n",
       "\n",
       "    .dataframe tbody tr th {\n",
       "        vertical-align: top;\n",
       "    }\n",
       "\n",
       "    .dataframe thead th {\n",
       "        text-align: right;\n",
       "    }\n",
       "</style>\n",
       "<table border=\"1\" class=\"dataframe\">\n",
       "  <thead>\n",
       "    <tr style=\"text-align: right;\">\n",
       "      <th></th>\n",
       "      <th>rating</th>\n",
       "      <th>ratingDate</th>\n",
       "      <th>reviewComments</th>\n",
       "      <th>reviewTitle</th>\n",
       "      <th>modelId</th>\n",
       "      <th>label</th>\n",
       "      <th>sentiment</th>\n",
       "    </tr>\n",
       "  </thead>\n",
       "  <tbody>\n",
       "    <tr>\n",
       "      <th>0</th>\n",
       "      <td>4</td>\n",
       "      <td>08/15/2017</td>\n",
       "      <td>beautiful</td>\n",
       "      <td>NaN</td>\n",
       "      <td>4002178_W</td>\n",
       "      <td>pos</td>\n",
       "      <td>pos</td>\n",
       "    </tr>\n",
       "    <tr>\n",
       "      <th>1</th>\n",
       "      <td>1</td>\n",
       "      <td>05/08/2017</td>\n",
       "      <td>actual product came looking much different onl...</td>\n",
       "      <td>Disappointing</td>\n",
       "      <td>4002178_W</td>\n",
       "      <td>neg</td>\n",
       "      <td>neu</td>\n",
       "    </tr>\n",
       "    <tr>\n",
       "      <th>2</th>\n",
       "      <td>1</td>\n",
       "      <td>04/10/2017</td>\n",
       "      <td>shoes look nothing like picture expected grey ...</td>\n",
       "      <td>NaN</td>\n",
       "      <td>4002178_W</td>\n",
       "      <td>neg</td>\n",
       "      <td>neg</td>\n",
       "    </tr>\n",
       "    <tr>\n",
       "      <th>3</th>\n",
       "      <td>1</td>\n",
       "      <td>02/26/2017</td>\n",
       "      <td>ordered shoe loved displayed blush pink color ...</td>\n",
       "      <td>color sample was way off</td>\n",
       "      <td>4002178_W</td>\n",
       "      <td>neg</td>\n",
       "      <td>neu</td>\n",
       "    </tr>\n",
       "    <tr>\n",
       "      <th>4</th>\n",
       "      <td>5</td>\n",
       "      <td>09/15/2017</td>\n",
       "      <td>comfortable sneakers working running</td>\n",
       "      <td>awesome sneakers</td>\n",
       "      <td>4002179_W</td>\n",
       "      <td>pos</td>\n",
       "      <td>pos</td>\n",
       "    </tr>\n",
       "  </tbody>\n",
       "</table>\n",
       "</div>"
      ],
      "text/plain": [
       "   rating  ratingDate                                     reviewComments  \\\n",
       "0       4  08/15/2017                                          beautiful   \n",
       "1       1  05/08/2017  actual product came looking much different onl...   \n",
       "2       1  04/10/2017  shoes look nothing like picture expected grey ...   \n",
       "3       1  02/26/2017  ordered shoe loved displayed blush pink color ...   \n",
       "4       5  09/15/2017               comfortable sneakers working running   \n",
       "\n",
       "                reviewTitle    modelId label sentiment  \n",
       "0                       NaN  4002178_W   pos       pos  \n",
       "1             Disappointing  4002178_W   neg       neu  \n",
       "2                       NaN  4002178_W   neg       neg  \n",
       "3  color sample was way off  4002178_W   neg       neu  \n",
       "4          awesome sneakers  4002179_W   pos       pos  "
      ]
     },
     "execution_count": 48,
     "metadata": {},
     "output_type": "execute_result"
    }
   ],
   "source": [
    "reviewData_df['sentiment'] = senti_score\n",
    "reviewData_df.head()"
   ]
  },
  {
   "cell_type": "code",
   "execution_count": 49,
   "metadata": {},
   "outputs": [
    {
     "name": "stdout",
     "output_type": "stream",
     "text": [
      "             precision    recall  f1-score   support\n",
      "\n",
      "        neg       0.41      0.16      0.23       146\n",
      "        neu       0.21      0.40      0.28       365\n",
      "        pos       0.93      0.87      0.90      3777\n",
      "\n",
      "avg / total       0.85      0.81      0.82      4288\n",
      "\n"
     ]
    }
   ],
   "source": [
    "print classification_report(reviewData_df['label'], reviewData_df['sentiment'])"
   ]
  },
  {
   "cell_type": "markdown",
   "metadata": {},
   "source": [
    "** The Vader sentiment does a good job for positive sentiment but does poorly for negtaive and neutrual **"
   ]
  },
  {
   "cell_type": "markdown",
   "metadata": {},
   "source": [
    "\n",
    "## Text blob (Pattern based Model)"
   ]
  },
  {
   "cell_type": "markdown",
   "metadata": {},
   "source": [
    "Reload data"
   ]
  },
  {
   "cell_type": "code",
   "execution_count": 50,
   "metadata": {
    "scrolled": true
   },
   "outputs": [
    {
     "data": {
      "text/html": [
       "<div>\n",
       "<style scoped>\n",
       "    .dataframe tbody tr th:only-of-type {\n",
       "        vertical-align: middle;\n",
       "    }\n",
       "\n",
       "    .dataframe tbody tr th {\n",
       "        vertical-align: top;\n",
       "    }\n",
       "\n",
       "    .dataframe thead th {\n",
       "        text-align: right;\n",
       "    }\n",
       "</style>\n",
       "<table border=\"1\" class=\"dataframe\">\n",
       "  <thead>\n",
       "    <tr style=\"text-align: right;\">\n",
       "      <th></th>\n",
       "      <th>rating</th>\n",
       "      <th>ratingDate</th>\n",
       "      <th>reviewComments</th>\n",
       "      <th>reviewTitle</th>\n",
       "      <th>modelId</th>\n",
       "    </tr>\n",
       "  </thead>\n",
       "  <tbody>\n",
       "    <tr>\n",
       "      <th>0</th>\n",
       "      <td>4</td>\n",
       "      <td>08/15/2017</td>\n",
       "      <td>beautifullllllllllllllllllllllllllllllllllllll...</td>\n",
       "      <td>NaN</td>\n",
       "      <td>4002178_W</td>\n",
       "    </tr>\n",
       "    <tr>\n",
       "      <th>1</th>\n",
       "      <td>1</td>\n",
       "      <td>05/08/2017</td>\n",
       "      <td>The actual product came out looking much diffe...</td>\n",
       "      <td>Disappointing</td>\n",
       "      <td>4002178_W</td>\n",
       "    </tr>\n",
       "    <tr>\n",
       "      <th>2</th>\n",
       "      <td>1</td>\n",
       "      <td>04/10/2017</td>\n",
       "      <td>These shoes look nothing like the picture! I e...</td>\n",
       "      <td>NaN</td>\n",
       "      <td>4002178_W</td>\n",
       "    </tr>\n",
       "    <tr>\n",
       "      <th>3</th>\n",
       "      <td>1</td>\n",
       "      <td>02/26/2017</td>\n",
       "      <td>I ordered this shoe because i loved the displa...</td>\n",
       "      <td>color sample was way off</td>\n",
       "      <td>4002178_W</td>\n",
       "    </tr>\n",
       "    <tr>\n",
       "      <th>4</th>\n",
       "      <td>5</td>\n",
       "      <td>09/15/2017</td>\n",
       "      <td>They are comfortable sneakers for working out ...</td>\n",
       "      <td>awesome sneakers</td>\n",
       "      <td>4002179_W</td>\n",
       "    </tr>\n",
       "  </tbody>\n",
       "</table>\n",
       "</div>"
      ],
      "text/plain": [
       "   rating  ratingDate                                     reviewComments  \\\n",
       "0       4  08/15/2017  beautifullllllllllllllllllllllllllllllllllllll...   \n",
       "1       1  05/08/2017  The actual product came out looking much diffe...   \n",
       "2       1  04/10/2017  These shoes look nothing like the picture! I e...   \n",
       "3       1  02/26/2017  I ordered this shoe because i loved the displa...   \n",
       "4       5  09/15/2017  They are comfortable sneakers for working out ...   \n",
       "\n",
       "                reviewTitle    modelId  \n",
       "0                       NaN  4002178_W  \n",
       "1             Disappointing  4002178_W  \n",
       "2                       NaN  4002178_W  \n",
       "3  color sample was way off  4002178_W  \n",
       "4          awesome sneakers  4002179_W  "
      ]
     },
     "execution_count": 50,
     "metadata": {},
     "output_type": "execute_result"
    }
   ],
   "source": [
    "reviewData_df = pd.read_csv(\"product_reviews.csv\")\n",
    "reviewData_df.head()"
   ]
  },
  {
   "cell_type": "code",
   "execution_count": 51,
   "metadata": {},
   "outputs": [
    {
     "data": {
      "text/html": [
       "<div>\n",
       "<style scoped>\n",
       "    .dataframe tbody tr th:only-of-type {\n",
       "        vertical-align: middle;\n",
       "    }\n",
       "\n",
       "    .dataframe tbody tr th {\n",
       "        vertical-align: top;\n",
       "    }\n",
       "\n",
       "    .dataframe thead th {\n",
       "        text-align: right;\n",
       "    }\n",
       "</style>\n",
       "<table border=\"1\" class=\"dataframe\">\n",
       "  <thead>\n",
       "    <tr style=\"text-align: right;\">\n",
       "      <th></th>\n",
       "      <th>rating</th>\n",
       "      <th>ratingDate</th>\n",
       "      <th>reviewComments</th>\n",
       "      <th>reviewTitle</th>\n",
       "      <th>modelId</th>\n",
       "      <th>label</th>\n",
       "    </tr>\n",
       "  </thead>\n",
       "  <tbody>\n",
       "    <tr>\n",
       "      <th>0</th>\n",
       "      <td>4</td>\n",
       "      <td>08/15/2017</td>\n",
       "      <td>beautiful</td>\n",
       "      <td>NaN</td>\n",
       "      <td>4002178_W</td>\n",
       "      <td>pos</td>\n",
       "    </tr>\n",
       "    <tr>\n",
       "      <th>1</th>\n",
       "      <td>1</td>\n",
       "      <td>05/08/2017</td>\n",
       "      <td>actual product came looking much different onl...</td>\n",
       "      <td>Disappointing</td>\n",
       "      <td>4002178_W</td>\n",
       "      <td>neg</td>\n",
       "    </tr>\n",
       "    <tr>\n",
       "      <th>2</th>\n",
       "      <td>1</td>\n",
       "      <td>04/10/2017</td>\n",
       "      <td>shoes look nothing like picture expected grey ...</td>\n",
       "      <td>NaN</td>\n",
       "      <td>4002178_W</td>\n",
       "      <td>neg</td>\n",
       "    </tr>\n",
       "    <tr>\n",
       "      <th>3</th>\n",
       "      <td>1</td>\n",
       "      <td>02/26/2017</td>\n",
       "      <td>ordered shoe loved displayed blush pink color ...</td>\n",
       "      <td>color sample was way off</td>\n",
       "      <td>4002178_W</td>\n",
       "      <td>neg</td>\n",
       "    </tr>\n",
       "    <tr>\n",
       "      <th>4</th>\n",
       "      <td>5</td>\n",
       "      <td>09/15/2017</td>\n",
       "      <td>comfortable sneakers working running</td>\n",
       "      <td>awesome sneakers</td>\n",
       "      <td>4002179_W</td>\n",
       "      <td>pos</td>\n",
       "    </tr>\n",
       "  </tbody>\n",
       "</table>\n",
       "</div>"
      ],
      "text/plain": [
       "   rating  ratingDate                                     reviewComments  \\\n",
       "0       4  08/15/2017                                          beautiful   \n",
       "1       1  05/08/2017  actual product came looking much different onl...   \n",
       "2       1  04/10/2017  shoes look nothing like picture expected grey ...   \n",
       "3       1  02/26/2017  ordered shoe loved displayed blush pink color ...   \n",
       "4       5  09/15/2017               comfortable sneakers working running   \n",
       "\n",
       "                reviewTitle    modelId label  \n",
       "0                       NaN  4002178_W   pos  \n",
       "1             Disappointing  4002178_W   neg  \n",
       "2                       NaN  4002178_W   neg  \n",
       "3  color sample was way off  4002178_W   neg  \n",
       "4          awesome sneakers  4002179_W   pos  "
      ]
     },
     "execution_count": 51,
     "metadata": {},
     "output_type": "execute_result"
    }
   ],
   "source": [
    "reviewData_df['reviewComments'] = reviewData_df['reviewComments'].apply(preprocess_doc)\n",
    "reviewData_df['label'] = reviewData_df.apply(create_senti_label, axis = 1)\n",
    "reviewData_df.head()"
   ]
  },
  {
   "cell_type": "code",
   "execution_count": 52,
   "metadata": {},
   "outputs": [],
   "source": [
    "from textblob import TextBlob"
   ]
  },
  {
   "cell_type": "markdown",
   "metadata": {},
   "source": [
    "#### Test a few samples"
   ]
  },
  {
   "cell_type": "code",
   "execution_count": 53,
   "metadata": {
    "collapsed": true
   },
   "outputs": [],
   "source": [
    "sentences = [\n",
    "                \"The plot was good, but the characters are uncompelling and the dialog is not great.\", \n",
    "                \"A really bad, horrible book.\",       \n",
    "                \"At least it isn't a horrible book.\"\n",
    "            ]"
   ]
  },
  {
   "cell_type": "code",
   "execution_count": 54,
   "metadata": {},
   "outputs": [
    {
     "name": "stdout",
     "output_type": "stream",
     "text": [
      "Sentiment(polarity=0.14999999999999997, subjectivity=0.675)\n",
      "Sentiment(polarity=-0.8499999999999999, subjectivity=0.8333333333333333)\n",
      "Sentiment(polarity=-0.65, subjectivity=0.7)\n"
     ]
    }
   ],
   "source": [
    "for sentence in sentences:\n",
    "    testimonial = TextBlob(sentence)\n",
    "    print testimonial.sentiment"
   ]
  },
  {
   "cell_type": "code",
   "execution_count": 55,
   "metadata": {
    "collapsed": true
   },
   "outputs": [],
   "source": [
    "senti_score = []\n",
    "count = 0\n",
    "for review in reviewData_df.loc[:, 'reviewComments']:\n",
    "    testimonial = TextBlob(review)\n",
    "    senti_score.append(sentiment_result(testimonial.sentiment.polarity))"
   ]
  },
  {
   "cell_type": "code",
   "execution_count": 56,
   "metadata": {},
   "outputs": [
    {
     "data": {
      "text/html": [
       "<div>\n",
       "<style scoped>\n",
       "    .dataframe tbody tr th:only-of-type {\n",
       "        vertical-align: middle;\n",
       "    }\n",
       "\n",
       "    .dataframe tbody tr th {\n",
       "        vertical-align: top;\n",
       "    }\n",
       "\n",
       "    .dataframe thead th {\n",
       "        text-align: right;\n",
       "    }\n",
       "</style>\n",
       "<table border=\"1\" class=\"dataframe\">\n",
       "  <thead>\n",
       "    <tr style=\"text-align: right;\">\n",
       "      <th></th>\n",
       "      <th>rating</th>\n",
       "      <th>ratingDate</th>\n",
       "      <th>reviewComments</th>\n",
       "      <th>reviewTitle</th>\n",
       "      <th>modelId</th>\n",
       "      <th>label</th>\n",
       "      <th>sentiment</th>\n",
       "    </tr>\n",
       "  </thead>\n",
       "  <tbody>\n",
       "    <tr>\n",
       "      <th>0</th>\n",
       "      <td>4</td>\n",
       "      <td>08/15/2017</td>\n",
       "      <td>beautiful</td>\n",
       "      <td>NaN</td>\n",
       "      <td>4002178_W</td>\n",
       "      <td>pos</td>\n",
       "      <td>pos</td>\n",
       "    </tr>\n",
       "    <tr>\n",
       "      <th>1</th>\n",
       "      <td>1</td>\n",
       "      <td>05/08/2017</td>\n",
       "      <td>actual product came looking much different onl...</td>\n",
       "      <td>Disappointing</td>\n",
       "      <td>4002178_W</td>\n",
       "      <td>neg</td>\n",
       "      <td>neu</td>\n",
       "    </tr>\n",
       "    <tr>\n",
       "      <th>2</th>\n",
       "      <td>1</td>\n",
       "      <td>04/10/2017</td>\n",
       "      <td>shoes look nothing like picture expected grey ...</td>\n",
       "      <td>NaN</td>\n",
       "      <td>4002178_W</td>\n",
       "      <td>neg</td>\n",
       "      <td>neu</td>\n",
       "    </tr>\n",
       "    <tr>\n",
       "      <th>3</th>\n",
       "      <td>1</td>\n",
       "      <td>02/26/2017</td>\n",
       "      <td>ordered shoe loved displayed blush pink color ...</td>\n",
       "      <td>color sample was way off</td>\n",
       "      <td>4002178_W</td>\n",
       "      <td>neg</td>\n",
       "      <td>neu</td>\n",
       "    </tr>\n",
       "    <tr>\n",
       "      <th>4</th>\n",
       "      <td>5</td>\n",
       "      <td>09/15/2017</td>\n",
       "      <td>comfortable sneakers working running</td>\n",
       "      <td>awesome sneakers</td>\n",
       "      <td>4002179_W</td>\n",
       "      <td>pos</td>\n",
       "      <td>neu</td>\n",
       "    </tr>\n",
       "  </tbody>\n",
       "</table>\n",
       "</div>"
      ],
      "text/plain": [
       "   rating  ratingDate                                     reviewComments  \\\n",
       "0       4  08/15/2017                                          beautiful   \n",
       "1       1  05/08/2017  actual product came looking much different onl...   \n",
       "2       1  04/10/2017  shoes look nothing like picture expected grey ...   \n",
       "3       1  02/26/2017  ordered shoe loved displayed blush pink color ...   \n",
       "4       5  09/15/2017               comfortable sneakers working running   \n",
       "\n",
       "                reviewTitle    modelId label sentiment  \n",
       "0                       NaN  4002178_W   pos       pos  \n",
       "1             Disappointing  4002178_W   neg       neu  \n",
       "2                       NaN  4002178_W   neg       neu  \n",
       "3  color sample was way off  4002178_W   neg       neu  \n",
       "4          awesome sneakers  4002179_W   pos       neu  "
      ]
     },
     "execution_count": 56,
     "metadata": {},
     "output_type": "execute_result"
    }
   ],
   "source": [
    "reviewData_df['sentiment'] = senti_score\n",
    "reviewData_df.head()"
   ]
  },
  {
   "cell_type": "code",
   "execution_count": 57,
   "metadata": {},
   "outputs": [
    {
     "name": "stdout",
     "output_type": "stream",
     "text": [
      "             precision    recall  f1-score   support\n",
      "\n",
      "        neg       0.40      0.04      0.07       146\n",
      "        neu       0.11      0.92      0.20       365\n",
      "        pos       0.97      0.32      0.48      3777\n",
      "\n",
      "avg / total       0.88      0.36      0.44      4288\n",
      "\n"
     ]
    }
   ],
   "source": [
    "print classification_report(reviewData_df['label'], reviewData_df['sentiment'])"
   ]
  },
  {
   "cell_type": "markdown",
   "metadata": {},
   "source": [
    "** The textblob sentiment did worse than Vader, especially in negative and neural reviews**"
   ]
  },
  {
   "cell_type": "markdown",
   "metadata": {},
   "source": [
    "## Pattern Model"
   ]
  },
  {
   "cell_type": "markdown",
   "metadata": {},
   "source": [
    "Reload data"
   ]
  },
  {
   "cell_type": "code",
   "execution_count": 63,
   "metadata": {
    "scrolled": true
   },
   "outputs": [
    {
     "data": {
      "text/html": [
       "<div>\n",
       "<style scoped>\n",
       "    .dataframe tbody tr th:only-of-type {\n",
       "        vertical-align: middle;\n",
       "    }\n",
       "\n",
       "    .dataframe tbody tr th {\n",
       "        vertical-align: top;\n",
       "    }\n",
       "\n",
       "    .dataframe thead th {\n",
       "        text-align: right;\n",
       "    }\n",
       "</style>\n",
       "<table border=\"1\" class=\"dataframe\">\n",
       "  <thead>\n",
       "    <tr style=\"text-align: right;\">\n",
       "      <th></th>\n",
       "      <th>rating</th>\n",
       "      <th>ratingDate</th>\n",
       "      <th>reviewComments</th>\n",
       "      <th>reviewTitle</th>\n",
       "      <th>modelId</th>\n",
       "    </tr>\n",
       "  </thead>\n",
       "  <tbody>\n",
       "    <tr>\n",
       "      <th>0</th>\n",
       "      <td>4</td>\n",
       "      <td>08/15/2017</td>\n",
       "      <td>beautifullllllllllllllllllllllllllllllllllllll...</td>\n",
       "      <td>NaN</td>\n",
       "      <td>4002178_W</td>\n",
       "    </tr>\n",
       "    <tr>\n",
       "      <th>1</th>\n",
       "      <td>1</td>\n",
       "      <td>05/08/2017</td>\n",
       "      <td>The actual product came out looking much diffe...</td>\n",
       "      <td>Disappointing</td>\n",
       "      <td>4002178_W</td>\n",
       "    </tr>\n",
       "    <tr>\n",
       "      <th>2</th>\n",
       "      <td>1</td>\n",
       "      <td>04/10/2017</td>\n",
       "      <td>These shoes look nothing like the picture! I e...</td>\n",
       "      <td>NaN</td>\n",
       "      <td>4002178_W</td>\n",
       "    </tr>\n",
       "    <tr>\n",
       "      <th>3</th>\n",
       "      <td>1</td>\n",
       "      <td>02/26/2017</td>\n",
       "      <td>I ordered this shoe because i loved the displa...</td>\n",
       "      <td>color sample was way off</td>\n",
       "      <td>4002178_W</td>\n",
       "    </tr>\n",
       "    <tr>\n",
       "      <th>4</th>\n",
       "      <td>5</td>\n",
       "      <td>09/15/2017</td>\n",
       "      <td>They are comfortable sneakers for working out ...</td>\n",
       "      <td>awesome sneakers</td>\n",
       "      <td>4002179_W</td>\n",
       "    </tr>\n",
       "  </tbody>\n",
       "</table>\n",
       "</div>"
      ],
      "text/plain": [
       "   rating  ratingDate                                     reviewComments  \\\n",
       "0       4  08/15/2017  beautifullllllllllllllllllllllllllllllllllllll...   \n",
       "1       1  05/08/2017  The actual product came out looking much diffe...   \n",
       "2       1  04/10/2017  These shoes look nothing like the picture! I e...   \n",
       "3       1  02/26/2017  I ordered this shoe because i loved the displa...   \n",
       "4       5  09/15/2017  They are comfortable sneakers for working out ...   \n",
       "\n",
       "                reviewTitle    modelId  \n",
       "0                       NaN  4002178_W  \n",
       "1             Disappointing  4002178_W  \n",
       "2                       NaN  4002178_W  \n",
       "3  color sample was way off  4002178_W  \n",
       "4          awesome sneakers  4002179_W  "
      ]
     },
     "execution_count": 63,
     "metadata": {},
     "output_type": "execute_result"
    }
   ],
   "source": [
    "reviewData_df = pd.read_csv(\"product_reviews.csv\")\n",
    "reviewData_df.head()"
   ]
  },
  {
   "cell_type": "code",
   "execution_count": 64,
   "metadata": {},
   "outputs": [
    {
     "data": {
      "text/html": [
       "<div>\n",
       "<style scoped>\n",
       "    .dataframe tbody tr th:only-of-type {\n",
       "        vertical-align: middle;\n",
       "    }\n",
       "\n",
       "    .dataframe tbody tr th {\n",
       "        vertical-align: top;\n",
       "    }\n",
       "\n",
       "    .dataframe thead th {\n",
       "        text-align: right;\n",
       "    }\n",
       "</style>\n",
       "<table border=\"1\" class=\"dataframe\">\n",
       "  <thead>\n",
       "    <tr style=\"text-align: right;\">\n",
       "      <th></th>\n",
       "      <th>rating</th>\n",
       "      <th>ratingDate</th>\n",
       "      <th>reviewComments</th>\n",
       "      <th>reviewTitle</th>\n",
       "      <th>modelId</th>\n",
       "      <th>label</th>\n",
       "    </tr>\n",
       "  </thead>\n",
       "  <tbody>\n",
       "    <tr>\n",
       "      <th>0</th>\n",
       "      <td>4</td>\n",
       "      <td>08/15/2017</td>\n",
       "      <td>beautiful</td>\n",
       "      <td>NaN</td>\n",
       "      <td>4002178_W</td>\n",
       "      <td>pos</td>\n",
       "    </tr>\n",
       "    <tr>\n",
       "      <th>1</th>\n",
       "      <td>1</td>\n",
       "      <td>05/08/2017</td>\n",
       "      <td>actual product came looking much different onl...</td>\n",
       "      <td>Disappointing</td>\n",
       "      <td>4002178_W</td>\n",
       "      <td>neg</td>\n",
       "    </tr>\n",
       "    <tr>\n",
       "      <th>2</th>\n",
       "      <td>1</td>\n",
       "      <td>04/10/2017</td>\n",
       "      <td>shoes look nothing like picture expected grey ...</td>\n",
       "      <td>NaN</td>\n",
       "      <td>4002178_W</td>\n",
       "      <td>neg</td>\n",
       "    </tr>\n",
       "    <tr>\n",
       "      <th>3</th>\n",
       "      <td>1</td>\n",
       "      <td>02/26/2017</td>\n",
       "      <td>ordered shoe loved displayed blush pink color ...</td>\n",
       "      <td>color sample was way off</td>\n",
       "      <td>4002178_W</td>\n",
       "      <td>neg</td>\n",
       "    </tr>\n",
       "    <tr>\n",
       "      <th>4</th>\n",
       "      <td>5</td>\n",
       "      <td>09/15/2017</td>\n",
       "      <td>comfortable sneakers working running</td>\n",
       "      <td>awesome sneakers</td>\n",
       "      <td>4002179_W</td>\n",
       "      <td>pos</td>\n",
       "    </tr>\n",
       "  </tbody>\n",
       "</table>\n",
       "</div>"
      ],
      "text/plain": [
       "   rating  ratingDate                                     reviewComments  \\\n",
       "0       4  08/15/2017                                          beautiful   \n",
       "1       1  05/08/2017  actual product came looking much different onl...   \n",
       "2       1  04/10/2017  shoes look nothing like picture expected grey ...   \n",
       "3       1  02/26/2017  ordered shoe loved displayed blush pink color ...   \n",
       "4       5  09/15/2017               comfortable sneakers working running   \n",
       "\n",
       "                reviewTitle    modelId label  \n",
       "0                       NaN  4002178_W   pos  \n",
       "1             Disappointing  4002178_W   neg  \n",
       "2                       NaN  4002178_W   neg  \n",
       "3  color sample was way off  4002178_W   neg  \n",
       "4          awesome sneakers  4002179_W   pos  "
      ]
     },
     "execution_count": 64,
     "metadata": {},
     "output_type": "execute_result"
    }
   ],
   "source": [
    "reviewData_df['reviewComments'] = reviewData_df['reviewComments'].apply(preprocess_doc)\n",
    "reviewData_df['label'] = reviewData_df.apply(create_senti_label, axis = 1)\n",
    "reviewData_df.head()"
   ]
  },
  {
   "cell_type": "code",
   "execution_count": 65,
   "metadata": {},
   "outputs": [],
   "source": [
    "from pattern.en import sentiment"
   ]
  },
  {
   "cell_type": "code",
   "execution_count": 66,
   "metadata": {},
   "outputs": [],
   "source": [
    "sentences = [\n",
    "                \"The plot was good, but the characters are uncompelling and the dialog is not great.\", \n",
    "                \"A really bad, horrible book.\",       \n",
    "                \"At least it isn't a horrible book.\"\n",
    "            ]"
   ]
  },
  {
   "cell_type": "code",
   "execution_count": 67,
   "metadata": {},
   "outputs": [
    {
     "name": "stdout",
     "output_type": "stream",
     "text": [
      "(0.14999999999999997, 0.675)\n",
      "(-0.8499999999999999, 0.8333333333333333)\n",
      "(0.1, 0.7)\n"
     ]
    }
   ],
   "source": [
    "for sentence in sentences:\n",
    "    pattern_senti = sentiment(sentence)\n",
    "    print pattern_senti"
   ]
  },
  {
   "cell_type": "code",
   "execution_count": 68,
   "metadata": {},
   "outputs": [],
   "source": [
    "senti_score = []\n",
    "count = 0\n",
    "for review in reviewData_df.loc[:, 'reviewComments']:\n",
    "    pattern_senti = sentiment(review)\n",
    "    senti_score.append(sentiment_result(pattern_senti[0]))"
   ]
  },
  {
   "cell_type": "code",
   "execution_count": 69,
   "metadata": {},
   "outputs": [
    {
     "data": {
      "text/html": [
       "<div>\n",
       "<style scoped>\n",
       "    .dataframe tbody tr th:only-of-type {\n",
       "        vertical-align: middle;\n",
       "    }\n",
       "\n",
       "    .dataframe tbody tr th {\n",
       "        vertical-align: top;\n",
       "    }\n",
       "\n",
       "    .dataframe thead th {\n",
       "        text-align: right;\n",
       "    }\n",
       "</style>\n",
       "<table border=\"1\" class=\"dataframe\">\n",
       "  <thead>\n",
       "    <tr style=\"text-align: right;\">\n",
       "      <th></th>\n",
       "      <th>rating</th>\n",
       "      <th>ratingDate</th>\n",
       "      <th>reviewComments</th>\n",
       "      <th>reviewTitle</th>\n",
       "      <th>modelId</th>\n",
       "      <th>label</th>\n",
       "      <th>sentiment</th>\n",
       "    </tr>\n",
       "  </thead>\n",
       "  <tbody>\n",
       "    <tr>\n",
       "      <th>0</th>\n",
       "      <td>4</td>\n",
       "      <td>08/15/2017</td>\n",
       "      <td>beautiful</td>\n",
       "      <td>NaN</td>\n",
       "      <td>4002178_W</td>\n",
       "      <td>pos</td>\n",
       "      <td>pos</td>\n",
       "    </tr>\n",
       "    <tr>\n",
       "      <th>1</th>\n",
       "      <td>1</td>\n",
       "      <td>05/08/2017</td>\n",
       "      <td>actual product came looking much different onl...</td>\n",
       "      <td>Disappointing</td>\n",
       "      <td>4002178_W</td>\n",
       "      <td>neg</td>\n",
       "      <td>neu</td>\n",
       "    </tr>\n",
       "    <tr>\n",
       "      <th>2</th>\n",
       "      <td>1</td>\n",
       "      <td>04/10/2017</td>\n",
       "      <td>shoes look nothing like picture expected grey ...</td>\n",
       "      <td>NaN</td>\n",
       "      <td>4002178_W</td>\n",
       "      <td>neg</td>\n",
       "      <td>neu</td>\n",
       "    </tr>\n",
       "    <tr>\n",
       "      <th>3</th>\n",
       "      <td>1</td>\n",
       "      <td>02/26/2017</td>\n",
       "      <td>ordered shoe loved displayed blush pink color ...</td>\n",
       "      <td>color sample was way off</td>\n",
       "      <td>4002178_W</td>\n",
       "      <td>neg</td>\n",
       "      <td>neu</td>\n",
       "    </tr>\n",
       "    <tr>\n",
       "      <th>4</th>\n",
       "      <td>5</td>\n",
       "      <td>09/15/2017</td>\n",
       "      <td>comfortable sneakers working running</td>\n",
       "      <td>awesome sneakers</td>\n",
       "      <td>4002179_W</td>\n",
       "      <td>pos</td>\n",
       "      <td>neu</td>\n",
       "    </tr>\n",
       "  </tbody>\n",
       "</table>\n",
       "</div>"
      ],
      "text/plain": [
       "   rating  ratingDate                                     reviewComments  \\\n",
       "0       4  08/15/2017                                          beautiful   \n",
       "1       1  05/08/2017  actual product came looking much different onl...   \n",
       "2       1  04/10/2017  shoes look nothing like picture expected grey ...   \n",
       "3       1  02/26/2017  ordered shoe loved displayed blush pink color ...   \n",
       "4       5  09/15/2017               comfortable sneakers working running   \n",
       "\n",
       "                reviewTitle    modelId label sentiment  \n",
       "0                       NaN  4002178_W   pos       pos  \n",
       "1             Disappointing  4002178_W   neg       neu  \n",
       "2                       NaN  4002178_W   neg       neu  \n",
       "3  color sample was way off  4002178_W   neg       neu  \n",
       "4          awesome sneakers  4002179_W   pos       neu  "
      ]
     },
     "execution_count": 69,
     "metadata": {},
     "output_type": "execute_result"
    }
   ],
   "source": [
    "reviewData_df['sentiment'] = senti_score\n",
    "reviewData_df.head()"
   ]
  },
  {
   "cell_type": "code",
   "execution_count": 70,
   "metadata": {},
   "outputs": [
    {
     "name": "stdout",
     "output_type": "stream",
     "text": [
      "             precision    recall  f1-score   support\n",
      "\n",
      "        neg       0.40      0.04      0.07       146\n",
      "        neu       0.11      0.92      0.20       365\n",
      "        pos       0.97      0.32      0.48      3777\n",
      "\n",
      "avg / total       0.88      0.36      0.44      4288\n",
      "\n"
     ]
    }
   ],
   "source": [
    "print classification_report(reviewData_df['label'], reviewData_df['sentiment'])"
   ]
  },
  {
   "cell_type": "markdown",
   "metadata": {},
   "source": [
    "## Additional Resource\n",
    "\n",
    "https://github.com/laugustyniak/awesome-sentiment-analysis\n",
    "\n",
    "### Options:\n",
    "\n",
    "* Use APIs: There are many APIs to use but they are not free.\n",
    "* Train a sentiment model ideal choice but it will take time."
   ]
  }
 ],
 "metadata": {
  "kernelspec": {
   "display_name": "Python 2",
   "language": "python",
   "name": "python2"
  },
  "language_info": {
   "codemirror_mode": {
    "name": "ipython",
    "version": 2
   },
   "file_extension": ".py",
   "mimetype": "text/x-python",
   "name": "python",
   "nbconvert_exporter": "python",
   "pygments_lexer": "ipython2",
   "version": "2.7.14"
  }
 },
 "nbformat": 4,
 "nbformat_minor": 2
}
