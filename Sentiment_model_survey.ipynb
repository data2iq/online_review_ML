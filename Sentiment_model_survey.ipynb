{
 "cells": [
  {
   "cell_type": "markdown",
   "metadata": {},
   "source": [
    "# Sentiment Model Survey"
   ]
  },
  {
   "cell_type": "code",
   "execution_count": 78,
   "metadata": {},
   "outputs": [],
   "source": [
    "import json\n",
    "import pandas as pd\n",
    "import numpy as np\n",
    "import itertools\n",
    "import sys\n",
    "import re\n",
    "import string\n",
    "import nltk\n",
    "from collections import defaultdict\n",
    "from sklearn.metrics import classification_report, accuracy_score, f1_score"
   ]
  },
  {
   "cell_type": "markdown",
   "metadata": {},
   "source": [
    "## Preprocessng and Metrics Functions"
   ]
  },
  {
   "cell_type": "code",
   "execution_count": 136,
   "metadata": {},
   "outputs": [],
   "source": [
    "import re\n",
    "import string\n",
    "from nltk.corpus import stopwords\n",
    "from nltk import word_tokenize\n",
    "from nltk.stem import PorterStemmer\n",
    "\n",
    "## clean up strings\n",
    "def clean_str(string):\n",
    "    string = re.sub(r\"[^A-Za-z0-9(),!?\\'\\`]\", \" \", string)\n",
    "    string = re.sub(r\"\\'s\", \" \\'s\", string)\n",
    "    string = re.sub(r\"\\'ve\", \" \\'ve\", string)\n",
    "    string = re.sub(r\"\\'re\", \" \\'re\", string)\n",
    "    string = re.sub(r\"\\'d\", \" \\'d\", string)\n",
    "    string = re.sub(r\"\\'ll\", \" \\'ll\", string)\n",
    "    string = re.sub(r\",\", \" , \", string)\n",
    "    string = re.sub(r\"!\", \" ! \", string)\n",
    "    string = re.sub(r\"\\(\", \" \\( \", string)\n",
    "    string = re.sub(r\"\\)\", \" \\) \", string)\n",
    "    string = re.sub(r\"\\?\", \" \\? \", string)\n",
    "    string = re.sub(r\"(.)\\1\\1+$\", r\"\\1\", string)\n",
    "    string = re.sub(r\"\\s{2,}\", \" \", string)\n",
    "    return string.strip().lower()\n",
    "\n",
    "## preprocess punctutation, stop words, stemming\n",
    "def preprocess_stop_stem(text, punct=True, stem=False, stop=False, sent=False):\n",
    "    if punct:\n",
    "        regex = re.compile('[%s]' % re.escape(string.punctuation))\n",
    "        text = regex.sub('', text)\n",
    "    tokens = word_tokenize(text) \n",
    "    if stop:\n",
    "        stop = stopwords.words('english')\n",
    "        tokens =[word for word in tokens if word not in stop]\n",
    "        tokens = [word.lower() for word in tokens]\n",
    "    if stem:\n",
    "        stemmer = PorterStemmer()\n",
    "        tokens = [stemmer.stem(t) for t in tokens]\n",
    "    if sent:\n",
    "        tokens = ' '.join(tokens)\n",
    "    return tokens\n",
    "\n",
    "## preproces a sentence\n",
    "def preprocess_doc(doc):\n",
    "    return preprocess_stop_stem(clean_str(doc), punct=True, stem=False, stop=False, sent=True)\n",
    "\n",
    "## label to sentiment\n",
    "def create_senti_label(row):\n",
    "    if row['rating'] >= 3.7:\n",
    "        label = 'pos'\n",
    "    elif row['rating'] <= 1.25:\n",
    "        label = 'neg'\n",
    "    else:\n",
    "        label = 'neu'\n",
    "    return label\n",
    "\n",
    "## Sentiment score\n",
    "## convert to sentiment score between 0 - 10\n",
    "def sentiment_score(score):\n",
    "    return (score - (-1.0))*5\n",
    "    \n",
    "## Labe based on score range of 0 - 10\n",
    "## If > 7.5: pos\n",
    "## if < 2.5: neg\n",
    "## between 2.5 and 7.5 neu\n",
    "def sentiment_label(score):\n",
    "    if score >= 7.5:\n",
    "        return 'pos'\n",
    "    elif score > 2.5 and score < 7.5:\n",
    "        return 'neu'\n",
    "    elif score <= 2.5:\n",
    "        return 'neg'"
   ]
  },
  {
   "cell_type": "markdown",
   "metadata": {},
   "source": [
    "\n",
    "## Vader Lexicon (Rule Based Models)"
   ]
  },
  {
   "cell_type": "markdown",
   "metadata": {
    "collapsed": true
   },
   "source": [
    "We can use the \"rating\" the check the accuracy of the sentiment score"
   ]
  },
  {
   "cell_type": "code",
   "execution_count": 137,
   "metadata": {
    "scrolled": true
   },
   "outputs": [
    {
     "data": {
      "text/html": [
       "<div>\n",
       "<style scoped>\n",
       "    .dataframe tbody tr th:only-of-type {\n",
       "        vertical-align: middle;\n",
       "    }\n",
       "\n",
       "    .dataframe tbody tr th {\n",
       "        vertical-align: top;\n",
       "    }\n",
       "\n",
       "    .dataframe thead th {\n",
       "        text-align: right;\n",
       "    }\n",
       "</style>\n",
       "<table border=\"1\" class=\"dataframe\">\n",
       "  <thead>\n",
       "    <tr style=\"text-align: right;\">\n",
       "      <th></th>\n",
       "      <th>modelId</th>\n",
       "      <th>rating</th>\n",
       "      <th>ratingDate</th>\n",
       "      <th>review</th>\n",
       "      <th>reviewId</th>\n",
       "    </tr>\n",
       "  </thead>\n",
       "  <tbody>\n",
       "    <tr>\n",
       "      <th>0</th>\n",
       "      <td>4002178_M</td>\n",
       "      <td>3</td>\n",
       "      <td>08/15/2017</td>\n",
       "      <td>too small It was the second pair of this model...</td>\n",
       "      <td>92123050.0</td>\n",
       "    </tr>\n",
       "    <tr>\n",
       "      <th>1</th>\n",
       "      <td>4002178_M</td>\n",
       "      <td>5</td>\n",
       "      <td>07/10/2017</td>\n",
       "      <td>I used to love the Adios 2.0 and tried these ...</td>\n",
       "      <td>89969398.0</td>\n",
       "    </tr>\n",
       "    <tr>\n",
       "      <th>2</th>\n",
       "      <td>4002178_M</td>\n",
       "      <td>2</td>\n",
       "      <td>07/08/2017</td>\n",
       "      <td>Too tight around the toes. The most uncomfort...</td>\n",
       "      <td>89918548.0</td>\n",
       "    </tr>\n",
       "    <tr>\n",
       "      <th>3</th>\n",
       "      <td>4002178_M</td>\n",
       "      <td>5</td>\n",
       "      <td>06/22/2017</td>\n",
       "      <td>Really quick and light, it's like you aren't w...</td>\n",
       "      <td>89061405.0</td>\n",
       "    </tr>\n",
       "    <tr>\n",
       "      <th>4</th>\n",
       "      <td>4002178_M</td>\n",
       "      <td>2</td>\n",
       "      <td>05/23/2017</td>\n",
       "      <td>Unhappy Not happy at all, definitely half a si...</td>\n",
       "      <td>86923123.0</td>\n",
       "    </tr>\n",
       "  </tbody>\n",
       "</table>\n",
       "</div>"
      ],
      "text/plain": [
       "     modelId  rating  ratingDate  \\\n",
       "0  4002178_M       3  08/15/2017   \n",
       "1  4002178_M       5  07/10/2017   \n",
       "2  4002178_M       2  07/08/2017   \n",
       "3  4002178_M       5  06/22/2017   \n",
       "4  4002178_M       2  05/23/2017   \n",
       "\n",
       "                                              review    reviewId  \n",
       "0  too small It was the second pair of this model...  92123050.0  \n",
       "1   I used to love the Adios 2.0 and tried these ...  89969398.0  \n",
       "2   Too tight around the toes. The most uncomfort...  89918548.0  \n",
       "3  Really quick and light, it's like you aren't w...  89061405.0  \n",
       "4  Unhappy Not happy at all, definitely half a si...  86923123.0  "
      ]
     },
     "execution_count": 137,
     "metadata": {},
     "output_type": "execute_result"
    }
   ],
   "source": [
    "reviewData_df = pd.read_csv(\"product_reviews.csv\")\n",
    "reviewData_df.head()"
   ]
  },
  {
   "cell_type": "code",
   "execution_count": 138,
   "metadata": {},
   "outputs": [
    {
     "data": {
      "text/html": [
       "<div>\n",
       "<style scoped>\n",
       "    .dataframe tbody tr th:only-of-type {\n",
       "        vertical-align: middle;\n",
       "    }\n",
       "\n",
       "    .dataframe tbody tr th {\n",
       "        vertical-align: top;\n",
       "    }\n",
       "\n",
       "    .dataframe thead th {\n",
       "        text-align: right;\n",
       "    }\n",
       "</style>\n",
       "<table border=\"1\" class=\"dataframe\">\n",
       "  <thead>\n",
       "    <tr style=\"text-align: right;\">\n",
       "      <th></th>\n",
       "      <th>modelId</th>\n",
       "      <th>rating</th>\n",
       "      <th>ratingDate</th>\n",
       "      <th>review</th>\n",
       "      <th>reviewId</th>\n",
       "      <th>rate_label</th>\n",
       "    </tr>\n",
       "  </thead>\n",
       "  <tbody>\n",
       "    <tr>\n",
       "      <th>0</th>\n",
       "      <td>4002178_M</td>\n",
       "      <td>3</td>\n",
       "      <td>08/15/2017</td>\n",
       "      <td>too small it was the second pair of this model...</td>\n",
       "      <td>92123050.0</td>\n",
       "      <td>neu</td>\n",
       "    </tr>\n",
       "    <tr>\n",
       "      <th>1</th>\n",
       "      <td>4002178_M</td>\n",
       "      <td>5</td>\n",
       "      <td>07/10/2017</td>\n",
       "      <td>i used to love the adios 2 0 and tried these a...</td>\n",
       "      <td>89969398.0</td>\n",
       "      <td>pos</td>\n",
       "    </tr>\n",
       "    <tr>\n",
       "      <th>2</th>\n",
       "      <td>4002178_M</td>\n",
       "      <td>2</td>\n",
       "      <td>07/08/2017</td>\n",
       "      <td>too tight around the toes the most uncomfortab...</td>\n",
       "      <td>89918548.0</td>\n",
       "      <td>neu</td>\n",
       "    </tr>\n",
       "    <tr>\n",
       "      <th>3</th>\n",
       "      <td>4002178_M</td>\n",
       "      <td>5</td>\n",
       "      <td>06/22/2017</td>\n",
       "      <td>really quick and light it s like you arent wea...</td>\n",
       "      <td>89061405.0</td>\n",
       "      <td>pos</td>\n",
       "    </tr>\n",
       "    <tr>\n",
       "      <th>4</th>\n",
       "      <td>4002178_M</td>\n",
       "      <td>2</td>\n",
       "      <td>05/23/2017</td>\n",
       "      <td>unhappy not happy at all definitely half a siz...</td>\n",
       "      <td>86923123.0</td>\n",
       "      <td>neu</td>\n",
       "    </tr>\n",
       "  </tbody>\n",
       "</table>\n",
       "</div>"
      ],
      "text/plain": [
       "     modelId  rating  ratingDate  \\\n",
       "0  4002178_M       3  08/15/2017   \n",
       "1  4002178_M       5  07/10/2017   \n",
       "2  4002178_M       2  07/08/2017   \n",
       "3  4002178_M       5  06/22/2017   \n",
       "4  4002178_M       2  05/23/2017   \n",
       "\n",
       "                                              review    reviewId rate_label  \n",
       "0  too small it was the second pair of this model...  92123050.0        neu  \n",
       "1  i used to love the adios 2 0 and tried these a...  89969398.0        pos  \n",
       "2  too tight around the toes the most uncomfortab...  89918548.0        neu  \n",
       "3  really quick and light it s like you arent wea...  89061405.0        pos  \n",
       "4  unhappy not happy at all definitely half a siz...  86923123.0        neu  "
      ]
     },
     "execution_count": 138,
     "metadata": {},
     "output_type": "execute_result"
    }
   ],
   "source": [
    "reviewData_df['review'] = reviewData_df['review'].apply(preprocess_doc)\n",
    "reviewData_df['rate_label'] = reviewData_df.apply(create_senti_label, axis = 1)\n",
    "reviewData_df.head()"
   ]
  },
  {
   "cell_type": "code",
   "execution_count": 63,
   "metadata": {},
   "outputs": [],
   "source": [
    "from nltk.sentiment.vader import SentimentIntensityAnalyzer"
   ]
  },
  {
   "cell_type": "markdown",
   "metadata": {},
   "source": [
    "#### Test a few samples"
   ]
  },
  {
   "cell_type": "code",
   "execution_count": 7,
   "metadata": {},
   "outputs": [],
   "source": [
    "sentences = [\n",
    "                \"The plot was good, but the characters are uncompelling and the dialog is not great.\", \n",
    "                \"A really bad, horrible book.\",       \n",
    "                \"At least it isn't a horrible book.\"\n",
    "            ]"
   ]
  },
  {
   "cell_type": "code",
   "execution_count": 36,
   "metadata": {
    "scrolled": true
   },
   "outputs": [
    {
     "name": "stdout",
     "output_type": "stream",
     "text": [
      "The plot was good, but the characters are uncompelling and the dialog is not great. {'neg': 0.327, 'neu': 0.579, 'pos': 0.094, 'compound': -0.7042}\n",
      "A really bad, horrible book.------------------------------------- {'neg': 0.791, 'neu': 0.209, 'pos': 0.0, 'compound': -0.8211}\n",
      "At least it isn't a horrible book.------------------------------- {'neg': 0.0, 'neu': 0.637, 'pos': 0.363, 'compound': 0.431}\n"
     ]
    }
   ],
   "source": [
    "analyzer = SentimentIntensityAnalyzer()\n",
    "for sentence in sentences:\n",
    "    vs = analyzer.polarity_scores(sentence)\n",
    "    print(\"{:-<65} {}\".format(sentence, str(vs)))"
   ]
  },
  {
   "cell_type": "code",
   "execution_count": 37,
   "metadata": {},
   "outputs": [],
   "source": [
    "vs = analyzer.polarity_scores('A really bad, horrible book.')"
   ]
  },
  {
   "cell_type": "code",
   "execution_count": 124,
   "metadata": {},
   "outputs": [
    {
     "data": {
      "text/plain": [
       "['neg', 'neu', 'pos', 'compound']"
      ]
     },
     "execution_count": 124,
     "metadata": {},
     "output_type": "execute_result"
    }
   ],
   "source": [
    "vs.keys()"
   ]
  },
  {
   "cell_type": "markdown",
   "metadata": {},
   "source": [
    "#### Vader sentiment Scoring of all reviews"
   ]
  },
  {
   "cell_type": "code",
   "execution_count": 139,
   "metadata": {},
   "outputs": [],
   "source": [
    "senti_score = []\n",
    "neg_score = []\n",
    "pos_score = []\n",
    "neu_score = []\n",
    "senti_label = []\n",
    "count = 0\n",
    "for review in reviewData_df.loc[:, 'review']:\n",
    "    vs = analyzer.polarity_scores(review)\n",
    "    senti_score.append(sentiment_score(vs['compound']))\n",
    "    neg_score.append(sentiment_score(vs['neg']))\n",
    "    pos_score.append(sentiment_score(vs['pos']))\n",
    "    neu_score.append(sentiment_score(vs['neu']))\n",
    "    senti_label.append(sentiment_label(sentiment_score(vs['compound'])))"
   ]
  },
  {
   "cell_type": "code",
   "execution_count": 140,
   "metadata": {},
   "outputs": [
    {
     "data": {
      "text/html": [
       "<div>\n",
       "<style scoped>\n",
       "    .dataframe tbody tr th:only-of-type {\n",
       "        vertical-align: middle;\n",
       "    }\n",
       "\n",
       "    .dataframe tbody tr th {\n",
       "        vertical-align: top;\n",
       "    }\n",
       "\n",
       "    .dataframe thead th {\n",
       "        text-align: right;\n",
       "    }\n",
       "</style>\n",
       "<table border=\"1\" class=\"dataframe\">\n",
       "  <thead>\n",
       "    <tr style=\"text-align: right;\">\n",
       "      <th></th>\n",
       "      <th>modelId</th>\n",
       "      <th>rating</th>\n",
       "      <th>ratingDate</th>\n",
       "      <th>review</th>\n",
       "      <th>reviewId</th>\n",
       "      <th>rate_label</th>\n",
       "      <th>senti_score</th>\n",
       "      <th>senti_label</th>\n",
       "      <th>neg_score</th>\n",
       "      <th>pos_score</th>\n",
       "      <th>neu_score</th>\n",
       "    </tr>\n",
       "  </thead>\n",
       "  <tbody>\n",
       "    <tr>\n",
       "      <th>0</th>\n",
       "      <td>4002178_M</td>\n",
       "      <td>3</td>\n",
       "      <td>08/15/2017</td>\n",
       "      <td>too small it was the second pair of this model...</td>\n",
       "      <td>92123050.0</td>\n",
       "      <td>neu</td>\n",
       "      <td>6.0200</td>\n",
       "      <td>neu</td>\n",
       "      <td>5.325</td>\n",
       "      <td>5.400</td>\n",
       "      <td>9.280</td>\n",
       "    </tr>\n",
       "    <tr>\n",
       "      <th>1</th>\n",
       "      <td>4002178_M</td>\n",
       "      <td>5</td>\n",
       "      <td>07/10/2017</td>\n",
       "      <td>i used to love the adios 2 0 and tried these a...</td>\n",
       "      <td>89969398.0</td>\n",
       "      <td>pos</td>\n",
       "      <td>8.8445</td>\n",
       "      <td>pos</td>\n",
       "      <td>5.000</td>\n",
       "      <td>6.015</td>\n",
       "      <td>8.985</td>\n",
       "    </tr>\n",
       "    <tr>\n",
       "      <th>2</th>\n",
       "      <td>4002178_M</td>\n",
       "      <td>2</td>\n",
       "      <td>07/08/2017</td>\n",
       "      <td>too tight around the toes the most uncomfortab...</td>\n",
       "      <td>89918548.0</td>\n",
       "      <td>neu</td>\n",
       "      <td>2.8045</td>\n",
       "      <td>neu</td>\n",
       "      <td>6.040</td>\n",
       "      <td>5.000</td>\n",
       "      <td>8.960</td>\n",
       "    </tr>\n",
       "    <tr>\n",
       "      <th>3</th>\n",
       "      <td>4002178_M</td>\n",
       "      <td>5</td>\n",
       "      <td>06/22/2017</td>\n",
       "      <td>really quick and light it s like you arent wea...</td>\n",
       "      <td>89061405.0</td>\n",
       "      <td>pos</td>\n",
       "      <td>7.2880</td>\n",
       "      <td>neu</td>\n",
       "      <td>5.265</td>\n",
       "      <td>5.415</td>\n",
       "      <td>9.320</td>\n",
       "    </tr>\n",
       "    <tr>\n",
       "      <th>4</th>\n",
       "      <td>4002178_M</td>\n",
       "      <td>2</td>\n",
       "      <td>05/23/2017</td>\n",
       "      <td>unhappy not happy at all definitely half a siz...</td>\n",
       "      <td>86923123.0</td>\n",
       "      <td>neu</td>\n",
       "      <td>2.6185</td>\n",
       "      <td>neu</td>\n",
       "      <td>6.135</td>\n",
       "      <td>5.530</td>\n",
       "      <td>8.335</td>\n",
       "    </tr>\n",
       "  </tbody>\n",
       "</table>\n",
       "</div>"
      ],
      "text/plain": [
       "     modelId  rating  ratingDate  \\\n",
       "0  4002178_M       3  08/15/2017   \n",
       "1  4002178_M       5  07/10/2017   \n",
       "2  4002178_M       2  07/08/2017   \n",
       "3  4002178_M       5  06/22/2017   \n",
       "4  4002178_M       2  05/23/2017   \n",
       "\n",
       "                                              review    reviewId rate_label  \\\n",
       "0  too small it was the second pair of this model...  92123050.0        neu   \n",
       "1  i used to love the adios 2 0 and tried these a...  89969398.0        pos   \n",
       "2  too tight around the toes the most uncomfortab...  89918548.0        neu   \n",
       "3  really quick and light it s like you arent wea...  89061405.0        pos   \n",
       "4  unhappy not happy at all definitely half a siz...  86923123.0        neu   \n",
       "\n",
       "   senti_score senti_label  neg_score  pos_score  neu_score  \n",
       "0       6.0200         neu      5.325      5.400      9.280  \n",
       "1       8.8445         pos      5.000      6.015      8.985  \n",
       "2       2.8045         neu      6.040      5.000      8.960  \n",
       "3       7.2880         neu      5.265      5.415      9.320  \n",
       "4       2.6185         neu      6.135      5.530      8.335  "
      ]
     },
     "execution_count": 140,
     "metadata": {},
     "output_type": "execute_result"
    }
   ],
   "source": [
    "reviewData_df['senti_score'] = senti_score\n",
    "reviewData_df['senti_label'] = senti_label\n",
    "reviewData_df['neg_score'] = neg_score\n",
    "reviewData_df['pos_score'] = pos_score\n",
    "reviewData_df['neu_score'] = neu_score\n",
    "reviewData_df.head()"
   ]
  },
  {
   "cell_type": "code",
   "execution_count": 141,
   "metadata": {},
   "outputs": [
    {
     "name": "stdout",
     "output_type": "stream",
     "text": [
      "             precision    recall  f1-score   support\n",
      "\n",
      "        neg       0.39      0.35      0.37       705\n",
      "        neu       0.23      0.37      0.28      1577\n",
      "        pos       0.92      0.85      0.88     11513\n",
      "\n",
      "avg / total       0.81      0.77      0.79     13795\n",
      "\n"
     ]
    }
   ],
   "source": [
    "print classification_report(reviewData_df['rate_label'], reviewData_df['senti_label'])"
   ]
  },
  {
   "cell_type": "code",
   "execution_count": 142,
   "metadata": {},
   "outputs": [
    {
     "name": "stdout",
     "output_type": "stream",
     "text": [
      "0.7670895251902863\n"
     ]
    }
   ],
   "source": [
    "print accuracy_score(reviewData_df['rate_label'], reviewData_df['senti_label'])"
   ]
  },
  {
   "cell_type": "markdown",
   "metadata": {},
   "source": [
    "** The Vader sentiment does a good job for positive sentiment but does poorly for negtaive and neutrual **"
   ]
  },
  {
   "cell_type": "markdown",
   "metadata": {},
   "source": [
    "### Aggregation for shoe models"
   ]
  },
  {
   "cell_type": "code",
   "execution_count": 143,
   "metadata": {
    "scrolled": true
   },
   "outputs": [],
   "source": [
    "reviewData_df_agg = reviewData_df.groupby('modelId')"
   ]
  },
  {
   "cell_type": "code",
   "execution_count": 144,
   "metadata": {},
   "outputs": [
    {
     "data": {
      "text/html": [
       "<div>\n",
       "<style scoped>\n",
       "    .dataframe tbody tr th:only-of-type {\n",
       "        vertical-align: middle;\n",
       "    }\n",
       "\n",
       "    .dataframe tbody tr th {\n",
       "        vertical-align: top;\n",
       "    }\n",
       "\n",
       "    .dataframe thead th {\n",
       "        text-align: right;\n",
       "    }\n",
       "</style>\n",
       "<table border=\"1\" class=\"dataframe\">\n",
       "  <thead>\n",
       "    <tr style=\"text-align: right;\">\n",
       "      <th></th>\n",
       "      <th>rating</th>\n",
       "      <th>senti_score</th>\n",
       "      <th>neg_score</th>\n",
       "      <th>pos_score</th>\n",
       "      <th>neu_score</th>\n",
       "    </tr>\n",
       "    <tr>\n",
       "      <th>modelId</th>\n",
       "      <th></th>\n",
       "      <th></th>\n",
       "      <th></th>\n",
       "      <th></th>\n",
       "      <th></th>\n",
       "    </tr>\n",
       "  </thead>\n",
       "  <tbody>\n",
       "    <tr>\n",
       "      <th>100029</th>\n",
       "      <td>5.000000</td>\n",
       "      <td>8.858500</td>\n",
       "      <td>5.000000</td>\n",
       "      <td>7.865000</td>\n",
       "      <td>7.135000</td>\n",
       "    </tr>\n",
       "    <tr>\n",
       "      <th>110196</th>\n",
       "      <td>4.297710</td>\n",
       "      <td>7.505256</td>\n",
       "      <td>5.124924</td>\n",
       "      <td>6.598053</td>\n",
       "      <td>8.276870</td>\n",
       "    </tr>\n",
       "    <tr>\n",
       "      <th>110211</th>\n",
       "      <td>4.294118</td>\n",
       "      <td>7.531824</td>\n",
       "      <td>5.256275</td>\n",
       "      <td>6.399412</td>\n",
       "      <td>8.344412</td>\n",
       "    </tr>\n",
       "    <tr>\n",
       "      <th>110214</th>\n",
       "      <td>4.434783</td>\n",
       "      <td>8.229783</td>\n",
       "      <td>5.144130</td>\n",
       "      <td>6.432826</td>\n",
       "      <td>8.423043</td>\n",
       "    </tr>\n",
       "    <tr>\n",
       "      <th>110215</th>\n",
       "      <td>4.358491</td>\n",
       "      <td>8.188585</td>\n",
       "      <td>5.189009</td>\n",
       "      <td>6.459410</td>\n",
       "      <td>8.351675</td>\n",
       "    </tr>\n",
       "  </tbody>\n",
       "</table>\n",
       "</div>"
      ],
      "text/plain": [
       "           rating  senti_score  neg_score  pos_score  neu_score\n",
       "modelId                                                        \n",
       "100029   5.000000     8.858500   5.000000   7.865000   7.135000\n",
       "110196   4.297710     7.505256   5.124924   6.598053   8.276870\n",
       "110211   4.294118     7.531824   5.256275   6.399412   8.344412\n",
       "110214   4.434783     8.229783   5.144130   6.432826   8.423043\n",
       "110215   4.358491     8.188585   5.189009   6.459410   8.351675"
      ]
     },
     "execution_count": 144,
     "metadata": {},
     "output_type": "execute_result"
    }
   ],
   "source": [
    "reviewData_agg = reviewData_df_agg['rating', 'senti_score', 'neg_score', 'pos_score', 'neu_score'].apply(np.mean)\n",
    "reviewData_agg.head()"
   ]
  },
  {
   "cell_type": "code",
   "execution_count": 147,
   "metadata": {},
   "outputs": [
    {
     "data": {
      "text/html": [
       "<div>\n",
       "<style scoped>\n",
       "    .dataframe tbody tr th:only-of-type {\n",
       "        vertical-align: middle;\n",
       "    }\n",
       "\n",
       "    .dataframe tbody tr th {\n",
       "        vertical-align: top;\n",
       "    }\n",
       "\n",
       "    .dataframe thead th {\n",
       "        text-align: right;\n",
       "    }\n",
       "</style>\n",
       "<table border=\"1\" class=\"dataframe\">\n",
       "  <thead>\n",
       "    <tr style=\"text-align: right;\">\n",
       "      <th></th>\n",
       "      <th>modelId</th>\n",
       "      <th>rating</th>\n",
       "      <th>senti_score</th>\n",
       "      <th>neg_score</th>\n",
       "      <th>pos_score</th>\n",
       "      <th>neu_score</th>\n",
       "      <th>senti_label</th>\n",
       "    </tr>\n",
       "  </thead>\n",
       "  <tbody>\n",
       "    <tr>\n",
       "      <th>0</th>\n",
       "      <td>100029</td>\n",
       "      <td>5.000000</td>\n",
       "      <td>8.858500</td>\n",
       "      <td>5.000000</td>\n",
       "      <td>7.865000</td>\n",
       "      <td>7.135000</td>\n",
       "      <td>pos</td>\n",
       "    </tr>\n",
       "    <tr>\n",
       "      <th>1</th>\n",
       "      <td>110196</td>\n",
       "      <td>4.297710</td>\n",
       "      <td>7.505256</td>\n",
       "      <td>5.124924</td>\n",
       "      <td>6.598053</td>\n",
       "      <td>8.276870</td>\n",
       "      <td>pos</td>\n",
       "    </tr>\n",
       "    <tr>\n",
       "      <th>2</th>\n",
       "      <td>110211</td>\n",
       "      <td>4.294118</td>\n",
       "      <td>7.531824</td>\n",
       "      <td>5.256275</td>\n",
       "      <td>6.399412</td>\n",
       "      <td>8.344412</td>\n",
       "      <td>pos</td>\n",
       "    </tr>\n",
       "    <tr>\n",
       "      <th>3</th>\n",
       "      <td>110214</td>\n",
       "      <td>4.434783</td>\n",
       "      <td>8.229783</td>\n",
       "      <td>5.144130</td>\n",
       "      <td>6.432826</td>\n",
       "      <td>8.423043</td>\n",
       "      <td>pos</td>\n",
       "    </tr>\n",
       "    <tr>\n",
       "      <th>4</th>\n",
       "      <td>110215</td>\n",
       "      <td>4.358491</td>\n",
       "      <td>8.188585</td>\n",
       "      <td>5.189009</td>\n",
       "      <td>6.459410</td>\n",
       "      <td>8.351675</td>\n",
       "      <td>pos</td>\n",
       "    </tr>\n",
       "  </tbody>\n",
       "</table>\n",
       "</div>"
      ],
      "text/plain": [
       "  modelId    rating  senti_score  neg_score  pos_score  neu_score senti_label\n",
       "0  100029  5.000000     8.858500   5.000000   7.865000   7.135000         pos\n",
       "1  110196  4.297710     7.505256   5.124924   6.598053   8.276870         pos\n",
       "2  110211  4.294118     7.531824   5.256275   6.399412   8.344412         pos\n",
       "3  110214  4.434783     8.229783   5.144130   6.432826   8.423043         pos\n",
       "4  110215  4.358491     8.188585   5.189009   6.459410   8.351675         pos"
      ]
     },
     "execution_count": 147,
     "metadata": {},
     "output_type": "execute_result"
    }
   ],
   "source": [
    "senti_label = []\n",
    "for score in reviewData_agg.loc[:, 'senti_score']:\n",
    "    senti_label.append(sentiment_label(score))\n",
    "\n",
    "reviewData_agg['senti_label'] = senti_label\n",
    "reviewData_agg = reviewData_agg.reset_index()\n",
    "reviewData_agg.head()"
   ]
  },
  {
   "cell_type": "markdown",
   "metadata": {},
   "source": [
    "### Create some visual"
   ]
  },
  {
   "cell_type": "code",
   "execution_count": 146,
   "metadata": {},
   "outputs": [],
   "source": [
    "import seaborn as sns\n",
    "import matplotlib.pyplot as plt\n",
    "import plotly.plotly as py"
   ]
  },
  {
   "cell_type": "code",
   "execution_count": 184,
   "metadata": {},
   "outputs": [],
   "source": [
    "x = reviewData_agg.loc[0, 'senti_score':'neu_score']\n",
    "x = pd.DataFrame(x)\n",
    "x.rename(columns={0:'scores'}, inplace=True)\n",
    "x = x.transpose()"
   ]
  },
  {
   "cell_type": "code",
   "execution_count": 185,
   "metadata": {},
   "outputs": [
    {
     "data": {
      "image/png": "[encoded data removed]",
      "text/plain": [
       "<matplotlib.figure.Figure at 0x11c693ad0>"
      ]
     },
     "metadata": {},
     "output_type": "display_data"
    }
   ],
   "source": [
    "plt.figure(figsize = (15, 8))\n",
    "ax = sns.barplot(data=x)\n",
    "ax.set(xlabel = 'Scores Types', ylabel = 'Sentiment Scores')\n",
    "plt.show()"
   ]
  },
  {
   "cell_type": "markdown",
   "metadata": {},
   "source": [
    "### Donut plot example"
   ]
  },
  {
   "cell_type": "code",
   "execution_count": 188,
   "metadata": {},
   "outputs": [
    {
     "data": {
      "image/png": "[encoded data removed]",
      "text/plain": [
       "<matplotlib.figure.Figure at 0x11c8dc690>"
      ]
     },
     "metadata": {},
     "output_type": "display_data"
    }
   ],
   "source": [
    "# The slices will be ordered and plotted counter-clockwise.\n",
    "labels = 'neg_score', 'neu_score', 'pos_score'\n",
    "sizes = [x['neg_score'], x['neu_score'], x['pos_score']]\n",
    "colors = ['red', 'yellow', 'green']\n",
    "explode = (0, 0, 0)  # explode a slice if required\n",
    "\n",
    "plt.pie(sizes, explode=explode, labels=labels, colors=colors,\n",
    "        autopct='%1.1f%%', shadow=True)\n",
    "        \n",
    "#draw a circle at the center of pie to make it look like a donut\n",
    "centre_circle = plt.Circle((0,0),0.75,color='black', fc='white',linewidth=1.25)\n",
    "fig = plt.gcf()\n",
    "fig.gca().add_artist(centre_circle)\n",
    "\n",
    "\n",
    "# Set aspect ratio to be equal so that pie is drawn as a circle.\n",
    "plt.axis('equal')\n",
    "plt.show()  "
   ]
  },
  {
   "cell_type": "markdown",
   "metadata": {},
   "source": [
    "\n",
    "## Text blob (Pattern based Model)"
   ]
  },
  {
   "cell_type": "markdown",
   "metadata": {},
   "source": [
    "Reload data"
   ]
  },
  {
   "cell_type": "code",
   "execution_count": 50,
   "metadata": {
    "scrolled": true
   },
   "outputs": [
    {
     "data": {
      "text/html": [
       "<div>\n",
       "<style scoped>\n",
       "    .dataframe tbody tr th:only-of-type {\n",
       "        vertical-align: middle;\n",
       "    }\n",
       "\n",
       "    .dataframe tbody tr th {\n",
       "        vertical-align: top;\n",
       "    }\n",
       "\n",
       "    .dataframe thead th {\n",
       "        text-align: right;\n",
       "    }\n",
       "</style>\n",
       "<table border=\"1\" class=\"dataframe\">\n",
       "  <thead>\n",
       "    <tr style=\"text-align: right;\">\n",
       "      <th></th>\n",
       "      <th>rating</th>\n",
       "      <th>ratingDate</th>\n",
       "      <th>reviewComments</th>\n",
       "      <th>reviewTitle</th>\n",
       "      <th>modelId</th>\n",
       "    </tr>\n",
       "  </thead>\n",
       "  <tbody>\n",
       "    <tr>\n",
       "      <th>0</th>\n",
       "      <td>4</td>\n",
       "      <td>08/15/2017</td>\n",
       "      <td>beautifullllllllllllllllllllllllllllllllllllll...</td>\n",
       "      <td>NaN</td>\n",
       "      <td>4002178_W</td>\n",
       "    </tr>\n",
       "    <tr>\n",
       "      <th>1</th>\n",
       "      <td>1</td>\n",
       "      <td>05/08/2017</td>\n",
       "      <td>The actual product came out looking much diffe...</td>\n",
       "      <td>Disappointing</td>\n",
       "      <td>4002178_W</td>\n",
       "    </tr>\n",
       "    <tr>\n",
       "      <th>2</th>\n",
       "      <td>1</td>\n",
       "      <td>04/10/2017</td>\n",
       "      <td>These shoes look nothing like the picture! I e...</td>\n",
       "      <td>NaN</td>\n",
       "      <td>4002178_W</td>\n",
       "    </tr>\n",
       "    <tr>\n",
       "      <th>3</th>\n",
       "      <td>1</td>\n",
       "      <td>02/26/2017</td>\n",
       "      <td>I ordered this shoe because i loved the displa...</td>\n",
       "      <td>color sample was way off</td>\n",
       "      <td>4002178_W</td>\n",
       "    </tr>\n",
       "    <tr>\n",
       "      <th>4</th>\n",
       "      <td>5</td>\n",
       "      <td>09/15/2017</td>\n",
       "      <td>They are comfortable sneakers for working out ...</td>\n",
       "      <td>awesome sneakers</td>\n",
       "      <td>4002179_W</td>\n",
       "    </tr>\n",
       "  </tbody>\n",
       "</table>\n",
       "</div>"
      ],
      "text/plain": [
       "   rating  ratingDate                                     reviewComments  \\\n",
       "0       4  08/15/2017  beautifullllllllllllllllllllllllllllllllllllll...   \n",
       "1       1  05/08/2017  The actual product came out looking much diffe...   \n",
       "2       1  04/10/2017  These shoes look nothing like the picture! I e...   \n",
       "3       1  02/26/2017  I ordered this shoe because i loved the displa...   \n",
       "4       5  09/15/2017  They are comfortable sneakers for working out ...   \n",
       "\n",
       "                reviewTitle    modelId  \n",
       "0                       NaN  4002178_W  \n",
       "1             Disappointing  4002178_W  \n",
       "2                       NaN  4002178_W  \n",
       "3  color sample was way off  4002178_W  \n",
       "4          awesome sneakers  4002179_W  "
      ]
     },
     "execution_count": 50,
     "metadata": {},
     "output_type": "execute_result"
    }
   ],
   "source": [
    "reviewData_df = pd.read_csv(\"product_reviews.csv\")\n",
    "reviewData_df.head()"
   ]
  },
  {
   "cell_type": "code",
   "execution_count": 51,
   "metadata": {},
   "outputs": [
    {
     "data": {
      "text/html": [
       "<div>\n",
       "<style scoped>\n",
       "    .dataframe tbody tr th:only-of-type {\n",
       "        vertical-align: middle;\n",
       "    }\n",
       "\n",
       "    .dataframe tbody tr th {\n",
       "        vertical-align: top;\n",
       "    }\n",
       "\n",
       "    .dataframe thead th {\n",
       "        text-align: right;\n",
       "    }\n",
       "</style>\n",
       "<table border=\"1\" class=\"dataframe\">\n",
       "  <thead>\n",
       "    <tr style=\"text-align: right;\">\n",
       "      <th></th>\n",
       "      <th>rating</th>\n",
       "      <th>ratingDate</th>\n",
       "      <th>reviewComments</th>\n",
       "      <th>reviewTitle</th>\n",
       "      <th>modelId</th>\n",
       "      <th>label</th>\n",
       "    </tr>\n",
       "  </thead>\n",
       "  <tbody>\n",
       "    <tr>\n",
       "      <th>0</th>\n",
       "      <td>4</td>\n",
       "      <td>08/15/2017</td>\n",
       "      <td>beautiful</td>\n",
       "      <td>NaN</td>\n",
       "      <td>4002178_W</td>\n",
       "      <td>pos</td>\n",
       "    </tr>\n",
       "    <tr>\n",
       "      <th>1</th>\n",
       "      <td>1</td>\n",
       "      <td>05/08/2017</td>\n",
       "      <td>actual product came looking much different onl...</td>\n",
       "      <td>Disappointing</td>\n",
       "      <td>4002178_W</td>\n",
       "      <td>neg</td>\n",
       "    </tr>\n",
       "    <tr>\n",
       "      <th>2</th>\n",
       "      <td>1</td>\n",
       "      <td>04/10/2017</td>\n",
       "      <td>shoes look nothing like picture expected grey ...</td>\n",
       "      <td>NaN</td>\n",
       "      <td>4002178_W</td>\n",
       "      <td>neg</td>\n",
       "    </tr>\n",
       "    <tr>\n",
       "      <th>3</th>\n",
       "      <td>1</td>\n",
       "      <td>02/26/2017</td>\n",
       "      <td>ordered shoe loved displayed blush pink color ...</td>\n",
       "      <td>color sample was way off</td>\n",
       "      <td>4002178_W</td>\n",
       "      <td>neg</td>\n",
       "    </tr>\n",
       "    <tr>\n",
       "      <th>4</th>\n",
       "      <td>5</td>\n",
       "      <td>09/15/2017</td>\n",
       "      <td>comfortable sneakers working running</td>\n",
       "      <td>awesome sneakers</td>\n",
       "      <td>4002179_W</td>\n",
       "      <td>pos</td>\n",
       "    </tr>\n",
       "  </tbody>\n",
       "</table>\n",
       "</div>"
      ],
      "text/plain": [
       "   rating  ratingDate                                     reviewComments  \\\n",
       "0       4  08/15/2017                                          beautiful   \n",
       "1       1  05/08/2017  actual product came looking much different onl...   \n",
       "2       1  04/10/2017  shoes look nothing like picture expected grey ...   \n",
       "3       1  02/26/2017  ordered shoe loved displayed blush pink color ...   \n",
       "4       5  09/15/2017               comfortable sneakers working running   \n",
       "\n",
       "                reviewTitle    modelId label  \n",
       "0                       NaN  4002178_W   pos  \n",
       "1             Disappointing  4002178_W   neg  \n",
       "2                       NaN  4002178_W   neg  \n",
       "3  color sample was way off  4002178_W   neg  \n",
       "4          awesome sneakers  4002179_W   pos  "
      ]
     },
     "execution_count": 51,
     "metadata": {},
     "output_type": "execute_result"
    }
   ],
   "source": [
    "reviewData_df['reviewComments'] = reviewData_df['reviewComments'].apply(preprocess_doc)\n",
    "reviewData_df['label'] = reviewData_df.apply(create_senti_label, axis = 1)\n",
    "reviewData_df.head()"
   ]
  },
  {
   "cell_type": "code",
   "execution_count": 52,
   "metadata": {},
   "outputs": [],
   "source": [
    "from textblob import TextBlob"
   ]
  },
  {
   "cell_type": "markdown",
   "metadata": {},
   "source": [
    "#### Test a few samples"
   ]
  },
  {
   "cell_type": "code",
   "execution_count": 53,
   "metadata": {
    "collapsed": true
   },
   "outputs": [],
   "source": [
    "sentences = [\n",
    "                \"The plot was good, but the characters are uncompelling and the dialog is not great.\", \n",
    "                \"A really bad, horrible book.\",       \n",
    "                \"At least it isn't a horrible book.\"\n",
    "            ]"
   ]
  },
  {
   "cell_type": "code",
   "execution_count": 54,
   "metadata": {},
   "outputs": [
    {
     "name": "stdout",
     "output_type": "stream",
     "text": [
      "Sentiment(polarity=0.14999999999999997, subjectivity=0.675)\n",
      "Sentiment(polarity=-0.8499999999999999, subjectivity=0.8333333333333333)\n",
      "Sentiment(polarity=-0.65, subjectivity=0.7)\n"
     ]
    }
   ],
   "source": [
    "for sentence in sentences:\n",
    "    testimonial = TextBlob(sentence)\n",
    "    print testimonial.sentiment"
   ]
  },
  {
   "cell_type": "code",
   "execution_count": 55,
   "metadata": {
    "collapsed": true
   },
   "outputs": [],
   "source": [
    "senti_score = []\n",
    "count = 0\n",
    "for review in reviewData_df.loc[:, 'reviewComments']:\n",
    "    testimonial = TextBlob(review)\n",
    "    senti_score.append(sentiment_result(testimonial.sentiment.polarity))"
   ]
  },
  {
   "cell_type": "code",
   "execution_count": 56,
   "metadata": {},
   "outputs": [
    {
     "data": {
      "text/html": [
       "<div>\n",
       "<style scoped>\n",
       "    .dataframe tbody tr th:only-of-type {\n",
       "        vertical-align: middle;\n",
       "    }\n",
       "\n",
       "    .dataframe tbody tr th {\n",
       "        vertical-align: top;\n",
       "    }\n",
       "\n",
       "    .dataframe thead th {\n",
       "        text-align: right;\n",
       "    }\n",
       "</style>\n",
       "<table border=\"1\" class=\"dataframe\">\n",
       "  <thead>\n",
       "    <tr style=\"text-align: right;\">\n",
       "      <th></th>\n",
       "      <th>rating</th>\n",
       "      <th>ratingDate</th>\n",
       "      <th>reviewComments</th>\n",
       "      <th>reviewTitle</th>\n",
       "      <th>modelId</th>\n",
       "      <th>label</th>\n",
       "      <th>sentiment</th>\n",
       "    </tr>\n",
       "  </thead>\n",
       "  <tbody>\n",
       "    <tr>\n",
       "      <th>0</th>\n",
       "      <td>4</td>\n",
       "      <td>08/15/2017</td>\n",
       "      <td>beautiful</td>\n",
       "      <td>NaN</td>\n",
       "      <td>4002178_W</td>\n",
       "      <td>pos</td>\n",
       "      <td>pos</td>\n",
       "    </tr>\n",
       "    <tr>\n",
       "      <th>1</th>\n",
       "      <td>1</td>\n",
       "      <td>05/08/2017</td>\n",
       "      <td>actual product came looking much different onl...</td>\n",
       "      <td>Disappointing</td>\n",
       "      <td>4002178_W</td>\n",
       "      <td>neg</td>\n",
       "      <td>neu</td>\n",
       "    </tr>\n",
       "    <tr>\n",
       "      <th>2</th>\n",
       "      <td>1</td>\n",
       "      <td>04/10/2017</td>\n",
       "      <td>shoes look nothing like picture expected grey ...</td>\n",
       "      <td>NaN</td>\n",
       "      <td>4002178_W</td>\n",
       "      <td>neg</td>\n",
       "      <td>neu</td>\n",
       "    </tr>\n",
       "    <tr>\n",
       "      <th>3</th>\n",
       "      <td>1</td>\n",
       "      <td>02/26/2017</td>\n",
       "      <td>ordered shoe loved displayed blush pink color ...</td>\n",
       "      <td>color sample was way off</td>\n",
       "      <td>4002178_W</td>\n",
       "      <td>neg</td>\n",
       "      <td>neu</td>\n",
       "    </tr>\n",
       "    <tr>\n",
       "      <th>4</th>\n",
       "      <td>5</td>\n",
       "      <td>09/15/2017</td>\n",
       "      <td>comfortable sneakers working running</td>\n",
       "      <td>awesome sneakers</td>\n",
       "      <td>4002179_W</td>\n",
       "      <td>pos</td>\n",
       "      <td>neu</td>\n",
       "    </tr>\n",
       "  </tbody>\n",
       "</table>\n",
       "</div>"
      ],
      "text/plain": [
       "   rating  ratingDate                                     reviewComments  \\\n",
       "0       4  08/15/2017                                          beautiful   \n",
       "1       1  05/08/2017  actual product came looking much different onl...   \n",
       "2       1  04/10/2017  shoes look nothing like picture expected grey ...   \n",
       "3       1  02/26/2017  ordered shoe loved displayed blush pink color ...   \n",
       "4       5  09/15/2017               comfortable sneakers working running   \n",
       "\n",
       "                reviewTitle    modelId label sentiment  \n",
       "0                       NaN  4002178_W   pos       pos  \n",
       "1             Disappointing  4002178_W   neg       neu  \n",
       "2                       NaN  4002178_W   neg       neu  \n",
       "3  color sample was way off  4002178_W   neg       neu  \n",
       "4          awesome sneakers  4002179_W   pos       neu  "
      ]
     },
     "execution_count": 56,
     "metadata": {},
     "output_type": "execute_result"
    }
   ],
   "source": [
    "reviewData_df['sentiment'] = senti_score\n",
    "reviewData_df.head()"
   ]
  },
  {
   "cell_type": "code",
   "execution_count": 57,
   "metadata": {},
   "outputs": [
    {
     "name": "stdout",
     "output_type": "stream",
     "text": [
      "             precision    recall  f1-score   support\n",
      "\n",
      "        neg       0.40      0.04      0.07       146\n",
      "        neu       0.11      0.92      0.20       365\n",
      "        pos       0.97      0.32      0.48      3777\n",
      "\n",
      "avg / total       0.88      0.36      0.44      4288\n",
      "\n"
     ]
    }
   ],
   "source": [
    "print classification_report(reviewData_df['label'], reviewData_df['sentiment'])"
   ]
  },
  {
   "cell_type": "markdown",
   "metadata": {},
   "source": [
    "** The textblob sentiment did worse than Vader, especially in negative and neural reviews**"
   ]
  },
  {
   "cell_type": "markdown",
   "metadata": {},
   "source": [
    "## Pattern Model"
   ]
  },
  {
   "cell_type": "markdown",
   "metadata": {},
   "source": [
    "Reload data"
   ]
  },
  {
   "cell_type": "code",
   "execution_count": 63,
   "metadata": {
    "scrolled": true
   },
   "outputs": [
    {
     "data": {
      "text/html": [
       "<div>\n",
       "<style scoped>\n",
       "    .dataframe tbody tr th:only-of-type {\n",
       "        vertical-align: middle;\n",
       "    }\n",
       "\n",
       "    .dataframe tbody tr th {\n",
       "        vertical-align: top;\n",
       "    }\n",
       "\n",
       "    .dataframe thead th {\n",
       "        text-align: right;\n",
       "    }\n",
       "</style>\n",
       "<table border=\"1\" class=\"dataframe\">\n",
       "  <thead>\n",
       "    <tr style=\"text-align: right;\">\n",
       "      <th></th>\n",
       "      <th>rating</th>\n",
       "      <th>ratingDate</th>\n",
       "      <th>reviewComments</th>\n",
       "      <th>reviewTitle</th>\n",
       "      <th>modelId</th>\n",
       "    </tr>\n",
       "  </thead>\n",
       "  <tbody>\n",
       "    <tr>\n",
       "      <th>0</th>\n",
       "      <td>4</td>\n",
       "      <td>08/15/2017</td>\n",
       "      <td>beautifullllllllllllllllllllllllllllllllllllll...</td>\n",
       "      <td>NaN</td>\n",
       "      <td>4002178_W</td>\n",
       "    </tr>\n",
       "    <tr>\n",
       "      <th>1</th>\n",
       "      <td>1</td>\n",
       "      <td>05/08/2017</td>\n",
       "      <td>The actual product came out looking much diffe...</td>\n",
       "      <td>Disappointing</td>\n",
       "      <td>4002178_W</td>\n",
       "    </tr>\n",
       "    <tr>\n",
       "      <th>2</th>\n",
       "      <td>1</td>\n",
       "      <td>04/10/2017</td>\n",
       "      <td>These shoes look nothing like the picture! I e...</td>\n",
       "      <td>NaN</td>\n",
       "      <td>4002178_W</td>\n",
       "    </tr>\n",
       "    <tr>\n",
       "      <th>3</th>\n",
       "      <td>1</td>\n",
       "      <td>02/26/2017</td>\n",
       "      <td>I ordered this shoe because i loved the displa...</td>\n",
       "      <td>color sample was way off</td>\n",
       "      <td>4002178_W</td>\n",
       "    </tr>\n",
       "    <tr>\n",
       "      <th>4</th>\n",
       "      <td>5</td>\n",
       "      <td>09/15/2017</td>\n",
       "      <td>They are comfortable sneakers for working out ...</td>\n",
       "      <td>awesome sneakers</td>\n",
       "      <td>4002179_W</td>\n",
       "    </tr>\n",
       "  </tbody>\n",
       "</table>\n",
       "</div>"
      ],
      "text/plain": [
       "   rating  ratingDate                                     reviewComments  \\\n",
       "0       4  08/15/2017  beautifullllllllllllllllllllllllllllllllllllll...   \n",
       "1       1  05/08/2017  The actual product came out looking much diffe...   \n",
       "2       1  04/10/2017  These shoes look nothing like the picture! I e...   \n",
       "3       1  02/26/2017  I ordered this shoe because i loved the displa...   \n",
       "4       5  09/15/2017  They are comfortable sneakers for working out ...   \n",
       "\n",
       "                reviewTitle    modelId  \n",
       "0                       NaN  4002178_W  \n",
       "1             Disappointing  4002178_W  \n",
       "2                       NaN  4002178_W  \n",
       "3  color sample was way off  4002178_W  \n",
       "4          awesome sneakers  4002179_W  "
      ]
     },
     "execution_count": 63,
     "metadata": {},
     "output_type": "execute_result"
    }
   ],
   "source": [
    "reviewData_df = pd.read_csv(\"product_reviews.csv\")\n",
    "reviewData_df.head()"
   ]
  },
  {
   "cell_type": "code",
   "execution_count": 64,
   "metadata": {},
   "outputs": [
    {
     "data": {
      "text/html": [
       "<div>\n",
       "<style scoped>\n",
       "    .dataframe tbody tr th:only-of-type {\n",
       "        vertical-align: middle;\n",
       "    }\n",
       "\n",
       "    .dataframe tbody tr th {\n",
       "        vertical-align: top;\n",
       "    }\n",
       "\n",
       "    .dataframe thead th {\n",
       "        text-align: right;\n",
       "    }\n",
       "</style>\n",
       "<table border=\"1\" class=\"dataframe\">\n",
       "  <thead>\n",
       "    <tr style=\"text-align: right;\">\n",
       "      <th></th>\n",
       "      <th>rating</th>\n",
       "      <th>ratingDate</th>\n",
       "      <th>reviewComments</th>\n",
       "      <th>reviewTitle</th>\n",
       "      <th>modelId</th>\n",
       "      <th>label</th>\n",
       "    </tr>\n",
       "  </thead>\n",
       "  <tbody>\n",
       "    <tr>\n",
       "      <th>0</th>\n",
       "      <td>4</td>\n",
       "      <td>08/15/2017</td>\n",
       "      <td>beautiful</td>\n",
       "      <td>NaN</td>\n",
       "      <td>4002178_W</td>\n",
       "      <td>pos</td>\n",
       "    </tr>\n",
       "    <tr>\n",
       "      <th>1</th>\n",
       "      <td>1</td>\n",
       "      <td>05/08/2017</td>\n",
       "      <td>actual product came looking much different onl...</td>\n",
       "      <td>Disappointing</td>\n",
       "      <td>4002178_W</td>\n",
       "      <td>neg</td>\n",
       "    </tr>\n",
       "    <tr>\n",
       "      <th>2</th>\n",
       "      <td>1</td>\n",
       "      <td>04/10/2017</td>\n",
       "      <td>shoes look nothing like picture expected grey ...</td>\n",
       "      <td>NaN</td>\n",
       "      <td>4002178_W</td>\n",
       "      <td>neg</td>\n",
       "    </tr>\n",
       "    <tr>\n",
       "      <th>3</th>\n",
       "      <td>1</td>\n",
       "      <td>02/26/2017</td>\n",
       "      <td>ordered shoe loved displayed blush pink color ...</td>\n",
       "      <td>color sample was way off</td>\n",
       "      <td>4002178_W</td>\n",
       "      <td>neg</td>\n",
       "    </tr>\n",
       "    <tr>\n",
       "      <th>4</th>\n",
       "      <td>5</td>\n",
       "      <td>09/15/2017</td>\n",
       "      <td>comfortable sneakers working running</td>\n",
       "      <td>awesome sneakers</td>\n",
       "      <td>4002179_W</td>\n",
       "      <td>pos</td>\n",
       "    </tr>\n",
       "  </tbody>\n",
       "</table>\n",
       "</div>"
      ],
      "text/plain": [
       "   rating  ratingDate                                     reviewComments  \\\n",
       "0       4  08/15/2017                                          beautiful   \n",
       "1       1  05/08/2017  actual product came looking much different onl...   \n",
       "2       1  04/10/2017  shoes look nothing like picture expected grey ...   \n",
       "3       1  02/26/2017  ordered shoe loved displayed blush pink color ...   \n",
       "4       5  09/15/2017               comfortable sneakers working running   \n",
       "\n",
       "                reviewTitle    modelId label  \n",
       "0                       NaN  4002178_W   pos  \n",
       "1             Disappointing  4002178_W   neg  \n",
       "2                       NaN  4002178_W   neg  \n",
       "3  color sample was way off  4002178_W   neg  \n",
       "4          awesome sneakers  4002179_W   pos  "
      ]
     },
     "execution_count": 64,
     "metadata": {},
     "output_type": "execute_result"
    }
   ],
   "source": [
    "reviewData_df['reviewComments'] = reviewData_df['reviewComments'].apply(preprocess_doc)\n",
    "reviewData_df['label'] = reviewData_df.apply(create_senti_label, axis = 1)\n",
    "reviewData_df.head()"
   ]
  },
  {
   "cell_type": "code",
   "execution_count": 65,
   "metadata": {},
   "outputs": [],
   "source": [
    "from pattern.en import sentiment"
   ]
  },
  {
   "cell_type": "code",
   "execution_count": 66,
   "metadata": {},
   "outputs": [],
   "source": [
    "sentences = [\n",
    "                \"The plot was good, but the characters are uncompelling and the dialog is not great.\", \n",
    "                \"A really bad, horrible book.\",       \n",
    "                \"At least it isn't a horrible book.\"\n",
    "            ]"
   ]
  },
  {
   "cell_type": "code",
   "execution_count": 67,
   "metadata": {},
   "outputs": [
    {
     "name": "stdout",
     "output_type": "stream",
     "text": [
      "(0.14999999999999997, 0.675)\n",
      "(-0.8499999999999999, 0.8333333333333333)\n",
      "(0.1, 0.7)\n"
     ]
    }
   ],
   "source": [
    "for sentence in sentences:\n",
    "    pattern_senti = sentiment(sentence)\n",
    "    print pattern_senti"
   ]
  },
  {
   "cell_type": "code",
   "execution_count": 68,
   "metadata": {},
   "outputs": [],
   "source": [
    "senti_score = []\n",
    "count = 0\n",
    "for review in reviewData_df.loc[:, 'reviewComments']:\n",
    "    pattern_senti = sentiment(review)\n",
    "    senti_score.append(sentiment_result(pattern_senti[0]))"
   ]
  },
  {
   "cell_type": "code",
   "execution_count": 69,
   "metadata": {},
   "outputs": [
    {
     "data": {
      "text/html": [
       "<div>\n",
       "<style scoped>\n",
       "    .dataframe tbody tr th:only-of-type {\n",
       "        vertical-align: middle;\n",
       "    }\n",
       "\n",
       "    .dataframe tbody tr th {\n",
       "        vertical-align: top;\n",
       "    }\n",
       "\n",
       "    .dataframe thead th {\n",
       "        text-align: right;\n",
       "    }\n",
       "</style>\n",
       "<table border=\"1\" class=\"dataframe\">\n",
       "  <thead>\n",
       "    <tr style=\"text-align: right;\">\n",
       "      <th></th>\n",
       "      <th>rating</th>\n",
       "      <th>ratingDate</th>\n",
       "      <th>reviewComments</th>\n",
       "      <th>reviewTitle</th>\n",
       "      <th>modelId</th>\n",
       "      <th>label</th>\n",
       "      <th>sentiment</th>\n",
       "    </tr>\n",
       "  </thead>\n",
       "  <tbody>\n",
       "    <tr>\n",
       "      <th>0</th>\n",
       "      <td>4</td>\n",
       "      <td>08/15/2017</td>\n",
       "      <td>beautiful</td>\n",
       "      <td>NaN</td>\n",
       "      <td>4002178_W</td>\n",
       "      <td>pos</td>\n",
       "      <td>pos</td>\n",
       "    </tr>\n",
       "    <tr>\n",
       "      <th>1</th>\n",
       "      <td>1</td>\n",
       "      <td>05/08/2017</td>\n",
       "      <td>actual product came looking much different onl...</td>\n",
       "      <td>Disappointing</td>\n",
       "      <td>4002178_W</td>\n",
       "      <td>neg</td>\n",
       "      <td>neu</td>\n",
       "    </tr>\n",
       "    <tr>\n",
       "      <th>2</th>\n",
       "      <td>1</td>\n",
       "      <td>04/10/2017</td>\n",
       "      <td>shoes look nothing like picture expected grey ...</td>\n",
       "      <td>NaN</td>\n",
       "      <td>4002178_W</td>\n",
       "      <td>neg</td>\n",
       "      <td>neu</td>\n",
       "    </tr>\n",
       "    <tr>\n",
       "      <th>3</th>\n",
       "      <td>1</td>\n",
       "      <td>02/26/2017</td>\n",
       "      <td>ordered shoe loved displayed blush pink color ...</td>\n",
       "      <td>color sample was way off</td>\n",
       "      <td>4002178_W</td>\n",
       "      <td>neg</td>\n",
       "      <td>neu</td>\n",
       "    </tr>\n",
       "    <tr>\n",
       "      <th>4</th>\n",
       "      <td>5</td>\n",
       "      <td>09/15/2017</td>\n",
       "      <td>comfortable sneakers working running</td>\n",
       "      <td>awesome sneakers</td>\n",
       "      <td>4002179_W</td>\n",
       "      <td>pos</td>\n",
       "      <td>neu</td>\n",
       "    </tr>\n",
       "  </tbody>\n",
       "</table>\n",
       "</div>"
      ],
      "text/plain": [
       "   rating  ratingDate                                     reviewComments  \\\n",
       "0       4  08/15/2017                                          beautiful   \n",
       "1       1  05/08/2017  actual product came looking much different onl...   \n",
       "2       1  04/10/2017  shoes look nothing like picture expected grey ...   \n",
       "3       1  02/26/2017  ordered shoe loved displayed blush pink color ...   \n",
       "4       5  09/15/2017               comfortable sneakers working running   \n",
       "\n",
       "                reviewTitle    modelId label sentiment  \n",
       "0                       NaN  4002178_W   pos       pos  \n",
       "1             Disappointing  4002178_W   neg       neu  \n",
       "2                       NaN  4002178_W   neg       neu  \n",
       "3  color sample was way off  4002178_W   neg       neu  \n",
       "4          awesome sneakers  4002179_W   pos       neu  "
      ]
     },
     "execution_count": 69,
     "metadata": {},
     "output_type": "execute_result"
    }
   ],
   "source": [
    "reviewData_df['sentiment'] = senti_score\n",
    "reviewData_df.head()"
   ]
  },
  {
   "cell_type": "code",
   "execution_count": 70,
   "metadata": {},
   "outputs": [
    {
     "name": "stdout",
     "output_type": "stream",
     "text": [
      "             precision    recall  f1-score   support\n",
      "\n",
      "        neg       0.40      0.04      0.07       146\n",
      "        neu       0.11      0.92      0.20       365\n",
      "        pos       0.97      0.32      0.48      3777\n",
      "\n",
      "avg / total       0.88      0.36      0.44      4288\n",
      "\n"
     ]
    }
   ],
   "source": [
    "print classification_report(reviewData_df['label'], reviewData_df['sentiment'])"
   ]
  },
  {
   "cell_type": "markdown",
   "metadata": {},
   "source": [
    "## Additional Resource\n",
    "\n",
    "https://github.com/laugustyniak/awesome-sentiment-analysis\n",
    "\n",
    "### Options:\n",
    "\n",
    "* Use APIs: There are many APIs to use but they are not free.\n",
    "* Train a sentiment model ideal choice but it will take time."
   ]
  }
 ],
 "metadata": {
  "kernelspec": {
   "display_name": "Python 2",
   "language": "python",
   "name": "python2"
  },
  "language_info": {
   "codemirror_mode": {
    "name": "ipython",
    "version": 2
   },
   "file_extension": ".py",
   "mimetype": "text/x-python",
   "name": "python",
   "nbconvert_exporter": "python",
   "pygments_lexer": "ipython2",
   "version": "2.7.14"
  }
 },
 "nbformat": 4,
 "nbformat_minor": 2
}
