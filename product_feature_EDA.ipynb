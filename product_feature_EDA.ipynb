{
 "cells": [
  {
   "cell_type": "code",
   "execution_count": 3,
   "metadata": {},
   "outputs": [],
   "source": [
    "import json\n",
    "import pandas as pd\n",
    "import itertools\n",
    "import sys\n",
    "import re\n",
    "import string\n",
    "import nltk\n",
    "from collections import defaultdict\n",
    "from sklearn.metrics import classification_report, accuracy_score, f1_score"
   ]
  },
  {
   "cell_type": "code",
   "execution_count": 4,
   "metadata": {},
   "outputs": [
    {
     "data": {
      "text/html": [
       "<div>\n",
       "<style scoped>\n",
       "    .dataframe tbody tr th:only-of-type {\n",
       "        vertical-align: middle;\n",
       "    }\n",
       "\n",
       "    .dataframe tbody tr th {\n",
       "        vertical-align: top;\n",
       "    }\n",
       "\n",
       "    .dataframe thead th {\n",
       "        text-align: right;\n",
       "    }\n",
       "</style>\n",
       "<table border=\"1\" class=\"dataframe\">\n",
       "  <thead>\n",
       "    <tr style=\"text-align: right;\">\n",
       "      <th></th>\n",
       "      <th>brand</th>\n",
       "      <th>description</th>\n",
       "      <th>gender</th>\n",
       "      <th>modelId</th>\n",
       "      <th>price</th>\n",
       "      <th>productName</th>\n",
       "      <th>rating</th>\n",
       "      <th>specs</th>\n",
       "    </tr>\n",
       "  </thead>\n",
       "  <tbody>\n",
       "    <tr>\n",
       "      <th>0</th>\n",
       "      <td>Adidas</td>\n",
       "      <td>mi adizero adios 3 Shoes feature an energy-ret...</td>\n",
       "      <td>W</td>\n",
       "      <td>4002178_W</td>\n",
       "      <td>160</td>\n",
       "      <td>mi adizero adios 3 Shoes</td>\n",
       "      <td>1.8</td>\n",
       "      <td>Runner type: neut boost™ is our most responsiv...</td>\n",
       "    </tr>\n",
       "    <tr>\n",
       "      <th>1</th>\n",
       "      <td>Adidas</td>\n",
       "      <td>NaN</td>\n",
       "      <td>W</td>\n",
       "      <td>4002179_W</td>\n",
       "      <td>100</td>\n",
       "      <td>mi Energy Cloud Shoes</td>\n",
       "      <td>3.3</td>\n",
       "      <td>NaN</td>\n",
       "    </tr>\n",
       "    <tr>\n",
       "      <th>2</th>\n",
       "      <td>Adidas</td>\n",
       "      <td>Designed specifically for women, these shoes a...</td>\n",
       "      <td>W</td>\n",
       "      <td>4002255_W</td>\n",
       "      <td>150</td>\n",
       "      <td>mi PureBoost X Shoes</td>\n",
       "      <td>5.0</td>\n",
       "      <td>Select single-color mesh or graphic-print mesh...</td>\n",
       "    </tr>\n",
       "    <tr>\n",
       "      <th>3</th>\n",
       "      <td>Adidas</td>\n",
       "      <td>Create your own adidas Supernova with boost™ t...</td>\n",
       "      <td>W</td>\n",
       "      <td>4002435_W</td>\n",
       "      <td>150</td>\n",
       "      <td>mi Supernova Shoes</td>\n",
       "      <td>3.9</td>\n",
       "      <td>Choose your outsole color for a custom footpri...</td>\n",
       "    </tr>\n",
       "    <tr>\n",
       "      <th>4</th>\n",
       "      <td>Adidas</td>\n",
       "      <td>The boost™ midsole in these running shoes rele...</td>\n",
       "      <td>M</td>\n",
       "      <td>4002556_M</td>\n",
       "      <td>160</td>\n",
       "      <td>mi PureBoost Shoes</td>\n",
       "      <td>4.5</td>\n",
       "      <td>boost™ is our most responsive cushioning ever:...</td>\n",
       "    </tr>\n",
       "  </tbody>\n",
       "</table>\n",
       "</div>"
      ],
      "text/plain": [
       "    brand                                        description gender  \\\n",
       "0  Adidas  mi adizero adios 3 Shoes feature an energy-ret...      W   \n",
       "1  Adidas                                                NaN      W   \n",
       "2  Adidas  Designed specifically for women, these shoes a...      W   \n",
       "3  Adidas  Create your own adidas Supernova with boost™ t...      W   \n",
       "4  Adidas  The boost™ midsole in these running shoes rele...      M   \n",
       "\n",
       "     modelId  price               productName  rating  \\\n",
       "0  4002178_W    160  mi adizero adios 3 Shoes     1.8   \n",
       "1  4002179_W    100     mi Energy Cloud Shoes     3.3   \n",
       "2  4002255_W    150      mi PureBoost X Shoes     5.0   \n",
       "3  4002435_W    150        mi Supernova Shoes     3.9   \n",
       "4  4002556_M    160        mi PureBoost Shoes     4.5   \n",
       "\n",
       "                                               specs  \n",
       "0  Runner type: neut boost™ is our most responsiv...  \n",
       "1                                                NaN  \n",
       "2  Select single-color mesh or graphic-print mesh...  \n",
       "3  Choose your outsole color for a custom footpri...  \n",
       "4  boost™ is our most responsive cushioning ever:...  "
      ]
     },
     "execution_count": 4,
     "metadata": {},
     "output_type": "execute_result"
    }
   ],
   "source": [
    "productFeatures_df = pd.read_csv(\"product_features.csv\")\n",
    "productFeatures_df.head()"
   ]
  },
  {
   "cell_type": "code",
   "execution_count": 10,
   "metadata": {},
   "outputs": [],
   "source": [
    "spec_text = productFeatures_df.loc[:, 'specs'].tolist()"
   ]
  },
  {
   "cell_type": "code",
   "execution_count": 21,
   "metadata": {},
   "outputs": [
    {
     "data": {
      "text/plain": [
       "str"
      ]
     },
     "execution_count": 21,
     "metadata": {},
     "output_type": "execute_result"
    }
   ],
   "source": [
    "type(spec_text[2])"
   ]
  },
  {
   "cell_type": "code",
   "execution_count": null,
   "metadata": {},
   "outputs": [],
   "source": []
  }
 ],
 "metadata": {
  "kernelspec": {
   "display_name": "Python 2",
   "language": "python",
   "name": "python2"
  },
  "language_info": {
   "codemirror_mode": {
    "name": "ipython",
    "version": 2
   },
   "file_extension": ".py",
   "mimetype": "text/x-python",
   "name": "python",
   "nbconvert_exporter": "python",
   "pygments_lexer": "ipython2",
   "version": "2.7.14"
  }
 },
 "nbformat": 4,
 "nbformat_minor": 2
}
