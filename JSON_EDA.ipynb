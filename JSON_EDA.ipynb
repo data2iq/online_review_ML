{
 "cells": [
  {
   "cell_type": "markdown",
   "metadata": {},
   "source": [
    "## Environment Info"
   ]
  },
  {
   "cell_type": "code",
   "execution_count": 1,
   "metadata": {},
   "outputs": [
    {
     "name": "stdout",
     "output_type": "stream",
     "text": [
      "Python 2.7.14 :: Anaconda, Inc.\r\n"
     ]
    }
   ],
   "source": [
    "!python --version"
   ]
  },
  {
   "cell_type": "code",
   "execution_count": 2,
   "metadata": {},
   "outputs": [
    {
     "name": "stdout",
     "output_type": "stream",
     "text": [
      "drwxr-xr-x  147 qianyu  staff   4.9K Dec 14 17:22 \u001b[34madidas/\u001b[m\u001b[m\n",
      "     145     145    1791\n"
     ]
    }
   ],
   "source": [
    "!ls -l -h -d adidas/\n",
    "!ls adidas/ |wc"
   ]
  },
  {
   "cell_type": "markdown",
   "metadata": {},
   "source": [
    "\n",
    "## EDA of features of 1 Json file"
   ]
  },
  {
   "cell_type": "code",
   "execution_count": 121,
   "metadata": {},
   "outputs": [],
   "source": [
    "import json\n",
    "from pprint import pprint\n",
    "\n",
    "data = json.load(open('adidas/15007715_W.json'))"
   ]
  },
  {
   "cell_type": "code",
   "execution_count": 122,
   "metadata": {},
   "outputs": [
    {
     "data": {
      "text/plain": [
       "[u'rating',\n",
       " u'colorVariation',\n",
       " u'gender',\n",
       " u'brand',\n",
       " u'reviewData',\n",
       " u'productName',\n",
       " u'reviews',\n",
       " u'productMeta',\n",
       " u'productId',\n",
       " u'productImageLink',\n",
       " u'price',\n",
       " u'modelId']"
      ]
     },
     "execution_count": 122,
     "metadata": {},
     "output_type": "execute_result"
    }
   ],
   "source": [
    "data.keys()"
   ]
  },
  {
   "cell_type": "code",
   "execution_count": 123,
   "metadata": {},
   "outputs": [
    {
     "name": "stdout",
     "output_type": "stream",
     "text": [
      "rating\t<type 'float'>\n",
      "colorVariation\t<type 'list'>\n",
      "gender\t<type 'unicode'>\n",
      "brand\t<type 'unicode'>\n",
      "reviewData\t<type 'list'>\n",
      "productName\t<type 'unicode'>\n",
      "reviews\t<type 'int'>\n",
      "productMeta\t<type 'dict'>\n",
      "productId\t<type 'unicode'>\n",
      "productImageLink\t<type 'unicode'>\n",
      "price\t<type 'int'>\n",
      "modelId\t<type 'unicode'>\n",
      "12\n"
     ]
    }
   ],
   "source": [
    "for key,value in data.iteritems():\n",
    "    print \"{}\\t{}\".format(key, type(value))\n",
    "\n",
    "print len(data)"
   ]
  },
  {
   "cell_type": "code",
   "execution_count": 124,
   "metadata": {},
   "outputs": [
    {
     "data": {
      "text/plain": [
       "[u'specs', u'mediaData', u'productUrl', u'description', u'title']"
      ]
     },
     "execution_count": 124,
     "metadata": {},
     "output_type": "execute_result"
    }
   ],
   "source": [
    "data['productMeta'].keys()"
   ]
  },
  {
   "cell_type": "code",
   "execution_count": 125,
   "metadata": {
    "scrolled": false
   },
   "outputs": [
    {
     "data": {
      "text/plain": [
       "[{u'badges': [],\n",
       "  u'images': [],\n",
       "  u'rating': 4,\n",
       "  u'ratingDate': u'08/15/2017',\n",
       "  u'reviewAuthor': u'sondn',\n",
       "  u'reviewComments': u'beautifullllllllllllllllllllllllllllllllllllllllllll',\n",
       "  u'reviewId': u'92077037',\n",
       "  u'reviewTitle': u''},\n",
       " {u'badges': [],\n",
       "  u'images': [],\n",
       "  u'rating': 1,\n",
       "  u'ratingDate': u'05/08/2017',\n",
       "  u'reviewAuthor': u'CJS2017',\n",
       "  u'reviewComments': u'The actual product came out looking much different than the online rendering.',\n",
       "  u'reviewId': u'86186230',\n",
       "  u'reviewTitle': u'Disappointing'},\n",
       " {u'badges': [],\n",
       "  u'images': [],\n",
       "  u'rating': 1,\n",
       "  u'ratingDate': u'04/10/2017',\n",
       "  u'reviewAuthor': u'CBC22',\n",
       "  u'reviewComments': u\"These shoes look nothing like the picture! I expected a grey color...they aren't grey at all..more like cream..I'm so disappointed that I spent so much money on a pair of shoes that I hate and can't return.\",\n",
       "  u'reviewId': u'84185693',\n",
       "  u'reviewTitle': u''},\n",
       " {u'badges': [],\n",
       "  u'images': [u'https://adidas.ugc.bazaarvoice.com/1576-en_us/640910/photo.jpg?client=adidasglobal'],\n",
       "  u'rating': 1,\n",
       "  u'ratingDate': u'02/26/2017',\n",
       "  u'reviewAuthor': u'hope1245',\n",
       "  u'reviewComments': u\"I ordered this shoe because i loved the displayed blush pink color. However when I ordered them they came out much more of a neon salmon color and it was nothing like I expected. I would have never ordered the shoe if the online color was portrayed more accurately. I'm very dissapointed. The neon of the shoes don't totally show up in the picture i took but you can still tell it is far off from the online sample.\",\n",
       "  u'reviewId': u'82209445',\n",
       "  u'reviewTitle': u'color sample was way off'}]"
      ]
     },
     "execution_count": 125,
     "metadata": {},
     "output_type": "execute_result"
    }
   ],
   "source": [
    "data['reviewData']"
   ]
  },
  {
   "cell_type": "code",
   "execution_count": 8,
   "metadata": {},
   "outputs": [
    {
     "data": {
      "text/plain": [
       "{u'price': 160,\n",
       " u'productId': u'15007711_W',\n",
       " u'productImageLink': u'https://mifootwear.adidas.com/api2/rewrite/adicad//is/image/adidasAG/agm?&src=ir(adidasAGRender/FTW17_aad_9?&obj=a/f/nvr&show&obj=a/m/str&src=ad3_easy_blue&show&obj=a/m/toe&src=ad3_easy_blue&show&obj=a/m/hel&src=ad3_easy_blue&show&obj=a/m/lin&src=ad3_easy_blue&show&obj=a/m/2la&src=ad3_mystery_blue&show&obj=a/m/out&src=ad3_clay_brown&show&obj=a/m/soc&src=ad3_white&show&obj=a/m/slo&src=ad3_core_black&show&obj=a/m/clo&src=ad3_core_black&show&obj=a/o/bas&src=ad3_easy_blue&show&obj=a/o/lac_j0&src=ad3_easy_blue&show&obj=a/o/tla_t1&src=ad3_easy_blue&show&obj=a/o/mpa_m2&src=ad3_stone&show&obj=a/o/wla_p0&src=ad3_white&show&obj=a/o/tlc_c0&src=ad3_white&show&obj=a/o/adi_t1&src=ad3_silver_metallic&show&obj=a/o/jew_j0&show&obj=a/o/mp2_w1&src=ad3_white&show&obj=a/o/plo_p0&show&obj=a/o/emb_n0&decal&res=60&pos=0,0&src=fxg(undefined?&$variant=name_embroidery_off&$text=%20&$color=%20)&show&obj=a&req=object)&resMode=sharp2&op_usm=1.2,1,4,0&fmt=png-alpha',\n",
       " u'productUrl': u'https://www.adidas.com/us/mi-adizero-adios-3-shoes/15007711_W.html'}"
      ]
     },
     "execution_count": 8,
     "metadata": {},
     "output_type": "execute_result"
    }
   ],
   "source": [
    "data['colorVariation'][0]"
   ]
  },
  {
   "cell_type": "markdown",
   "metadata": {},
   "source": [
    "#### Json file Observation\n",
    "\n",
    "* ProductMeta has important product features in dict\n",
    "    * Product features can be used for feature engineering and classification\n",
    "* ReviewData is a list of dict. Key feature is rating, ratingDate, reviewComments, reviewTitle\n",
    "    * reviewComments and reviewTitle can be combined for sentiment analysis\n",
    "* We cannot get actually color information from colorVariation. It has a link to the shoe. \n",
    "    * price maybe different for different colors\n",
    "    * Need to decide later on how to deal with this data"
   ]
  },
  {
   "cell_type": "markdown",
   "metadata": {},
   "source": [
    "\n",
    "\n",
    "## Building data frame for product feature and reviews\n",
    "\n",
    "* Each json file is 1 product from 1 website\n",
    "* Process each json file at a time and produce\n",
    "    * A data frame for reviews, multiple rows and need to have productID\n",
    "    * A product feature data frame, 1 row and need to use the same productID\n",
    "* Treat same product from different website\n",
    "    * Match product ID\n",
    "    * Join the table?"
   ]
  },
  {
   "cell_type": "markdown",
   "metadata": {},
   "source": [
    "Data Process Functions"
   ]
  },
  {
   "cell_type": "code",
   "execution_count": 129,
   "metadata": {},
   "outputs": [],
   "source": [
    "import json\n",
    "import pandas as pd\n",
    "import itertools\n",
    "import sys\n",
    "from collections import defaultdict\n",
    "\n",
    "def reviewData2DF(review_data):\n",
    "    df = pd.DataFrame.from_dict(review_data)\n",
    "    df['review'] = df['reviewTitle'] + ' ' + df['reviewComments']\n",
    "    df = df.drop(['reviewTitle', 'reviewComments'], axis = 1)\n",
    "    if 'badges' in df:\n",
    "        df = df.drop(['badges'], axis = 1)\n",
    "    if 'images' in df:    \n",
    "        df = df.drop(['images'], axis = 1)\n",
    "    if 'reviewAuthor' in df:\n",
    "        df = df.drop(['reviewAuthor'], axis = 1)\n",
    "    if 'reviewID' in df:\n",
    "        df = df.drop(['reviewId'], axis = 1)\n",
    "    return df\n",
    "\n",
    "def productmeta2DF(meta_data):\n",
    "    df = pd.DataFrame.from_dict([meta_data])\n",
    "    \n",
    "    ## drop fields:\n",
    "    if 'mediaData' in meta_data:    \n",
    "        df = df.drop(['mediaData'], axis = 1)\n",
    "    if 'productUrl' in meta_data:\n",
    "        df = df.drop(['productUrl'], axis = 1)\n",
    "    if 'title' in meta_data:\n",
    "        df = df.drop(['title'], axis = 1)\n",
    "    if 'subtitle' in meta_data:\n",
    "        df = df.drop(['subtitle'], axis = 1)\n",
    "    \n",
    "    # process 'specs' \n",
    "    if 'specs' in meta_data:\n",
    "        df.loc[0, 'specs'] = u' '.join(df.loc[0, 'specs']).encode('utf-8').strip()\n",
    "    else:\n",
    "        df.loc[0, 'specs'] = 'NaN'\n",
    "    \n",
    "    # process 'description'\n",
    "    if 'description' not in meta_data:\n",
    "        df.loc[0, 'description'] = 'NaN'\n",
    "    return df\n",
    "\n",
    "def read_json(json_file):\n",
    "    # Process Json fields\n",
    "    review_header = ['rating', 'ratingDate', 'review', 'modelId']\n",
    "    feature_header = ['description', 'specs', 'rating', 'brand', 'gender', 'price', 'productName', 'modelId']\n",
    "    df_review = pd.DataFrame(columns=review_header)\n",
    "    df_productspec = pd.DataFrame(columns=feature_header)\n",
    "    \n",
    "    for key,value in json_file.iteritems():\n",
    "        if key == 'productMeta':\n",
    "            df_productspec = productmeta2DF(value)\n",
    "        elif key == 'reviewData':\n",
    "            if value:\n",
    "                df_review = reviewData2DF(value)\n",
    "        elif key == 'rating':\n",
    "            rating = value\n",
    "        elif key == 'gender':\n",
    "            gender = value\n",
    "        elif key == 'productName':\n",
    "            productName = value\n",
    "        elif key == 'brand':\n",
    "            brand = value\n",
    "        elif key == 'price':\n",
    "            price = value\n",
    "        elif key == 'modelId':\n",
    "            modelId = value\n",
    "    \n",
    "    # Complete product spec data frame fields\n",
    "    df_productspec['rating'] = rating\n",
    "    df_productspec['brand'] = brand\n",
    "    df_productspec['gender'] = gender\n",
    "    df_productspec['price'] = price\n",
    "    df_productspec['productName'] = productName\n",
    "    df_productspec['modelId'] = modelId\n",
    "    \n",
    "    # Complete Review data frame fields\n",
    "    df_review['modelId'] = [modelId] * df_review.shape[0]\n",
    "    \n",
    "    return df_productspec, df_review"
   ]
  },
  {
   "cell_type": "markdown",
   "metadata": {},
   "source": [
    "### Exam Json DataFrame"
   ]
  },
  {
   "cell_type": "code",
   "execution_count": 130,
   "metadata": {},
   "outputs": [],
   "source": [
    "data = json.load(open('brooks/100029.json'))\n",
    "df_product, df_review = read_json(data)"
   ]
  },
  {
   "cell_type": "code",
   "execution_count": 131,
   "metadata": {},
   "outputs": [
    {
     "name": "stdout",
     "output_type": "stream",
     "text": [
      "rating\t<type 'int'>\n",
      "colorVariation\t<type 'list'>\n",
      "color\t<type 'unicode'>\n",
      "gender\t<type 'unicode'>\n",
      "brand\t<type 'unicode'>\n",
      "reviewData\t<type 'list'>\n",
      "productName\t<type 'unicode'>\n",
      "reviews\t<type 'int'>\n",
      "productMeta\t<type 'dict'>\n",
      "productId\t<type 'unicode'>\n",
      "productImageLink\t<type 'unicode'>\n",
      "price\t<type 'int'>\n",
      "modelId\t<type 'unicode'>\n",
      "13\n"
     ]
    }
   ],
   "source": [
    "for key,value in data.iteritems():\n",
    "    print \"{}\\t{}\".format(key, type(value))\n",
    "\n",
    "print len(data)"
   ]
  },
  {
   "cell_type": "code",
   "execution_count": 132,
   "metadata": {
    "scrolled": false
   },
   "outputs": [
    {
     "data": {
      "text/html": [
       "<div>\n",
       "<style scoped>\n",
       "    .dataframe tbody tr th:only-of-type {\n",
       "        vertical-align: middle;\n",
       "    }\n",
       "\n",
       "    .dataframe tbody tr th {\n",
       "        vertical-align: top;\n",
       "    }\n",
       "\n",
       "    .dataframe thead th {\n",
       "        text-align: right;\n",
       "    }\n",
       "</style>\n",
       "<table border=\"1\" class=\"dataframe\">\n",
       "  <thead>\n",
       "    <tr style=\"text-align: right;\">\n",
       "      <th></th>\n",
       "      <th>rating</th>\n",
       "      <th>ratingDate</th>\n",
       "      <th>review</th>\n",
       "      <th>modelId</th>\n",
       "    </tr>\n",
       "  </thead>\n",
       "  <tbody>\n",
       "    <tr>\n",
       "      <th>0</th>\n",
       "      <td>5</td>\n",
       "      <td>12/01/2017</td>\n",
       "      <td>This shoe is truly an amazing thing!</td>\n",
       "      <td>100029</td>\n",
       "    </tr>\n",
       "  </tbody>\n",
       "</table>\n",
       "</div>"
      ],
      "text/plain": [
       "   rating  ratingDate                                 review modelId\n",
       "0       5  12/01/2017  This shoe is truly an amazing thing!   100029"
      ]
     },
     "execution_count": 132,
     "metadata": {},
     "output_type": "execute_result"
    }
   ],
   "source": [
    "df_review"
   ]
  },
  {
   "cell_type": "code",
   "execution_count": 133,
   "metadata": {},
   "outputs": [
    {
     "data": {
      "text/html": [
       "<div>\n",
       "<style scoped>\n",
       "    .dataframe tbody tr th:only-of-type {\n",
       "        vertical-align: middle;\n",
       "    }\n",
       "\n",
       "    .dataframe tbody tr th {\n",
       "        vertical-align: top;\n",
       "    }\n",
       "\n",
       "    .dataframe thead th {\n",
       "        text-align: right;\n",
       "    }\n",
       "</style>\n",
       "<table border=\"1\" class=\"dataframe\">\n",
       "  <thead>\n",
       "    <tr style=\"text-align: right;\">\n",
       "      <th></th>\n",
       "      <th>description</th>\n",
       "      <th>specs</th>\n",
       "      <th>rating</th>\n",
       "      <th>brand</th>\n",
       "      <th>gender</th>\n",
       "      <th>price</th>\n",
       "      <th>productName</th>\n",
       "      <th>modelId</th>\n",
       "    </tr>\n",
       "  </thead>\n",
       "  <tbody>\n",
       "    <tr>\n",
       "      <th>0</th>\n",
       "      <td>An unrelenting middle-distance track spike, de...</td>\n",
       "      <td>Support: Neutral Midsole Drop: 0mm Weight: 4.2...</td>\n",
       "      <td>5</td>\n",
       "      <td>Brooks</td>\n",
       "      <td>M</td>\n",
       "      <td>120</td>\n",
       "      <td>ELMN8 v4</td>\n",
       "      <td>100029</td>\n",
       "    </tr>\n",
       "  </tbody>\n",
       "</table>\n",
       "</div>"
      ],
      "text/plain": [
       "                                         description  \\\n",
       "0  An unrelenting middle-distance track spike, de...   \n",
       "\n",
       "                                               specs  rating   brand gender  \\\n",
       "0  Support: Neutral Midsole Drop: 0mm Weight: 4.2...       5  Brooks      M   \n",
       "\n",
       "   price productName modelId  \n",
       "0    120    ELMN8 v4  100029  "
      ]
     },
     "execution_count": 133,
     "metadata": {},
     "output_type": "execute_result"
    }
   ],
   "source": [
    "df_product"
   ]
  },
  {
   "cell_type": "markdown",
   "metadata": {},
   "source": [
    "### Process multiple Json files"
   ]
  },
  {
   "cell_type": "code",
   "execution_count": 134,
   "metadata": {
    "scrolled": true
   },
   "outputs": [
    {
     "name": "stdout",
     "output_type": "stream",
     "text": [
      "Processed total 71 JSON files\n"
     ]
    }
   ],
   "source": [
    "import glob   \n",
    "\n",
    "JSON_PATH = 'brooks/*.json'   \n",
    "file_list = glob.glob(JSON_PATH) \n",
    "\n",
    "feature_dfs = []\n",
    "review_dfs = []\n",
    "\n",
    "count = 0\n",
    "for json_file in file_list:\n",
    "    # print \"Process {} ...\".format(json_file)\n",
    "    json_data = json.load(open(json_file))\n",
    "    df_product, df_review = read_json(json_data)\n",
    "    feature_dfs.append(df_product)\n",
    "    review_dfs.append(df_review)\n",
    "    count += 1\n",
    "\n",
    "print \"Processed total {:d} JSON files\".format(count)"
   ]
  },
  {
   "cell_type": "markdown",
   "metadata": {},
   "source": [
    "\n",
    "### Generate and post-process product spec data frame"
   ]
  },
  {
   "cell_type": "code",
   "execution_count": 135,
   "metadata": {
    "scrolled": true
   },
   "outputs": [
    {
     "name": "stdout",
     "output_type": "stream",
     "text": [
      "Product Spec DF Shape: (71, 8)\n"
     ]
    },
    {
     "data": {
      "text/html": [
       "<div>\n",
       "<style scoped>\n",
       "    .dataframe tbody tr th:only-of-type {\n",
       "        vertical-align: middle;\n",
       "    }\n",
       "\n",
       "    .dataframe tbody tr th {\n",
       "        vertical-align: top;\n",
       "    }\n",
       "\n",
       "    .dataframe thead th {\n",
       "        text-align: right;\n",
       "    }\n",
       "</style>\n",
       "<table border=\"1\" class=\"dataframe\">\n",
       "  <thead>\n",
       "    <tr style=\"text-align: right;\">\n",
       "      <th></th>\n",
       "      <th>description</th>\n",
       "      <th>specs</th>\n",
       "      <th>rating</th>\n",
       "      <th>brand</th>\n",
       "      <th>gender</th>\n",
       "      <th>price</th>\n",
       "      <th>productName</th>\n",
       "      <th>modelId</th>\n",
       "    </tr>\n",
       "  </thead>\n",
       "  <tbody>\n",
       "    <tr>\n",
       "      <th>0</th>\n",
       "      <td>An unrelenting middle-distance track spike, de...</td>\n",
       "      <td>Support: Neutral Midsole Drop: 0mm Weight: 4.2...</td>\n",
       "      <td>5.0</td>\n",
       "      <td>Brooks</td>\n",
       "      <td>M</td>\n",
       "      <td>120</td>\n",
       "      <td>ELMN8 v4</td>\n",
       "      <td>100029</td>\n",
       "    </tr>\n",
       "    <tr>\n",
       "      <th>1</th>\n",
       "      <td>All-out speed at 400 meters or less, designed ...</td>\n",
       "      <td>Support: Neutral Midsole Drop: 0mm Weight: 4.7...</td>\n",
       "      <td>0.0</td>\n",
       "      <td>Brooks</td>\n",
       "      <td>F</td>\n",
       "      <td>110</td>\n",
       "      <td>QW-K v3</td>\n",
       "      <td>100030</td>\n",
       "    </tr>\n",
       "    <tr>\n",
       "      <th>2</th>\n",
       "      <td>A nimble racing flat meets quick track spike, ...</td>\n",
       "      <td>Support: Neutral Midsole Drop: 0mm Weight: 4.7...</td>\n",
       "      <td>0.0</td>\n",
       "      <td>Brooks</td>\n",
       "      <td>F</td>\n",
       "      <td>120</td>\n",
       "      <td>Wire v5</td>\n",
       "      <td>100031</td>\n",
       "    </tr>\n",
       "    <tr>\n",
       "      <th>3</th>\n",
       "      <td></td>\n",
       "      <td>Support: Support Arch: Flat Country of Origin:...</td>\n",
       "      <td>4.5</td>\n",
       "      <td>Brooks</td>\n",
       "      <td>F</td>\n",
       "      <td>120</td>\n",
       "      <td>Addiction 12</td>\n",
       "      <td>110196</td>\n",
       "    </tr>\n",
       "    <tr>\n",
       "      <th>4</th>\n",
       "      <td></td>\n",
       "      <td>Support: Neutral Arch: Flat, Medium, High Coun...</td>\n",
       "      <td>4.5</td>\n",
       "      <td>Brooks</td>\n",
       "      <td>F</td>\n",
       "      <td>130</td>\n",
       "      <td>Neuro</td>\n",
       "      <td>110211</td>\n",
       "    </tr>\n",
       "  </tbody>\n",
       "</table>\n",
       "</div>"
      ],
      "text/plain": [
       "                                         description  \\\n",
       "0  An unrelenting middle-distance track spike, de...   \n",
       "1  All-out speed at 400 meters or less, designed ...   \n",
       "2  A nimble racing flat meets quick track spike, ...   \n",
       "3                                                      \n",
       "4                                                      \n",
       "\n",
       "                                               specs  rating   brand gender  \\\n",
       "0  Support: Neutral Midsole Drop: 0mm Weight: 4.2...     5.0  Brooks      M   \n",
       "1  Support: Neutral Midsole Drop: 0mm Weight: 4.7...     0.0  Brooks      F   \n",
       "2  Support: Neutral Midsole Drop: 0mm Weight: 4.7...     0.0  Brooks      F   \n",
       "3  Support: Support Arch: Flat Country of Origin:...     4.5  Brooks      F   \n",
       "4  Support: Neutral Arch: Flat, Medium, High Coun...     4.5  Brooks      F   \n",
       "\n",
       "   price   productName modelId  \n",
       "0    120      ELMN8 v4  100029  \n",
       "1    110       QW-K v3  100030  \n",
       "2    120       Wire v5  100031  \n",
       "3    120  Addiction 12  110196  \n",
       "4    130         Neuro  110211  "
      ]
     },
     "execution_count": 135,
     "metadata": {},
     "output_type": "execute_result"
    }
   ],
   "source": [
    "productspec_df = pd.concat(feature_dfs)\n",
    "productspec_df.reset_index(drop=True, inplace=True)\n",
    "\n",
    "print \"Product Spec DF Shape: {}\".format(productspec_df.shape)\n",
    "productspec_df.head()"
   ]
  },
  {
   "cell_type": "markdown",
   "metadata": {},
   "source": [
    "#### Check duplicates by the whole roles"
   ]
  },
  {
   "cell_type": "code",
   "execution_count": 82,
   "metadata": {
    "scrolled": false
   },
   "outputs": [
    {
     "data": {
      "text/plain": [
       "(71, 8)"
      ]
     },
     "execution_count": 82,
     "metadata": {},
     "output_type": "execute_result"
    }
   ],
   "source": [
    "productspec_df.drop_duplicates\n",
    "productspec_df.shape"
   ]
  },
  {
   "cell_type": "markdown",
   "metadata": {},
   "source": [
    "#### Check duplicates by shoe models"
   ]
  },
  {
   "cell_type": "code",
   "execution_count": 83,
   "metadata": {},
   "outputs": [
    {
     "data": {
      "text/plain": [
       "0"
      ]
     },
     "execution_count": 83,
     "metadata": {},
     "output_type": "execute_result"
    }
   ],
   "source": [
    "sum(productspec_df.duplicated('modelId'))"
   ]
  },
  {
   "cell_type": "markdown",
   "metadata": {},
   "source": [
    "#### Duplicate models"
   ]
  },
  {
   "cell_type": "code",
   "execution_count": 84,
   "metadata": {},
   "outputs": [
    {
     "data": {
      "text/html": [
       "<div>\n",
       "<style scoped>\n",
       "    .dataframe tbody tr th:only-of-type {\n",
       "        vertical-align: middle;\n",
       "    }\n",
       "\n",
       "    .dataframe tbody tr th {\n",
       "        vertical-align: top;\n",
       "    }\n",
       "\n",
       "    .dataframe thead th {\n",
       "        text-align: right;\n",
       "    }\n",
       "</style>\n",
       "<table border=\"1\" class=\"dataframe\">\n",
       "  <thead>\n",
       "    <tr style=\"text-align: right;\">\n",
       "      <th></th>\n",
       "      <th>description</th>\n",
       "      <th>specs</th>\n",
       "      <th>rating</th>\n",
       "      <th>brand</th>\n",
       "      <th>gender</th>\n",
       "      <th>price</th>\n",
       "      <th>productName</th>\n",
       "      <th>modelId</th>\n",
       "    </tr>\n",
       "  </thead>\n",
       "  <tbody>\n",
       "  </tbody>\n",
       "</table>\n",
       "</div>"
      ],
      "text/plain": [
       "Empty DataFrame\n",
       "Columns: [description, specs, rating, brand, gender, price, productName, modelId]\n",
       "Index: []"
      ]
     },
     "execution_count": 84,
     "metadata": {},
     "output_type": "execute_result"
    }
   ],
   "source": [
    "duplicates = productspec_df[productspec_df.duplicated('modelId', keep=False)]\n",
    "duplicates.sort_values(by = ['modelId'])"
   ]
  },
  {
   "cell_type": "markdown",
   "metadata": {},
   "source": [
    "#### After exam the rows, we can remove duplicate rows. The whole row does not match maybe due to while spaces"
   ]
  },
  {
   "cell_type": "code",
   "execution_count": 85,
   "metadata": {},
   "outputs": [
    {
     "data": {
      "text/plain": [
       "(71, 8)"
      ]
     },
     "execution_count": 85,
     "metadata": {},
     "output_type": "execute_result"
    }
   ],
   "source": [
    "productspec_df.drop_duplicates(['modelId'], keep = 'first', inplace=True)\n",
    "productspec_df.shape"
   ]
  },
  {
   "cell_type": "markdown",
   "metadata": {},
   "source": [
    "### Generate and post-process review data frame"
   ]
  },
  {
   "cell_type": "code",
   "execution_count": 90,
   "metadata": {},
   "outputs": [
    {
     "name": "stdout",
     "output_type": "stream",
     "text": [
      "Review Data DF Shape: (6166, 5)\n"
     ]
    },
    {
     "data": {
      "text/html": [
       "<div>\n",
       "<style scoped>\n",
       "    .dataframe tbody tr th:only-of-type {\n",
       "        vertical-align: middle;\n",
       "    }\n",
       "\n",
       "    .dataframe tbody tr th {\n",
       "        vertical-align: top;\n",
       "    }\n",
       "\n",
       "    .dataframe thead th {\n",
       "        text-align: right;\n",
       "    }\n",
       "</style>\n",
       "<table border=\"1\" class=\"dataframe\">\n",
       "  <thead>\n",
       "    <tr style=\"text-align: right;\">\n",
       "      <th></th>\n",
       "      <th>modelId</th>\n",
       "      <th>rating</th>\n",
       "      <th>ratingDate</th>\n",
       "      <th>review</th>\n",
       "      <th>reviewAuthor</th>\n",
       "    </tr>\n",
       "  </thead>\n",
       "  <tbody>\n",
       "    <tr>\n",
       "      <th>0</th>\n",
       "      <td>100029</td>\n",
       "      <td>5</td>\n",
       "      <td>12/01/2017</td>\n",
       "      <td>This shoe is truly an amazing thing!</td>\n",
       "      <td>John</td>\n",
       "    </tr>\n",
       "    <tr>\n",
       "      <th>1</th>\n",
       "      <td>110196</td>\n",
       "      <td>2</td>\n",
       "      <td>11/26/2017</td>\n",
       "      <td>Not for me Just not a comfortable shoe for me,...</td>\n",
       "      <td>Gary</td>\n",
       "    </tr>\n",
       "    <tr>\n",
       "      <th>2</th>\n",
       "      <td>110196</td>\n",
       "      <td>5</td>\n",
       "      <td>11/18/2017</td>\n",
       "      <td>Yes</td>\n",
       "      <td>Zell</td>\n",
       "    </tr>\n",
       "    <tr>\n",
       "      <th>3</th>\n",
       "      <td>110196</td>\n",
       "      <td>5</td>\n",
       "      <td>11/02/2017</td>\n",
       "      <td>Best shoes ever Brooks gave me new life... I h...</td>\n",
       "      <td>Steve</td>\n",
       "    </tr>\n",
       "    <tr>\n",
       "      <th>4</th>\n",
       "      <td>110196</td>\n",
       "      <td>5</td>\n",
       "      <td>11/02/2017</td>\n",
       "      <td>My 10th pair My 10th Bought my 10th pair. I ha...</td>\n",
       "      <td>Lou</td>\n",
       "    </tr>\n",
       "  </tbody>\n",
       "</table>\n",
       "</div>"
      ],
      "text/plain": [
       "  modelId rating  ratingDate  \\\n",
       "0  100029      5  12/01/2017   \n",
       "1  110196      2  11/26/2017   \n",
       "2  110196      5  11/18/2017   \n",
       "3  110196      5  11/02/2017   \n",
       "4  110196      5  11/02/2017   \n",
       "\n",
       "                                              review reviewAuthor  \n",
       "0              This shoe is truly an amazing thing!          John  \n",
       "1  Not for me Just not a comfortable shoe for me,...         Gary  \n",
       "2                                               Yes          Zell  \n",
       "3  Best shoes ever Brooks gave me new life... I h...        Steve  \n",
       "4  My 10th pair My 10th Bought my 10th pair. I ha...          Lou  "
      ]
     },
     "execution_count": 90,
     "metadata": {},
     "output_type": "execute_result"
    }
   ],
   "source": [
    "reviewData_df = pd.concat(review_dfs)\n",
    "reviewData_df.reset_index(drop=True, inplace=True)\n",
    "\n",
    "print \"Review Data DF Shape: {}\".format(reviewData_df.shape)\n",
    "reviewData_df.head()"
   ]
  },
  {
   "cell_type": "markdown",
   "metadata": {},
   "source": [
    "#### Check for duplicated reivews"
   ]
  },
  {
   "cell_type": "code",
   "execution_count": 136,
   "metadata": {},
   "outputs": [
    {
     "data": {
      "text/plain": [
       "(6166, 5)"
      ]
     },
     "execution_count": 136,
     "metadata": {},
     "output_type": "execute_result"
    }
   ],
   "source": [
    "reviewData_df.drop_duplicates\n",
    "reviewData_df.shape"
   ]
  },
  {
   "cell_type": "code",
   "execution_count": 137,
   "metadata": {},
   "outputs": [
    {
     "data": {
      "text/plain": [
       "311"
      ]
     },
     "execution_count": 137,
     "metadata": {},
     "output_type": "execute_result"
    }
   ],
   "source": [
    "sum(reviewData_df.duplicated('review'))"
   ]
  },
  {
   "cell_type": "code",
   "execution_count": 138,
   "metadata": {
    "scrolled": false
   },
   "outputs": [
    {
     "data": {
      "text/html": [
       "<div>\n",
       "<style scoped>\n",
       "    .dataframe tbody tr th:only-of-type {\n",
       "        vertical-align: middle;\n",
       "    }\n",
       "\n",
       "    .dataframe tbody tr th {\n",
       "        vertical-align: top;\n",
       "    }\n",
       "\n",
       "    .dataframe thead th {\n",
       "        text-align: right;\n",
       "    }\n",
       "</style>\n",
       "<table border=\"1\" class=\"dataframe\">\n",
       "  <thead>\n",
       "    <tr style=\"text-align: right;\">\n",
       "      <th></th>\n",
       "      <th>modelId</th>\n",
       "      <th>rating</th>\n",
       "      <th>ratingDate</th>\n",
       "      <th>review</th>\n",
       "      <th>reviewAuthor</th>\n",
       "    </tr>\n",
       "  </thead>\n",
       "  <tbody>\n",
       "    <tr>\n",
       "      <th>640</th>\n",
       "      <td>110227</td>\n",
       "      <td>5</td>\n",
       "      <td>10/14/2017</td>\n",
       "      <td>#ReviewSweeps</td>\n",
       "      <td>Grandaddy</td>\n",
       "    </tr>\n",
       "    <tr>\n",
       "      <th>4655</th>\n",
       "      <td>120234</td>\n",
       "      <td>5</td>\n",
       "      <td>10/21/2017</td>\n",
       "      <td>#ReviewSweeps</td>\n",
       "      <td>Jodi</td>\n",
       "    </tr>\n",
       "    <tr>\n",
       "      <th>1184</th>\n",
       "      <td>110241</td>\n",
       "      <td>5</td>\n",
       "      <td>10/29/2017</td>\n",
       "      <td>Adrenaline GTS 17</td>\n",
       "      <td>seventyplus</td>\n",
       "    </tr>\n",
       "    <tr>\n",
       "      <th>1360</th>\n",
       "      <td>110241</td>\n",
       "      <td>4</td>\n",
       "      <td>04/24/2017</td>\n",
       "      <td>Adrenaline GTS 17</td>\n",
       "      <td>Former Beast Lover</td>\n",
       "    </tr>\n",
       "    <tr>\n",
       "      <th>1449</th>\n",
       "      <td>110242</td>\n",
       "      <td>5</td>\n",
       "      <td>06/24/2017</td>\n",
       "      <td>Awesome</td>\n",
       "      <td>Trainmaster</td>\n",
       "    </tr>\n",
       "    <tr>\n",
       "      <th>2047</th>\n",
       "      <td>110257</td>\n",
       "      <td>5</td>\n",
       "      <td>08/22/2017</td>\n",
       "      <td>Awesome</td>\n",
       "      <td>Joe</td>\n",
       "    </tr>\n",
       "    <tr>\n",
       "      <th>157</th>\n",
       "      <td>110211</td>\n",
       "      <td>5</td>\n",
       "      <td>04/09/2017</td>\n",
       "      <td>Awesome</td>\n",
       "      <td>Matthew Purdy</td>\n",
       "    </tr>\n",
       "    <tr>\n",
       "      <th>6110</th>\n",
       "      <td>120268</td>\n",
       "      <td>5</td>\n",
       "      <td>12/07/2017</td>\n",
       "      <td>Awesome</td>\n",
       "      <td>amyb</td>\n",
       "    </tr>\n",
       "    <tr>\n",
       "      <th>3603</th>\n",
       "      <td>120225</td>\n",
       "      <td>5</td>\n",
       "      <td>04/14/2017</td>\n",
       "      <td>Awesome</td>\n",
       "      <td>Haley</td>\n",
       "    </tr>\n",
       "    <tr>\n",
       "      <th>4356</th>\n",
       "      <td>120231</td>\n",
       "      <td>5</td>\n",
       "      <td>06/11/2017</td>\n",
       "      <td>Awesome shoes</td>\n",
       "      <td>Cat</td>\n",
       "    </tr>\n",
       "    <tr>\n",
       "      <th>4833</th>\n",
       "      <td>120234</td>\n",
       "      <td>5</td>\n",
       "      <td>04/22/2017</td>\n",
       "      <td>Awesome shoes</td>\n",
       "      <td>Seattle walker</td>\n",
       "    </tr>\n",
       "    <tr>\n",
       "      <th>4886</th>\n",
       "      <td>120234</td>\n",
       "      <td>5</td>\n",
       "      <td>03/04/2017</td>\n",
       "      <td>Awesome shoes</td>\n",
       "      <td>Outdoor person</td>\n",
       "    </tr>\n",
       "    <tr>\n",
       "      <th>3521</th>\n",
       "      <td>120225</td>\n",
       "      <td>5</td>\n",
       "      <td>06/12/2017</td>\n",
       "      <td>Awesome shoes</td>\n",
       "      <td>Hallie</td>\n",
       "    </tr>\n",
       "    <tr>\n",
       "      <th>5951</th>\n",
       "      <td>120249</td>\n",
       "      <td>5</td>\n",
       "      <td>08/29/2017</td>\n",
       "      <td>Awesome!!!</td>\n",
       "      <td>JKS</td>\n",
       "    </tr>\n",
       "    <tr>\n",
       "      <th>357</th>\n",
       "      <td>110215</td>\n",
       "      <td>5</td>\n",
       "      <td>07/22/2016</td>\n",
       "      <td>Awesome!!!</td>\n",
       "      <td>Iron Runner</td>\n",
       "    </tr>\n",
       "    <tr>\n",
       "      <th>2256</th>\n",
       "      <td>110269</td>\n",
       "      <td>5</td>\n",
       "      <td>11/18/2017</td>\n",
       "      <td>Best running shoes</td>\n",
       "      <td>Peligro</td>\n",
       "    </tr>\n",
       "    <tr>\n",
       "      <th>1114</th>\n",
       "      <td>110241</td>\n",
       "      <td>5</td>\n",
       "      <td>11/15/2017</td>\n",
       "      <td>Best running shoes</td>\n",
       "      <td>V</td>\n",
       "    </tr>\n",
       "    <tr>\n",
       "      <th>3279</th>\n",
       "      <td>120225</td>\n",
       "      <td>5</td>\n",
       "      <td>09/22/2017</td>\n",
       "      <td>Best running shoes ever</td>\n",
       "      <td>Ape's grape</td>\n",
       "    </tr>\n",
       "    <tr>\n",
       "      <th>1303</th>\n",
       "      <td>110241</td>\n",
       "      <td>5</td>\n",
       "      <td>07/22/2017</td>\n",
       "      <td>Best running shoes ever</td>\n",
       "      <td>Spotsy 95</td>\n",
       "    </tr>\n",
       "    <tr>\n",
       "      <th>3271</th>\n",
       "      <td>120225</td>\n",
       "      <td>5</td>\n",
       "      <td>09/23/2017</td>\n",
       "      <td>Best running shoes ever!</td>\n",
       "      <td>Sharon</td>\n",
       "    </tr>\n",
       "    <tr>\n",
       "      <th>3983</th>\n",
       "      <td>120231</td>\n",
       "      <td>5</td>\n",
       "      <td>11/03/2017</td>\n",
       "      <td>Best running shoes ever!</td>\n",
       "      <td>Cat</td>\n",
       "    </tr>\n",
       "    <tr>\n",
       "      <th>2269</th>\n",
       "      <td>110269</td>\n",
       "      <td>5</td>\n",
       "      <td>11/07/2017</td>\n",
       "      <td>Best shoe ever</td>\n",
       "      <td>Ian</td>\n",
       "    </tr>\n",
       "    <tr>\n",
       "      <th>1911</th>\n",
       "      <td>110256</td>\n",
       "      <td>5</td>\n",
       "      <td>09/08/2017</td>\n",
       "      <td>Best shoe ever</td>\n",
       "      <td>Huck</td>\n",
       "    </tr>\n",
       "    <tr>\n",
       "      <th>2546</th>\n",
       "      <td>120217</td>\n",
       "      <td>5</td>\n",
       "      <td>11/02/2017</td>\n",
       "      <td>Best shoe ever!</td>\n",
       "      <td>Jenny Jugs</td>\n",
       "    </tr>\n",
       "    <tr>\n",
       "      <th>3777</th>\n",
       "      <td>120225</td>\n",
       "      <td>5</td>\n",
       "      <td>07/07/2016</td>\n",
       "      <td>Best shoe ever!</td>\n",
       "      <td>Flowerchild</td>\n",
       "    </tr>\n",
       "    <tr>\n",
       "      <th>2915</th>\n",
       "      <td>120217</td>\n",
       "      <td>5</td>\n",
       "      <td>07/06/2016</td>\n",
       "      <td>Best shoes ever</td>\n",
       "      <td>Lea</td>\n",
       "    </tr>\n",
       "    <tr>\n",
       "      <th>1869</th>\n",
       "      <td>110249</td>\n",
       "      <td>5</td>\n",
       "      <td>03/26/2017</td>\n",
       "      <td>Best shoes ever</td>\n",
       "      <td>Bob</td>\n",
       "    </tr>\n",
       "    <tr>\n",
       "      <th>6127</th>\n",
       "      <td>120268</td>\n",
       "      <td>5</td>\n",
       "      <td>11/28/2017</td>\n",
       "      <td>Comfortable</td>\n",
       "      <td>Lee</td>\n",
       "    </tr>\n",
       "    <tr>\n",
       "      <th>590</th>\n",
       "      <td>110225</td>\n",
       "      <td>4</td>\n",
       "      <td>04/19/2016</td>\n",
       "      <td>Comfortable</td>\n",
       "      <td>Jaqofall</td>\n",
       "    </tr>\n",
       "    <tr>\n",
       "      <th>156</th>\n",
       "      <td>110211</td>\n",
       "      <td>4</td>\n",
       "      <td>04/10/2017</td>\n",
       "      <td>Comfortable</td>\n",
       "      <td>Craig</td>\n",
       "    </tr>\n",
       "    <tr>\n",
       "      <th>...</th>\n",
       "      <td>...</td>\n",
       "      <td>...</td>\n",
       "      <td>...</td>\n",
       "      <td>...</td>\n",
       "      <td>...</td>\n",
       "    </tr>\n",
       "    <tr>\n",
       "      <th>6062</th>\n",
       "      <td>120258</td>\n",
       "      <td>4</td>\n",
       "      <td>10/22/2017</td>\n",
       "      <td>Yes</td>\n",
       "      <td>Karie</td>\n",
       "    </tr>\n",
       "    <tr>\n",
       "      <th>6060</th>\n",
       "      <td>120258</td>\n",
       "      <td>3</td>\n",
       "      <td>10/23/2017</td>\n",
       "      <td>Yes</td>\n",
       "      <td>Adana</td>\n",
       "    </tr>\n",
       "    <tr>\n",
       "      <th>5708</th>\n",
       "      <td>120247</td>\n",
       "      <td>5</td>\n",
       "      <td>11/04/2017</td>\n",
       "      <td>Yes</td>\n",
       "      <td>Is a Bell</td>\n",
       "    </tr>\n",
       "    <tr>\n",
       "      <th>3387</th>\n",
       "      <td>120225</td>\n",
       "      <td>5</td>\n",
       "      <td>08/15/2017</td>\n",
       "      <td>Yes</td>\n",
       "      <td>Walk alot</td>\n",
       "    </tr>\n",
       "    <tr>\n",
       "      <th>3353</th>\n",
       "      <td>120225</td>\n",
       "      <td>5</td>\n",
       "      <td>08/28/2017</td>\n",
       "      <td>Yes</td>\n",
       "      <td>Kel</td>\n",
       "    </tr>\n",
       "    <tr>\n",
       "      <th>2</th>\n",
       "      <td>110196</td>\n",
       "      <td>5</td>\n",
       "      <td>11/18/2017</td>\n",
       "      <td>Yes</td>\n",
       "      <td>Zell</td>\n",
       "    </tr>\n",
       "    <tr>\n",
       "      <th>4045</th>\n",
       "      <td>120231</td>\n",
       "      <td>5</td>\n",
       "      <td>10/28/2017</td>\n",
       "      <td>Yes</td>\n",
       "      <td>None</td>\n",
       "    </tr>\n",
       "    <tr>\n",
       "      <th>5632</th>\n",
       "      <td>120246</td>\n",
       "      <td>5</td>\n",
       "      <td>08/22/2017</td>\n",
       "      <td>Yes</td>\n",
       "      <td>Mel</td>\n",
       "    </tr>\n",
       "    <tr>\n",
       "      <th>560</th>\n",
       "      <td>110225</td>\n",
       "      <td>5</td>\n",
       "      <td>03/03/2017</td>\n",
       "      <td>Yes</td>\n",
       "      <td>Chris</td>\n",
       "    </tr>\n",
       "    <tr>\n",
       "      <th>650</th>\n",
       "      <td>110227</td>\n",
       "      <td>5</td>\n",
       "      <td>10/04/2017</td>\n",
       "      <td>Yes</td>\n",
       "      <td>Terry</td>\n",
       "    </tr>\n",
       "    <tr>\n",
       "      <th>3314</th>\n",
       "      <td>120225</td>\n",
       "      <td>5</td>\n",
       "      <td>09/15/2017</td>\n",
       "      <td>Yes</td>\n",
       "      <td>Sher</td>\n",
       "    </tr>\n",
       "    <tr>\n",
       "      <th>4746</th>\n",
       "      <td>120234</td>\n",
       "      <td>5</td>\n",
       "      <td>08/29/2017</td>\n",
       "      <td>Yes</td>\n",
       "      <td>Schotty</td>\n",
       "    </tr>\n",
       "    <tr>\n",
       "      <th>4762</th>\n",
       "      <td>120234</td>\n",
       "      <td>5</td>\n",
       "      <td>08/17/2017</td>\n",
       "      <td>Yes</td>\n",
       "      <td>MLM</td>\n",
       "    </tr>\n",
       "    <tr>\n",
       "      <th>5339</th>\n",
       "      <td>120243</td>\n",
       "      <td>5</td>\n",
       "      <td>10/09/2017</td>\n",
       "      <td>Yes</td>\n",
       "      <td>doe</td>\n",
       "    </tr>\n",
       "    <tr>\n",
       "      <th>1541</th>\n",
       "      <td>110244</td>\n",
       "      <td>5</td>\n",
       "      <td>10/10/2017</td>\n",
       "      <td>Yes</td>\n",
       "      <td>Boyler</td>\n",
       "    </tr>\n",
       "    <tr>\n",
       "      <th>4938</th>\n",
       "      <td>120236</td>\n",
       "      <td>4</td>\n",
       "      <td>09/06/2017</td>\n",
       "      <td>Yes</td>\n",
       "      <td>Gunslinger</td>\n",
       "    </tr>\n",
       "    <tr>\n",
       "      <th>483</th>\n",
       "      <td>110217</td>\n",
       "      <td>5</td>\n",
       "      <td>06/09/2017</td>\n",
       "      <td>Yes</td>\n",
       "      <td>Chuck</td>\n",
       "    </tr>\n",
       "    <tr>\n",
       "      <th>35</th>\n",
       "      <td>110196</td>\n",
       "      <td>4</td>\n",
       "      <td>09/01/2017</td>\n",
       "      <td>good</td>\n",
       "      <td>mark</td>\n",
       "    </tr>\n",
       "    <tr>\n",
       "      <th>2829</th>\n",
       "      <td>120217</td>\n",
       "      <td>4</td>\n",
       "      <td>03/09/2017</td>\n",
       "      <td>good</td>\n",
       "      <td>Teri</td>\n",
       "    </tr>\n",
       "    <tr>\n",
       "      <th>93</th>\n",
       "      <td>110196</td>\n",
       "      <td>5</td>\n",
       "      <td>06/29/2016</td>\n",
       "      <td>great</td>\n",
       "      <td>big guy</td>\n",
       "    </tr>\n",
       "    <tr>\n",
       "      <th>20</th>\n",
       "      <td>110196</td>\n",
       "      <td>5</td>\n",
       "      <td>09/22/2017</td>\n",
       "      <td>great</td>\n",
       "      <td>none</td>\n",
       "    </tr>\n",
       "    <tr>\n",
       "      <th>4819</th>\n",
       "      <td>120234</td>\n",
       "      <td>4</td>\n",
       "      <td>05/11/2017</td>\n",
       "      <td>i would buy again</td>\n",
       "      <td>no name</td>\n",
       "    </tr>\n",
       "    <tr>\n",
       "      <th>1326</th>\n",
       "      <td>110241</td>\n",
       "      <td>5</td>\n",
       "      <td>06/16/2017</td>\n",
       "      <td>i would buy again</td>\n",
       "      <td>skinny</td>\n",
       "    </tr>\n",
       "    <tr>\n",
       "      <th>867</th>\n",
       "      <td>110236</td>\n",
       "      <td>5</td>\n",
       "      <td>10/20/2017</td>\n",
       "      <td>love it</td>\n",
       "      <td>nice_user_name</td>\n",
       "    </tr>\n",
       "    <tr>\n",
       "      <th>5435</th>\n",
       "      <td>120246</td>\n",
       "      <td>5</td>\n",
       "      <td>11/02/2017</td>\n",
       "      <td>love it</td>\n",
       "      <td>exrunnernowwalker</td>\n",
       "    </tr>\n",
       "    <tr>\n",
       "      <th>2122</th>\n",
       "      <td>110258</td>\n",
       "      <td>5</td>\n",
       "      <td>09/24/2017</td>\n",
       "      <td>love it</td>\n",
       "      <td>rj</td>\n",
       "    </tr>\n",
       "    <tr>\n",
       "      <th>1210</th>\n",
       "      <td>110241</td>\n",
       "      <td>5</td>\n",
       "      <td>10/25/2017</td>\n",
       "      <td>yes</td>\n",
       "      <td>Mike</td>\n",
       "    </tr>\n",
       "    <tr>\n",
       "      <th>1509</th>\n",
       "      <td>110244</td>\n",
       "      <td>4</td>\n",
       "      <td>11/17/2017</td>\n",
       "      <td>yes</td>\n",
       "      <td>Sam</td>\n",
       "    </tr>\n",
       "    <tr>\n",
       "      <th>5249</th>\n",
       "      <td>120238</td>\n",
       "      <td>5</td>\n",
       "      <td>08/31/2017</td>\n",
       "      <td>yes</td>\n",
       "      <td>The Double K's</td>\n",
       "    </tr>\n",
       "    <tr>\n",
       "      <th>696</th>\n",
       "      <td>110227</td>\n",
       "      <td>5</td>\n",
       "      <td>04/27/2017</td>\n",
       "      <td>yes</td>\n",
       "      <td>Windsor</td>\n",
       "    </tr>\n",
       "  </tbody>\n",
       "</table>\n",
       "<p>413 rows × 5 columns</p>\n",
       "</div>"
      ],
      "text/plain": [
       "     modelId rating  ratingDate                     review        reviewAuthor\n",
       "640   110227      5  10/14/2017             #ReviewSweeps            Grandaddy\n",
       "4655  120234      5  10/21/2017             #ReviewSweeps                 Jodi\n",
       "1184  110241      5  10/29/2017         Adrenaline GTS 17          seventyplus\n",
       "1360  110241      4  04/24/2017         Adrenaline GTS 17   Former Beast Lover\n",
       "1449  110242      5  06/24/2017                   Awesome          Trainmaster\n",
       "2047  110257      5  08/22/2017                   Awesome                  Joe\n",
       "157   110211      5  04/09/2017                   Awesome        Matthew Purdy\n",
       "6110  120268      5  12/07/2017                   Awesome                 amyb\n",
       "3603  120225      5  04/14/2017                   Awesome                Haley\n",
       "4356  120231      5  06/11/2017             Awesome shoes                  Cat\n",
       "4833  120234      5  04/22/2017             Awesome shoes       Seattle walker\n",
       "4886  120234      5  03/04/2017             Awesome shoes       Outdoor person\n",
       "3521  120225      5  06/12/2017             Awesome shoes               Hallie\n",
       "5951  120249      5  08/29/2017                Awesome!!!                  JKS\n",
       "357   110215      5  07/22/2016                Awesome!!!          Iron Runner\n",
       "2256  110269      5  11/18/2017        Best running shoes              Peligro\n",
       "1114  110241      5  11/15/2017        Best running shoes                    V\n",
       "3279  120225      5  09/22/2017   Best running shoes ever          Ape's grape\n",
       "1303  110241      5  07/22/2017   Best running shoes ever            Spotsy 95\n",
       "3271  120225      5  09/23/2017  Best running shoes ever!               Sharon\n",
       "3983  120231      5  11/03/2017  Best running shoes ever!                  Cat\n",
       "2269  110269      5  11/07/2017            Best shoe ever                  Ian\n",
       "1911  110256      5  09/08/2017            Best shoe ever                 Huck\n",
       "2546  120217      5  11/02/2017           Best shoe ever!           Jenny Jugs\n",
       "3777  120225      5  07/07/2016           Best shoe ever!          Flowerchild\n",
       "2915  120217      5  07/06/2016           Best shoes ever                  Lea\n",
       "1869  110249      5  03/26/2017           Best shoes ever                  Bob\n",
       "6127  120268      5  11/28/2017               Comfortable                  Lee\n",
       "590   110225      4  04/19/2016               Comfortable             Jaqofall\n",
       "156   110211      4  04/10/2017               Comfortable                Craig\n",
       "...      ...    ...         ...                        ...                 ...\n",
       "6062  120258      4  10/22/2017                       Yes                Karie\n",
       "6060  120258      3  10/23/2017                       Yes                Adana\n",
       "5708  120247      5  11/04/2017                       Yes            Is a Bell\n",
       "3387  120225      5  08/15/2017                       Yes            Walk alot\n",
       "3353  120225      5  08/28/2017                       Yes                  Kel\n",
       "2     110196      5  11/18/2017                       Yes                 Zell\n",
       "4045  120231      5  10/28/2017                       Yes                 None\n",
       "5632  120246      5  08/22/2017                       Yes                  Mel\n",
       "560   110225      5  03/03/2017                       Yes                Chris\n",
       "650   110227      5  10/04/2017                       Yes                Terry\n",
       "3314  120225      5  09/15/2017                       Yes                 Sher\n",
       "4746  120234      5  08/29/2017                       Yes              Schotty\n",
       "4762  120234      5  08/17/2017                       Yes                  MLM\n",
       "5339  120243      5  10/09/2017                       Yes                  doe\n",
       "1541  110244      5  10/10/2017                       Yes               Boyler\n",
       "4938  120236      4  09/06/2017                       Yes           Gunslinger\n",
       "483   110217      5  06/09/2017                       Yes                Chuck\n",
       "35    110196      4  09/01/2017                      good                 mark\n",
       "2829  120217      4  03/09/2017                      good                 Teri\n",
       "93    110196      5  06/29/2016                     great              big guy\n",
       "20    110196      5  09/22/2017                     great                 none\n",
       "4819  120234      4  05/11/2017         i would buy again              no name\n",
       "1326  110241      5  06/16/2017         i would buy again               skinny\n",
       "867   110236      5  10/20/2017                   love it       nice_user_name\n",
       "5435  120246      5  11/02/2017                   love it    exrunnernowwalker\n",
       "2122  110258      5  09/24/2017                   love it                   rj\n",
       "1210  110241      5  10/25/2017                       yes                 Mike\n",
       "1509  110244      4  11/17/2017                       yes                  Sam\n",
       "5249  120238      5  08/31/2017                       yes       The Double K's\n",
       "696   110227      5  04/27/2017                       yes              Windsor\n",
       "\n",
       "[413 rows x 5 columns]"
      ]
     },
     "execution_count": 138,
     "metadata": {},
     "output_type": "execute_result"
    }
   ],
   "source": [
    "duplicates = reviewData_df[reviewData_df.duplicated('review', keep=False)]\n",
    "duplicates.sort_values(by = ['review'])"
   ]
  },
  {
   "cell_type": "markdown",
   "metadata": {},
   "source": [
    "#### Remove duplications if review field is not empty"
   ]
  },
  {
   "cell_type": "code",
   "execution_count": 139,
   "metadata": {},
   "outputs": [
    {
     "name": "stdout",
     "output_type": "stream",
     "text": [
      "0\n"
     ]
    },
    {
     "data": {
      "text/html": [
       "<div>\n",
       "<style scoped>\n",
       "    .dataframe tbody tr th:only-of-type {\n",
       "        vertical-align: middle;\n",
       "    }\n",
       "\n",
       "    .dataframe tbody tr th {\n",
       "        vertical-align: top;\n",
       "    }\n",
       "\n",
       "    .dataframe thead th {\n",
       "        text-align: right;\n",
       "    }\n",
       "</style>\n",
       "<table border=\"1\" class=\"dataframe\">\n",
       "  <thead>\n",
       "    <tr style=\"text-align: right;\">\n",
       "      <th></th>\n",
       "      <th>modelId</th>\n",
       "      <th>rating</th>\n",
       "      <th>ratingDate</th>\n",
       "      <th>review</th>\n",
       "      <th>reviewAuthor</th>\n",
       "    </tr>\n",
       "  </thead>\n",
       "  <tbody>\n",
       "  </tbody>\n",
       "</table>\n",
       "</div>"
      ],
      "text/plain": [
       "Empty DataFrame\n",
       "Columns: [modelId, rating, ratingDate, review, reviewAuthor]\n",
       "Index: []"
      ]
     },
     "execution_count": 139,
     "metadata": {},
     "output_type": "execute_result"
    }
   ],
   "source": [
    "print sum(reviewData_df['review'] == ' ')\n",
    "empty_review_rows = reviewData_df[reviewData_df['review'] == ' ']\n",
    "empty_review_rows.head(5)"
   ]
  },
  {
   "cell_type": "code",
   "execution_count": 140,
   "metadata": {},
   "outputs": [
    {
     "data": {
      "text/plain": [
       "(5855, 5)"
      ]
     },
     "execution_count": 140,
     "metadata": {},
     "output_type": "execute_result"
    }
   ],
   "source": [
    "reviewData_df.drop_duplicates(['review'], keep = 'first', inplace=True)\n",
    "reviewData_df.shape"
   ]
  },
  {
   "cell_type": "code",
   "execution_count": 141,
   "metadata": {},
   "outputs": [
    {
     "data": {
      "text/plain": [
       "(5855, 5)"
      ]
     },
     "execution_count": 141,
     "metadata": {},
     "output_type": "execute_result"
    }
   ],
   "source": [
    "# Add back the empty rows\n",
    "reviewData_df = pd.concat([reviewData_df, empty_review_rows])\n",
    "reviewData_df.shape"
   ]
  },
  {
   "cell_type": "code",
   "execution_count": 142,
   "metadata": {},
   "outputs": [
    {
     "data": {
      "text/html": [
       "<div>\n",
       "<style scoped>\n",
       "    .dataframe tbody tr th:only-of-type {\n",
       "        vertical-align: middle;\n",
       "    }\n",
       "\n",
       "    .dataframe tbody tr th {\n",
       "        vertical-align: top;\n",
       "    }\n",
       "\n",
       "    .dataframe thead th {\n",
       "        text-align: right;\n",
       "    }\n",
       "</style>\n",
       "<table border=\"1\" class=\"dataframe\">\n",
       "  <thead>\n",
       "    <tr style=\"text-align: right;\">\n",
       "      <th></th>\n",
       "      <th>modelId</th>\n",
       "      <th>rating</th>\n",
       "      <th>ratingDate</th>\n",
       "      <th>review</th>\n",
       "      <th>reviewAuthor</th>\n",
       "    </tr>\n",
       "  </thead>\n",
       "  <tbody>\n",
       "    <tr>\n",
       "      <th>0</th>\n",
       "      <td>100029</td>\n",
       "      <td>5</td>\n",
       "      <td>12/01/2017</td>\n",
       "      <td>This shoe is truly an amazing thing!</td>\n",
       "      <td>John</td>\n",
       "    </tr>\n",
       "    <tr>\n",
       "      <th>1</th>\n",
       "      <td>110196</td>\n",
       "      <td>2</td>\n",
       "      <td>11/26/2017</td>\n",
       "      <td>Not for me Just not a comfortable shoe for me,...</td>\n",
       "      <td>Gary</td>\n",
       "    </tr>\n",
       "    <tr>\n",
       "      <th>2</th>\n",
       "      <td>110196</td>\n",
       "      <td>5</td>\n",
       "      <td>11/18/2017</td>\n",
       "      <td>Yes</td>\n",
       "      <td>Zell</td>\n",
       "    </tr>\n",
       "    <tr>\n",
       "      <th>3</th>\n",
       "      <td>110196</td>\n",
       "      <td>5</td>\n",
       "      <td>11/02/2017</td>\n",
       "      <td>Best shoes ever Brooks gave me new life... I h...</td>\n",
       "      <td>Steve</td>\n",
       "    </tr>\n",
       "    <tr>\n",
       "      <th>4</th>\n",
       "      <td>110196</td>\n",
       "      <td>5</td>\n",
       "      <td>11/02/2017</td>\n",
       "      <td>My 10th pair My 10th Bought my 10th pair. I ha...</td>\n",
       "      <td>Lou</td>\n",
       "    </tr>\n",
       "  </tbody>\n",
       "</table>\n",
       "</div>"
      ],
      "text/plain": [
       "  modelId rating  ratingDate  \\\n",
       "0  100029      5  12/01/2017   \n",
       "1  110196      2  11/26/2017   \n",
       "2  110196      5  11/18/2017   \n",
       "3  110196      5  11/02/2017   \n",
       "4  110196      5  11/02/2017   \n",
       "\n",
       "                                              review reviewAuthor  \n",
       "0              This shoe is truly an amazing thing!          John  \n",
       "1  Not for me Just not a comfortable shoe for me,...         Gary  \n",
       "2                                               Yes          Zell  \n",
       "3  Best shoes ever Brooks gave me new life... I h...        Steve  \n",
       "4  My 10th pair My 10th Bought my 10th pair. I ha...          Lou  "
      ]
     },
     "execution_count": 142,
     "metadata": {},
     "output_type": "execute_result"
    }
   ],
   "source": [
    "reviewData_df.head(5)"
   ]
  },
  {
   "cell_type": "code",
   "execution_count": 143,
   "metadata": {},
   "outputs": [
    {
     "data": {
      "text/html": [
       "<div>\n",
       "<style scoped>\n",
       "    .dataframe tbody tr th:only-of-type {\n",
       "        vertical-align: middle;\n",
       "    }\n",
       "\n",
       "    .dataframe tbody tr th {\n",
       "        vertical-align: top;\n",
       "    }\n",
       "\n",
       "    .dataframe thead th {\n",
       "        text-align: right;\n",
       "    }\n",
       "</style>\n",
       "<table border=\"1\" class=\"dataframe\">\n",
       "  <thead>\n",
       "    <tr style=\"text-align: right;\">\n",
       "      <th></th>\n",
       "      <th>modelId</th>\n",
       "      <th>rating</th>\n",
       "      <th>ratingDate</th>\n",
       "      <th>review</th>\n",
       "      <th>reviewAuthor</th>\n",
       "    </tr>\n",
       "  </thead>\n",
       "  <tbody>\n",
       "    <tr>\n",
       "      <th>6161</th>\n",
       "      <td>120268</td>\n",
       "      <td>5</td>\n",
       "      <td>11/04/2017</td>\n",
       "      <td>FINALLY!!  My Adrenaline has come home! I am a...</td>\n",
       "      <td>RN/Soccer Mom/HIIT Addict</td>\n",
       "    </tr>\n",
       "    <tr>\n",
       "      <th>6162</th>\n",
       "      <td>120268</td>\n",
       "      <td>1</td>\n",
       "      <td>11/01/2017</td>\n",
       "      <td>WHY did they change the style????????!!!!!!!!!...</td>\n",
       "      <td>Kimbo</td>\n",
       "    </tr>\n",
       "    <tr>\n",
       "      <th>6163</th>\n",
       "      <td>120268</td>\n",
       "      <td>5</td>\n",
       "      <td>10/28/2017</td>\n",
       "      <td>I love these shoes I bought these shoes today ...</td>\n",
       "      <td>Ingrid</td>\n",
       "    </tr>\n",
       "    <tr>\n",
       "      <th>6164</th>\n",
       "      <td>120268</td>\n",
       "      <td>5</td>\n",
       "      <td>10/28/2017</td>\n",
       "      <td>Such an improvement I was lucky enough to purc...</td>\n",
       "      <td>Joy</td>\n",
       "    </tr>\n",
       "    <tr>\n",
       "      <th>6165</th>\n",
       "      <td>120268</td>\n",
       "      <td>5</td>\n",
       "      <td>10/25/2017</td>\n",
       "      <td>AWESOME UPDATES!!! I have worn many brands and...</td>\n",
       "      <td>Kimber</td>\n",
       "    </tr>\n",
       "  </tbody>\n",
       "</table>\n",
       "</div>"
      ],
      "text/plain": [
       "     modelId rating  ratingDate  \\\n",
       "6161  120268      5  11/04/2017   \n",
       "6162  120268      1  11/01/2017   \n",
       "6163  120268      5  10/28/2017   \n",
       "6164  120268      5  10/28/2017   \n",
       "6165  120268      5  10/25/2017   \n",
       "\n",
       "                                                 review  \\\n",
       "6161  FINALLY!!  My Adrenaline has come home! I am a...   \n",
       "6162  WHY did they change the style????????!!!!!!!!!...   \n",
       "6163  I love these shoes I bought these shoes today ...   \n",
       "6164  Such an improvement I was lucky enough to purc...   \n",
       "6165  AWESOME UPDATES!!! I have worn many brands and...   \n",
       "\n",
       "                   reviewAuthor  \n",
       "6161  RN/Soccer Mom/HIIT Addict  \n",
       "6162                      Kimbo  \n",
       "6163                     Ingrid  \n",
       "6164                        Joy  \n",
       "6165                     Kimber  "
      ]
     },
     "execution_count": 143,
     "metadata": {},
     "output_type": "execute_result"
    }
   ],
   "source": [
    "reviewData_df.tail(5)"
   ]
  },
  {
   "cell_type": "markdown",
   "metadata": {},
   "source": [
    "## Check Point 1: writing DF to .csv before modeling"
   ]
  },
  {
   "cell_type": "code",
   "execution_count": 23,
   "metadata": {},
   "outputs": [],
   "source": [
    "reviewData_df.to_csv('product_reviews.csv', encoding='utf-8', index=False)\n",
    "productspec_df.to_csv('product_features.csv', encoding='utf-8', index=False)"
   ]
  },
  {
   "cell_type": "code",
   "execution_count": 24,
   "metadata": {},
   "outputs": [
    {
     "name": "stdout",
     "output_type": "stream",
     "text": [
      "total 2336\r\n",
      "-rw-------    1 qianyu  staff    71K Jan  4 19:55 JSON_EDA.ipynb\r\n",
      "-rw-r--r--    1 qianyu  staff   470B Dec 21 20:36 README.md\r\n",
      "-rw-r--r--    1 qianyu  staff    45K Dec 22 22:38 Sentiment_model_survey.ipynb\r\n",
      "-rw-r--r--    1 qianyu  staff    39K Dec 23 00:45 Sentiment_p2v_model.ipynb\r\n",
      "drwxr-xr-x  147 qianyu  staff   4.9K Dec 14 17:22 \u001b[34madidas\u001b[m\u001b[m\r\n",
      "drwxr-xr-x@ 165 qianyu  staff   5.5K Dec 12 00:21 \u001b[34masics\u001b[m\u001b[m\r\n",
      "drwxr-xr-x@  73 qianyu  staff   2.4K Dec 14 03:14 \u001b[34mbrooks\u001b[m\u001b[m\r\n",
      "-rw-r--r--    1 qianyu  staff   6.1K Dec 29 11:34 product_feature_EDA.ipynb\r\n",
      "-rw-------    1 qianyu  staff   127K Jan  4 19:57 product_features.csv\r\n",
      "-rw-r--r--    1 qianyu  staff   865K Jan  4 19:57 product_reviews.csv\r\n",
      "drwxr-xr-x    7 qianyu  staff   238B Dec 23 00:21 \u001b[34mshared_lib\u001b[m\u001b[m\r\n"
     ]
    }
   ],
   "source": [
    "!ls -lh"
   ]
  },
  {
   "cell_type": "code",
   "execution_count": null,
   "metadata": {},
   "outputs": [],
   "source": []
  }
 ],
 "metadata": {
  "kernelspec": {
   "display_name": "Python 2",
   "language": "python",
   "name": "python2"
  },
  "language_info": {
   "codemirror_mode": {
    "name": "ipython",
    "version": 2
   },
   "file_extension": ".py",
   "mimetype": "text/x-python",
   "name": "python",
   "nbconvert_exporter": "python",
   "pygments_lexer": "ipython2",
   "version": "2.7.14"
  }
 },
 "nbformat": 4,
 "nbformat_minor": 2
}
