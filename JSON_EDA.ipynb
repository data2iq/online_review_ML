{
 "cells": [
  {
   "cell_type": "markdown",
   "metadata": {},
   "source": [
    "## Environment Info"
   ]
  },
  {
   "cell_type": "code",
   "execution_count": 4,
   "metadata": {},
   "outputs": [
    {
     "name": "stdout",
     "output_type": "stream",
     "text": [
      "Python 2.7.14 :: Anaconda custom (64-bit)\r\n"
     ]
    }
   ],
   "source": [
    "!python --version"
   ]
  },
  {
   "cell_type": "code",
   "execution_count": 5,
   "metadata": {},
   "outputs": [
    {
     "name": "stdout",
     "output_type": "stream",
     "text": [
      "drwxrwxr-x 2 nlp nlp 4.0K Dec  8 11:09 adidas/\n",
      "    145     145    1791\n"
     ]
    }
   ],
   "source": [
    "!ls -l -h -d adidas/\n",
    "!ls adidas/ |wc"
   ]
  },
  {
   "cell_type": "markdown",
   "metadata": {},
   "source": [
    "\n",
    "## EDA of features of 1 Json file"
   ]
  },
  {
   "cell_type": "code",
   "execution_count": 26,
   "metadata": {},
   "outputs": [],
   "source": [
    "import json\n",
    "from pprint import pprint\n",
    "\n",
    "data = json.load(open('brooks/100029.json'))"
   ]
  },
  {
   "cell_type": "code",
   "execution_count": 27,
   "metadata": {},
   "outputs": [
    {
     "data": {
      "text/plain": [
       "[u'rating',\n",
       " u'colorVariation',\n",
       " u'color',\n",
       " u'gender',\n",
       " u'brand',\n",
       " u'reviewData',\n",
       " u'productName',\n",
       " u'reviews',\n",
       " u'productMeta',\n",
       " u'productId',\n",
       " u'productImageLink',\n",
       " u'price',\n",
       " u'modelId']"
      ]
     },
     "execution_count": 27,
     "metadata": {},
     "output_type": "execute_result"
    }
   ],
   "source": [
    "data.keys()"
   ]
  },
  {
   "cell_type": "code",
   "execution_count": 28,
   "metadata": {},
   "outputs": [
    {
     "name": "stdout",
     "output_type": "stream",
     "text": [
      "rating\t<type 'int'>\n",
      "colorVariation\t<type 'list'>\n",
      "color\t<type 'unicode'>\n",
      "gender\t<type 'unicode'>\n",
      "brand\t<type 'unicode'>\n",
      "reviewData\t<type 'list'>\n",
      "productName\t<type 'unicode'>\n",
      "reviews\t<type 'int'>\n",
      "productMeta\t<type 'dict'>\n",
      "productId\t<type 'unicode'>\n",
      "productImageLink\t<type 'unicode'>\n",
      "price\t<type 'int'>\n",
      "modelId\t<type 'unicode'>\n",
      "13\n"
     ]
    }
   ],
   "source": [
    "for key,value in data.iteritems():\n",
    "    print \"{}\\t{}\".format(key, type(value))\n",
    "\n",
    "print len(data)"
   ]
  },
  {
   "cell_type": "code",
   "execution_count": 29,
   "metadata": {},
   "outputs": [
    {
     "data": {
      "text/plain": [
       "[u'specs', u'mediaData', u'productUrl', u'description', u'title']"
      ]
     },
     "execution_count": 29,
     "metadata": {},
     "output_type": "execute_result"
    }
   ],
   "source": [
    "data['productMeta'].keys()"
   ]
  },
  {
   "cell_type": "code",
   "execution_count": 30,
   "metadata": {
    "scrolled": true
   },
   "outputs": [
    {
     "data": {
      "text/plain": [
       "{u'rating': 5,\n",
       " u'ratingDate': u'12/01/2017',\n",
       " u'reviewAuthor': u'John',\n",
       " u'reviewComments': u'',\n",
       " u'reviewTitle': u'This shoe is truly an amazing thing!'}"
      ]
     },
     "execution_count": 30,
     "metadata": {},
     "output_type": "execute_result"
    }
   ],
   "source": [
    "data['reviewData'][0]"
   ]
  },
  {
   "cell_type": "code",
   "execution_count": 31,
   "metadata": {},
   "outputs": [
    {
     "data": {
      "text/plain": [
       "{u'color': u'047',\n",
       " u'price': 120,\n",
       " u'productId': u'100029',\n",
       " u'productImageLink': u'http://www.brooksrunning.com/dw/image/v2/aaev_prd/on/demandware.static/-/Sites-BrooksCatalog/default/dw26966731/images/ProductImages/100029/100029_047_l_WR.jpg?sw=640',\n",
       " u'productUrl': u'http://www.brooksrunning.com/en_us/brooks-elmn8-v4-mens-womens-track-spikes/100029.html?dwvar_100029_width=D&dwvar_100029_color=047'}"
      ]
     },
     "execution_count": 31,
     "metadata": {},
     "output_type": "execute_result"
    }
   ],
   "source": [
    "data['colorVariation'][0]"
   ]
  },
  {
   "cell_type": "markdown",
   "metadata": {},
   "source": [
    "#### Json file Observation\n",
    "\n",
    "* ProductMeta has important product features in dict\n",
    "    * Product features can be used for feature engineering and classification\n",
    "* ReviewData is a list of dict. Key feature is rating, ratingDate, reviewComments, reviewTitle\n",
    "    * reviewComments and reviewTitle can be combined for sentiment analysis\n",
    "* We cannot get actually color information from colorVariation. It has a link to the shoe. \n",
    "    * price maybe different for different colors\n",
    "    * Need to decide later on how to deal with this data"
   ]
  },
  {
   "cell_type": "markdown",
   "metadata": {},
   "source": [
    "\n",
    "\n",
    "## Building data frame for product feature and reviews\n",
    "\n",
    "* Each json file is 1 product from 1 website\n",
    "* Process each json file at a time and produce\n",
    "    * A data frame for reviews, multiple rows and need to have productID\n",
    "    * A product feature data frame, 1 row and need to use the same productID\n",
    "* Treat same product from different website\n",
    "    * Match product ID\n",
    "    * Join the table?"
   ]
  },
  {
   "cell_type": "markdown",
   "metadata": {},
   "source": [
    "Data Process Functions"
   ]
  },
  {
   "cell_type": "code",
   "execution_count": 34,
   "metadata": {},
   "outputs": [],
   "source": [
    "import json\n",
    "import pandas as pd\n",
    "import itertools\n",
    "import sys\n",
    "from collections import defaultdict\n",
    "\n",
    "def reviewData2DF(review_data):\n",
    "    df = pd.DataFrame.from_dict(review_data)\n",
    "    if 'badges' in review_data:\n",
    "        df = df.drop(['badges'], axis = 1)\n",
    "    if 'images' in review_data:    \n",
    "        df = df.drop(['images'], axis = 1)\n",
    "    if 'reviewAuthor' in review_data:\n",
    "        df = df.drop(['reviewAuthor'], axis = 1)\n",
    "    if 'reviewID' in review_data:\n",
    "        df = df.drop(['reviewId'], axis = 1)\n",
    "    return df\n",
    "\n",
    "def productmeta2DF(meta_data):\n",
    "    df = pd.DataFrame.from_dict([meta_data])\n",
    "    \n",
    "    ## drop fields:\n",
    "    if 'mediaData' in meta_data:    \n",
    "        df = df.drop(['mediaData'], axis = 1)\n",
    "    if 'productUrl' in meta_data:\n",
    "        df = df.drop(['productUrl'], axis = 1)\n",
    "    if 'title' in meta_data:\n",
    "        df = df.drop(['title'], axis = 1)\n",
    "    if 'subtitle' in meta_data:\n",
    "        df = df.drop(['subtitle'], axis = 1)\n",
    "    \n",
    "    # process 'specs' \n",
    "    if 'specs' in meta_data:\n",
    "        df.loc[0, 'specs'] = u' '.join(df.loc[0, 'specs']).encode('utf-8').strip()\n",
    "    else:\n",
    "        df.loc[0, 'specs'] = 'NaN'\n",
    "    \n",
    "    # process 'description'\n",
    "    if 'description' not in meta_data:\n",
    "        df.loc[0, 'description'] = 'NaN'\n",
    "    return df\n",
    "\n",
    "def read_json(json_file):\n",
    "    # Process Json fields\n",
    "    review_header = ['rating', 'ratingDate', 'reviewComments', 'reviewTitle', 'modelId']\n",
    "    feature_header = ['description', 'specs', 'rating', 'brand', 'gender', 'price', 'productName', 'modelId']\n",
    "    df_review = pd.DataFrame(columns=review_header)\n",
    "    df_productspec = pd.DataFrame(columns=feature_header)\n",
    "    \n",
    "    for key,value in json_file.iteritems():\n",
    "        if key == 'productMeta':\n",
    "            df_productspec = productmeta2DF(value)\n",
    "        elif key == 'reviewData':\n",
    "            if value:\n",
    "                df_review = reviewData2DF(value)\n",
    "        elif key == 'rating':\n",
    "            rating = value\n",
    "        elif key == 'gender':\n",
    "            gender = value\n",
    "        elif key == 'productName':\n",
    "            productName = value\n",
    "        elif key == 'brand':\n",
    "            brand = value\n",
    "        elif key == 'price':\n",
    "            price = value\n",
    "        elif key == 'modelId':\n",
    "            modelId = value\n",
    "    \n",
    "    # Complete product spec data frame fields\n",
    "    df_productspec['rating'] = rating\n",
    "    df_productspec['brand'] = brand\n",
    "    df_productspec['gender'] = gender\n",
    "    df_productspec['price'] = price\n",
    "    df_productspec['productName'] = productName\n",
    "    df_productspec['modelId'] = modelId\n",
    "    \n",
    "    # Complete Review data frame fields\n",
    "    df_review['modelId'] = [modelId] * df_review.shape[0]\n",
    "    \n",
    "    return df_productspec, df_review"
   ]
  },
  {
   "cell_type": "markdown",
   "metadata": {},
   "source": [
    "### Exam Json DataFrame"
   ]
  },
  {
   "cell_type": "code",
   "execution_count": 35,
   "metadata": {},
   "outputs": [],
   "source": [
    "data = json.load(open('brooks/100029.json'))\n",
    "df_product, df_review = read_json(data)"
   ]
  },
  {
   "cell_type": "code",
   "execution_count": 36,
   "metadata": {},
   "outputs": [
    {
     "name": "stdout",
     "output_type": "stream",
     "text": [
      "rating\t<type 'int'>\n",
      "colorVariation\t<type 'list'>\n",
      "color\t<type 'unicode'>\n",
      "gender\t<type 'unicode'>\n",
      "brand\t<type 'unicode'>\n",
      "reviewData\t<type 'list'>\n",
      "productName\t<type 'unicode'>\n",
      "reviews\t<type 'int'>\n",
      "productMeta\t<type 'dict'>\n",
      "productId\t<type 'unicode'>\n",
      "productImageLink\t<type 'unicode'>\n",
      "price\t<type 'int'>\n",
      "modelId\t<type 'unicode'>\n",
      "13\n"
     ]
    }
   ],
   "source": [
    "for key,value in data.iteritems():\n",
    "    print \"{}\\t{}\".format(key, type(value))\n",
    "\n",
    "print len(data)"
   ]
  },
  {
   "cell_type": "code",
   "execution_count": 37,
   "metadata": {
    "scrolled": true
   },
   "outputs": [
    {
     "data": {
      "text/html": [
       "<div>\n",
       "<style scoped>\n",
       "    .dataframe tbody tr th:only-of-type {\n",
       "        vertical-align: middle;\n",
       "    }\n",
       "\n",
       "    .dataframe tbody tr th {\n",
       "        vertical-align: top;\n",
       "    }\n",
       "\n",
       "    .dataframe thead th {\n",
       "        text-align: right;\n",
       "    }\n",
       "</style>\n",
       "<table border=\"1\" class=\"dataframe\">\n",
       "  <thead>\n",
       "    <tr style=\"text-align: right;\">\n",
       "      <th></th>\n",
       "      <th>rating</th>\n",
       "      <th>ratingDate</th>\n",
       "      <th>reviewAuthor</th>\n",
       "      <th>reviewComments</th>\n",
       "      <th>reviewTitle</th>\n",
       "      <th>modelId</th>\n",
       "    </tr>\n",
       "  </thead>\n",
       "  <tbody>\n",
       "    <tr>\n",
       "      <th>0</th>\n",
       "      <td>5</td>\n",
       "      <td>12/01/2017</td>\n",
       "      <td>John</td>\n",
       "      <td></td>\n",
       "      <td>This shoe is truly an amazing thing!</td>\n",
       "      <td>100029</td>\n",
       "    </tr>\n",
       "  </tbody>\n",
       "</table>\n",
       "</div>"
      ],
      "text/plain": [
       "   rating  ratingDate reviewAuthor reviewComments  \\\n",
       "0       5  12/01/2017         John                  \n",
       "\n",
       "                            reviewTitle modelId  \n",
       "0  This shoe is truly an amazing thing!  100029  "
      ]
     },
     "execution_count": 37,
     "metadata": {},
     "output_type": "execute_result"
    }
   ],
   "source": [
    "df_review"
   ]
  },
  {
   "cell_type": "code",
   "execution_count": 38,
   "metadata": {},
   "outputs": [
    {
     "data": {
      "text/html": [
       "<div>\n",
       "<style scoped>\n",
       "    .dataframe tbody tr th:only-of-type {\n",
       "        vertical-align: middle;\n",
       "    }\n",
       "\n",
       "    .dataframe tbody tr th {\n",
       "        vertical-align: top;\n",
       "    }\n",
       "\n",
       "    .dataframe thead th {\n",
       "        text-align: right;\n",
       "    }\n",
       "</style>\n",
       "<table border=\"1\" class=\"dataframe\">\n",
       "  <thead>\n",
       "    <tr style=\"text-align: right;\">\n",
       "      <th></th>\n",
       "      <th>description</th>\n",
       "      <th>specs</th>\n",
       "      <th>rating</th>\n",
       "      <th>brand</th>\n",
       "      <th>gender</th>\n",
       "      <th>price</th>\n",
       "      <th>productName</th>\n",
       "      <th>modelId</th>\n",
       "    </tr>\n",
       "  </thead>\n",
       "  <tbody>\n",
       "    <tr>\n",
       "      <th>0</th>\n",
       "      <td>An unrelenting middle-distance track spike, de...</td>\n",
       "      <td>Support: Neutral Midsole Drop: 0mm Weight: 4.2...</td>\n",
       "      <td>5</td>\n",
       "      <td>Brooks</td>\n",
       "      <td>M</td>\n",
       "      <td>120</td>\n",
       "      <td>ELMN8 v4</td>\n",
       "      <td>100029</td>\n",
       "    </tr>\n",
       "  </tbody>\n",
       "</table>\n",
       "</div>"
      ],
      "text/plain": [
       "                                         description  \\\n",
       "0  An unrelenting middle-distance track spike, de...   \n",
       "\n",
       "                                               specs  rating   brand gender  \\\n",
       "0  Support: Neutral Midsole Drop: 0mm Weight: 4.2...       5  Brooks      M   \n",
       "\n",
       "   price productName modelId  \n",
       "0    120    ELMN8 v4  100029  "
      ]
     },
     "execution_count": 38,
     "metadata": {},
     "output_type": "execute_result"
    }
   ],
   "source": [
    "df_product"
   ]
  },
  {
   "cell_type": "markdown",
   "metadata": {},
   "source": [
    "### Process multiple Json files"
   ]
  },
  {
   "cell_type": "code",
   "execution_count": 39,
   "metadata": {
    "scrolled": true
   },
   "outputs": [
    {
     "name": "stdout",
     "output_type": "stream",
     "text": [
      "Processed total 71 JSON files\n"
     ]
    }
   ],
   "source": [
    "import glob   \n",
    "\n",
    "JSON_PATH = 'brooks/*.json'   \n",
    "file_list = glob.glob(JSON_PATH) \n",
    "\n",
    "feature_dfs = []\n",
    "review_dfs = []\n",
    "\n",
    "count = 0\n",
    "for json_file in file_list:\n",
    "    # print \"Process {} ...\".format(json_file)\n",
    "    json_data = json.load(open(json_file))\n",
    "    df_product, df_review = read_json(json_data)\n",
    "    feature_dfs.append(df_product)\n",
    "    review_dfs.append(df_review)\n",
    "    count += 1\n",
    "\n",
    "print \"Processed total {:d} JSON files\".format(count)"
   ]
  },
  {
   "cell_type": "markdown",
   "metadata": {},
   "source": [
    "\n",
    "### Generate and post-process product spec data frame"
   ]
  },
  {
   "cell_type": "code",
   "execution_count": 41,
   "metadata": {
    "scrolled": true
   },
   "outputs": [
    {
     "name": "stdout",
     "output_type": "stream",
     "text": [
      "Product Spec DF Shape: (71, 8)\n"
     ]
    },
    {
     "data": {
      "text/html": [
       "<div>\n",
       "<style scoped>\n",
       "    .dataframe tbody tr th:only-of-type {\n",
       "        vertical-align: middle;\n",
       "    }\n",
       "\n",
       "    .dataframe tbody tr th {\n",
       "        vertical-align: top;\n",
       "    }\n",
       "\n",
       "    .dataframe thead th {\n",
       "        text-align: right;\n",
       "    }\n",
       "</style>\n",
       "<table border=\"1\" class=\"dataframe\">\n",
       "  <thead>\n",
       "    <tr style=\"text-align: right;\">\n",
       "      <th></th>\n",
       "      <th>description</th>\n",
       "      <th>specs</th>\n",
       "      <th>rating</th>\n",
       "      <th>brand</th>\n",
       "      <th>gender</th>\n",
       "      <th>price</th>\n",
       "      <th>productName</th>\n",
       "      <th>modelId</th>\n",
       "    </tr>\n",
       "  </thead>\n",
       "  <tbody>\n",
       "    <tr>\n",
       "      <th>0</th>\n",
       "      <td>Comfort styled to go anywhere, for runners loo...</td>\n",
       "      <td>Support: Neutral Midsole Drop: 12mm Weight: 8....</td>\n",
       "      <td>4.5</td>\n",
       "      <td>Brooks</td>\n",
       "      <td>M</td>\n",
       "      <td>100</td>\n",
       "      <td>Revel</td>\n",
       "      <td>120249</td>\n",
       "    </tr>\n",
       "    <tr>\n",
       "      <th>1</th>\n",
       "      <td>Springy and supportive, for those who want to ...</td>\n",
       "      <td>Support: Support Midsole Drop: 10mm Weight: 8....</td>\n",
       "      <td>3.5</td>\n",
       "      <td>Brooks</td>\n",
       "      <td>M</td>\n",
       "      <td>110</td>\n",
       "      <td>Ravenna 8</td>\n",
       "      <td>120238</td>\n",
       "    </tr>\n",
       "    <tr>\n",
       "      <th>2</th>\n",
       "      <td>The smoothest ride possible with GORE-TEX® tec...</td>\n",
       "      <td>Midsole Drop: 12mm Weight: 11.3oz / 320.3g Arc...</td>\n",
       "      <td>5.0</td>\n",
       "      <td>Brooks</td>\n",
       "      <td>F</td>\n",
       "      <td>150</td>\n",
       "      <td>Ghost 10 GTX</td>\n",
       "      <td>110256</td>\n",
       "    </tr>\n",
       "    <tr>\n",
       "      <th>3</th>\n",
       "      <td>Attack any terrain fast in our lightest, faste...</td>\n",
       "      <td>Support: Neutral Midsole Drop: 6mm Weight: 9.3...</td>\n",
       "      <td>0.0</td>\n",
       "      <td>Brooks</td>\n",
       "      <td>F</td>\n",
       "      <td>140</td>\n",
       "      <td>Mazama 2</td>\n",
       "      <td>110279</td>\n",
       "    </tr>\n",
       "    <tr>\n",
       "      <th>4</th>\n",
       "      <td>Lightweight support to be one with your run, f...</td>\n",
       "      <td>Support: Support Midsole Drop: 4mm Weight: 7.5...</td>\n",
       "      <td>4.5</td>\n",
       "      <td>Brooks</td>\n",
       "      <td>M</td>\n",
       "      <td>110</td>\n",
       "      <td>PureCadence 6</td>\n",
       "      <td>120236</td>\n",
       "    </tr>\n",
       "  </tbody>\n",
       "</table>\n",
       "</div>"
      ],
      "text/plain": [
       "                                         description  \\\n",
       "0  Comfort styled to go anywhere, for runners loo...   \n",
       "1  Springy and supportive, for those who want to ...   \n",
       "2  The smoothest ride possible with GORE-TEX® tec...   \n",
       "3  Attack any terrain fast in our lightest, faste...   \n",
       "4  Lightweight support to be one with your run, f...   \n",
       "\n",
       "                                               specs  rating   brand gender  \\\n",
       "0  Support: Neutral Midsole Drop: 12mm Weight: 8....     4.5  Brooks      M   \n",
       "1  Support: Support Midsole Drop: 10mm Weight: 8....     3.5  Brooks      M   \n",
       "2  Midsole Drop: 12mm Weight: 11.3oz / 320.3g Arc...     5.0  Brooks      F   \n",
       "3  Support: Neutral Midsole Drop: 6mm Weight: 9.3...     0.0  Brooks      F   \n",
       "4  Support: Support Midsole Drop: 4mm Weight: 7.5...     4.5  Brooks      M   \n",
       "\n",
       "   price    productName modelId  \n",
       "0    100          Revel  120249  \n",
       "1    110      Ravenna 8  120238  \n",
       "2    150   Ghost 10 GTX  110256  \n",
       "3    140       Mazama 2  110279  \n",
       "4    110  PureCadence 6  120236  "
      ]
     },
     "execution_count": 41,
     "metadata": {},
     "output_type": "execute_result"
    }
   ],
   "source": [
    "productspec_df = pd.concat(feature_dfs)\n",
    "productspec_df.reset_index(drop=True, inplace=True)\n",
    "\n",
    "print \"Product Spec DF Shape: {}\".format(productspec_df.shape)\n",
    "productspec_df.head()"
   ]
  },
  {
   "cell_type": "markdown",
   "metadata": {},
   "source": [
    "#### Check duplicates by the whole roles"
   ]
  },
  {
   "cell_type": "code",
   "execution_count": 42,
   "metadata": {
    "scrolled": false
   },
   "outputs": [
    {
     "data": {
      "text/plain": [
       "(71, 8)"
      ]
     },
     "execution_count": 42,
     "metadata": {},
     "output_type": "execute_result"
    }
   ],
   "source": [
    "productspec_df.drop_duplicates\n",
    "productspec_df.shape"
   ]
  },
  {
   "cell_type": "markdown",
   "metadata": {},
   "source": [
    "#### Check duplicates by shoe models"
   ]
  },
  {
   "cell_type": "code",
   "execution_count": 43,
   "metadata": {},
   "outputs": [
    {
     "data": {
      "text/plain": [
       "0     False\n",
       "1     False\n",
       "2     False\n",
       "3     False\n",
       "4     False\n",
       "5     False\n",
       "6     False\n",
       "7     False\n",
       "8     False\n",
       "9     False\n",
       "10    False\n",
       "11    False\n",
       "12    False\n",
       "13    False\n",
       "14    False\n",
       "15    False\n",
       "16    False\n",
       "17    False\n",
       "18    False\n",
       "19    False\n",
       "20    False\n",
       "21    False\n",
       "22    False\n",
       "23    False\n",
       "24    False\n",
       "25    False\n",
       "26    False\n",
       "27    False\n",
       "28    False\n",
       "29    False\n",
       "      ...  \n",
       "41    False\n",
       "42    False\n",
       "43    False\n",
       "44    False\n",
       "45    False\n",
       "46    False\n",
       "47    False\n",
       "48    False\n",
       "49    False\n",
       "50    False\n",
       "51    False\n",
       "52    False\n",
       "53    False\n",
       "54    False\n",
       "55    False\n",
       "56    False\n",
       "57    False\n",
       "58    False\n",
       "59    False\n",
       "60    False\n",
       "61    False\n",
       "62    False\n",
       "63    False\n",
       "64    False\n",
       "65    False\n",
       "66    False\n",
       "67    False\n",
       "68    False\n",
       "69    False\n",
       "70    False\n",
       "Length: 71, dtype: bool"
      ]
     },
     "execution_count": 43,
     "metadata": {},
     "output_type": "execute_result"
    }
   ],
   "source": [
    "productspec_df.duplicated('modelId')"
   ]
  },
  {
   "cell_type": "code",
   "execution_count": 44,
   "metadata": {},
   "outputs": [
    {
     "data": {
      "text/plain": [
       "0"
      ]
     },
     "execution_count": 44,
     "metadata": {},
     "output_type": "execute_result"
    }
   ],
   "source": [
    "sum(productspec_df.duplicated('modelId'))"
   ]
  },
  {
   "cell_type": "markdown",
   "metadata": {},
   "source": [
    "#### Duplicate models"
   ]
  },
  {
   "cell_type": "code",
   "execution_count": 45,
   "metadata": {},
   "outputs": [
    {
     "data": {
      "text/html": [
       "<div>\n",
       "<style scoped>\n",
       "    .dataframe tbody tr th:only-of-type {\n",
       "        vertical-align: middle;\n",
       "    }\n",
       "\n",
       "    .dataframe tbody tr th {\n",
       "        vertical-align: top;\n",
       "    }\n",
       "\n",
       "    .dataframe thead th {\n",
       "        text-align: right;\n",
       "    }\n",
       "</style>\n",
       "<table border=\"1\" class=\"dataframe\">\n",
       "  <thead>\n",
       "    <tr style=\"text-align: right;\">\n",
       "      <th></th>\n",
       "      <th>description</th>\n",
       "      <th>specs</th>\n",
       "      <th>rating</th>\n",
       "      <th>brand</th>\n",
       "      <th>gender</th>\n",
       "      <th>price</th>\n",
       "      <th>productName</th>\n",
       "      <th>modelId</th>\n",
       "    </tr>\n",
       "  </thead>\n",
       "  <tbody>\n",
       "  </tbody>\n",
       "</table>\n",
       "</div>"
      ],
      "text/plain": [
       "Empty DataFrame\n",
       "Columns: [description, specs, rating, brand, gender, price, productName, modelId]\n",
       "Index: []"
      ]
     },
     "execution_count": 45,
     "metadata": {},
     "output_type": "execute_result"
    }
   ],
   "source": [
    "duplicates = productspec_df[productspec_df.duplicated('modelId', keep=False)]\n",
    "duplicates.sort_values(by = ['modelId'])"
   ]
  },
  {
   "cell_type": "markdown",
   "metadata": {},
   "source": [
    "#### After exam the rows, we can remove duplicate rows. The whole row does not match maybe due to while spaces"
   ]
  },
  {
   "cell_type": "code",
   "execution_count": 46,
   "metadata": {},
   "outputs": [
    {
     "data": {
      "text/plain": [
       "(71, 8)"
      ]
     },
     "execution_count": 46,
     "metadata": {},
     "output_type": "execute_result"
    }
   ],
   "source": [
    "productspec_df.drop_duplicates(['modelId'], keep = 'first', inplace=True)\n",
    "productspec_df.shape"
   ]
  },
  {
   "cell_type": "markdown",
   "metadata": {},
   "source": [
    "### Generate and post-process review data frame"
   ]
  },
  {
   "cell_type": "code",
   "execution_count": 47,
   "metadata": {},
   "outputs": [
    {
     "name": "stdout",
     "output_type": "stream",
     "text": [
      "Review Data DF Shape: (6166, 6)\n"
     ]
    },
    {
     "data": {
      "text/html": [
       "<div>\n",
       "<style scoped>\n",
       "    .dataframe tbody tr th:only-of-type {\n",
       "        vertical-align: middle;\n",
       "    }\n",
       "\n",
       "    .dataframe tbody tr th {\n",
       "        vertical-align: top;\n",
       "    }\n",
       "\n",
       "    .dataframe thead th {\n",
       "        text-align: right;\n",
       "    }\n",
       "</style>\n",
       "<table border=\"1\" class=\"dataframe\">\n",
       "  <thead>\n",
       "    <tr style=\"text-align: right;\">\n",
       "      <th></th>\n",
       "      <th>modelId</th>\n",
       "      <th>rating</th>\n",
       "      <th>ratingDate</th>\n",
       "      <th>reviewAuthor</th>\n",
       "      <th>reviewComments</th>\n",
       "      <th>reviewTitle</th>\n",
       "    </tr>\n",
       "  </thead>\n",
       "  <tbody>\n",
       "    <tr>\n",
       "      <th>0</th>\n",
       "      <td>120249</td>\n",
       "      <td>5</td>\n",
       "      <td>12/07/2017</td>\n",
       "      <td>Stacie</td>\n",
       "      <td>Very cushiony shoe. It's comfortable to me, bu...</td>\n",
       "      <td>Very comfortable!</td>\n",
       "    </tr>\n",
       "    <tr>\n",
       "      <th>1</th>\n",
       "      <td>120249</td>\n",
       "      <td>5</td>\n",
       "      <td>12/05/2017</td>\n",
       "      <td>Lanier</td>\n",
       "      <td></td>\n",
       "      <td>Recommend!</td>\n",
       "    </tr>\n",
       "    <tr>\n",
       "      <th>2</th>\n",
       "      <td>120249</td>\n",
       "      <td>5</td>\n",
       "      <td>12/03/2017</td>\n",
       "      <td>Carolyn</td>\n",
       "      <td>I haven't worn these much but took them out a ...</td>\n",
       "      <td>Nice for soft ground</td>\n",
       "    </tr>\n",
       "    <tr>\n",
       "      <th>3</th>\n",
       "      <td>120249</td>\n",
       "      <td>5</td>\n",
       "      <td>12/02/2017</td>\n",
       "      <td>The Italian</td>\n",
       "      <td>The top is flexible allowing for foot deformat...</td>\n",
       "      <td>Good Shoe!</td>\n",
       "    </tr>\n",
       "    <tr>\n",
       "      <th>4</th>\n",
       "      <td>120249</td>\n",
       "      <td>5</td>\n",
       "      <td>12/01/2017</td>\n",
       "      <td>Jhd</td>\n",
       "      <td></td>\n",
       "      <td>This is my third pair. Love them</td>\n",
       "    </tr>\n",
       "  </tbody>\n",
       "</table>\n",
       "</div>"
      ],
      "text/plain": [
       "  modelId rating  ratingDate reviewAuthor  \\\n",
       "0  120249      5  12/07/2017       Stacie   \n",
       "1  120249      5  12/05/2017       Lanier   \n",
       "2  120249      5  12/03/2017      Carolyn   \n",
       "3  120249      5  12/02/2017  The Italian   \n",
       "4  120249      5  12/01/2017          Jhd   \n",
       "\n",
       "                                      reviewComments  \\\n",
       "0  Very cushiony shoe. It's comfortable to me, bu...   \n",
       "1                                                      \n",
       "2  I haven't worn these much but took them out a ...   \n",
       "3  The top is flexible allowing for foot deformat...   \n",
       "4                                                      \n",
       "\n",
       "                        reviewTitle  \n",
       "0                 Very comfortable!  \n",
       "1                        Recommend!  \n",
       "2              Nice for soft ground  \n",
       "3                        Good Shoe!  \n",
       "4  This is my third pair. Love them  "
      ]
     },
     "execution_count": 47,
     "metadata": {},
     "output_type": "execute_result"
    }
   ],
   "source": [
    "reviewData_df = pd.concat(review_dfs)\n",
    "reviewData_df.reset_index(drop=True, inplace=True)\n",
    "\n",
    "print \"Review Data DF Shape: {}\".format(reviewData_df.shape)\n",
    "reviewData_df.head()"
   ]
  },
  {
   "cell_type": "markdown",
   "metadata": {},
   "source": [
    "#### Check for duplicated reivews"
   ]
  },
  {
   "cell_type": "code",
   "execution_count": 48,
   "metadata": {},
   "outputs": [
    {
     "data": {
      "text/plain": [
       "(6166, 6)"
      ]
     },
     "execution_count": 48,
     "metadata": {},
     "output_type": "execute_result"
    }
   ],
   "source": [
    "reviewData_df.drop_duplicates\n",
    "reviewData_df.shape"
   ]
  },
  {
   "cell_type": "code",
   "execution_count": 63,
   "metadata": {},
   "outputs": [
    {
     "data": {
      "text/plain": [
       "311"
      ]
     },
     "execution_count": 63,
     "metadata": {},
     "output_type": "execute_result"
    }
   ],
   "source": [
    "sum(reviewData_df.duplicated(['reviewComments', 'reviewTitle']))"
   ]
  },
  {
   "cell_type": "code",
   "execution_count": 64,
   "metadata": {
    "scrolled": false
   },
   "outputs": [
    {
     "data": {
      "text/html": [
       "<div>\n",
       "<style scoped>\n",
       "    .dataframe tbody tr th:only-of-type {\n",
       "        vertical-align: middle;\n",
       "    }\n",
       "\n",
       "    .dataframe tbody tr th {\n",
       "        vertical-align: top;\n",
       "    }\n",
       "\n",
       "    .dataframe thead th {\n",
       "        text-align: right;\n",
       "    }\n",
       "</style>\n",
       "<table border=\"1\" class=\"dataframe\">\n",
       "  <thead>\n",
       "    <tr style=\"text-align: right;\">\n",
       "      <th></th>\n",
       "      <th>modelId</th>\n",
       "      <th>rating</th>\n",
       "      <th>ratingDate</th>\n",
       "      <th>reviewAuthor</th>\n",
       "      <th>reviewComments</th>\n",
       "      <th>reviewTitle</th>\n",
       "    </tr>\n",
       "  </thead>\n",
       "  <tbody>\n",
       "    <tr>\n",
       "      <th>61</th>\n",
       "      <td>120249</td>\n",
       "      <td>5</td>\n",
       "      <td>09/23/2017</td>\n",
       "      <td>ole girl</td>\n",
       "      <td></td>\n",
       "      <td>I would buy this shoe again</td>\n",
       "    </tr>\n",
       "    <tr>\n",
       "      <th>4572</th>\n",
       "      <td>120225</td>\n",
       "      <td>5</td>\n",
       "      <td>04/03/2017</td>\n",
       "      <td>B</td>\n",
       "      <td></td>\n",
       "      <td>Love them!</td>\n",
       "    </tr>\n",
       "    <tr>\n",
       "      <th>4563</th>\n",
       "      <td>120225</td>\n",
       "      <td>5</td>\n",
       "      <td>04/10/2017</td>\n",
       "      <td>Lauren</td>\n",
       "      <td></td>\n",
       "      <td>Love them</td>\n",
       "    </tr>\n",
       "    <tr>\n",
       "      <th>4556</th>\n",
       "      <td>120225</td>\n",
       "      <td>5</td>\n",
       "      <td>04/14/2017</td>\n",
       "      <td>Haley</td>\n",
       "      <td></td>\n",
       "      <td>Awesome</td>\n",
       "    </tr>\n",
       "    <tr>\n",
       "      <th>4523</th>\n",
       "      <td>120225</td>\n",
       "      <td>5</td>\n",
       "      <td>05/10/2017</td>\n",
       "      <td>Sheila the Runner</td>\n",
       "      <td></td>\n",
       "      <td>Love these!</td>\n",
       "    </tr>\n",
       "    <tr>\n",
       "      <th>4500</th>\n",
       "      <td>120225</td>\n",
       "      <td>5</td>\n",
       "      <td>05/31/2017</td>\n",
       "      <td>v-</td>\n",
       "      <td></td>\n",
       "      <td>Excellent!</td>\n",
       "    </tr>\n",
       "    <tr>\n",
       "      <th>4487</th>\n",
       "      <td>120225</td>\n",
       "      <td>5</td>\n",
       "      <td>06/09/2017</td>\n",
       "      <td>Lone runner</td>\n",
       "      <td></td>\n",
       "      <td>Love them!</td>\n",
       "    </tr>\n",
       "    <tr>\n",
       "      <th>4485</th>\n",
       "      <td>120225</td>\n",
       "      <td>5</td>\n",
       "      <td>06/10/2017</td>\n",
       "      <td>Bri</td>\n",
       "      <td></td>\n",
       "      <td>Love these shoes!</td>\n",
       "    </tr>\n",
       "    <tr>\n",
       "      <th>4474</th>\n",
       "      <td>120225</td>\n",
       "      <td>5</td>\n",
       "      <td>06/12/2017</td>\n",
       "      <td>Hallie</td>\n",
       "      <td></td>\n",
       "      <td>Awesome shoes</td>\n",
       "    </tr>\n",
       "    <tr>\n",
       "      <th>4463</th>\n",
       "      <td>120225</td>\n",
       "      <td>5</td>\n",
       "      <td>06/19/2017</td>\n",
       "      <td>Meg</td>\n",
       "      <td></td>\n",
       "      <td>Love these shoes!</td>\n",
       "    </tr>\n",
       "    <tr>\n",
       "      <th>4458</th>\n",
       "      <td>120225</td>\n",
       "      <td>5</td>\n",
       "      <td>06/20/2017</td>\n",
       "      <td>SNP</td>\n",
       "      <td></td>\n",
       "      <td>Great running shoes</td>\n",
       "    </tr>\n",
       "    <tr>\n",
       "      <th>4454</th>\n",
       "      <td>120225</td>\n",
       "      <td>5</td>\n",
       "      <td>06/23/2017</td>\n",
       "      <td>Stacy</td>\n",
       "      <td></td>\n",
       "      <td>Love this shoe!</td>\n",
       "    </tr>\n",
       "    <tr>\n",
       "      <th>4431</th>\n",
       "      <td>120225</td>\n",
       "      <td>5</td>\n",
       "      <td>06/30/2017</td>\n",
       "      <td>Susan</td>\n",
       "      <td></td>\n",
       "      <td>Great Shoes</td>\n",
       "    </tr>\n",
       "    <tr>\n",
       "      <th>4411</th>\n",
       "      <td>120225</td>\n",
       "      <td>5</td>\n",
       "      <td>07/06/2017</td>\n",
       "      <td>Yuba</td>\n",
       "      <td></td>\n",
       "      <td>I will buy this product again.</td>\n",
       "    </tr>\n",
       "    <tr>\n",
       "      <th>4394</th>\n",
       "      <td>120225</td>\n",
       "      <td>5</td>\n",
       "      <td>07/15/2017</td>\n",
       "      <td>Bronwyn</td>\n",
       "      <td></td>\n",
       "      <td>I would buy again</td>\n",
       "    </tr>\n",
       "    <tr>\n",
       "      <th>4392</th>\n",
       "      <td>120225</td>\n",
       "      <td>5</td>\n",
       "      <td>07/20/2017</td>\n",
       "      <td>Cherrie</td>\n",
       "      <td></td>\n",
       "      <td>Great shoes</td>\n",
       "    </tr>\n",
       "    <tr>\n",
       "      <th>4576</th>\n",
       "      <td>120225</td>\n",
       "      <td>5</td>\n",
       "      <td>03/29/2017</td>\n",
       "      <td>Amy</td>\n",
       "      <td></td>\n",
       "      <td>I would buy these shoes again!</td>\n",
       "    </tr>\n",
       "    <tr>\n",
       "      <th>4592</th>\n",
       "      <td>120225</td>\n",
       "      <td>5</td>\n",
       "      <td>03/21/2017</td>\n",
       "      <td>Q</td>\n",
       "      <td></td>\n",
       "      <td>Great shoe</td>\n",
       "    </tr>\n",
       "    <tr>\n",
       "      <th>4595</th>\n",
       "      <td>120225</td>\n",
       "      <td>5</td>\n",
       "      <td>03/18/2017</td>\n",
       "      <td>Kris</td>\n",
       "      <td></td>\n",
       "      <td>Love these!</td>\n",
       "    </tr>\n",
       "    <tr>\n",
       "      <th>4605</th>\n",
       "      <td>120225</td>\n",
       "      <td>4</td>\n",
       "      <td>03/08/2017</td>\n",
       "      <td>Becca</td>\n",
       "      <td></td>\n",
       "      <td>Good shoe</td>\n",
       "    </tr>\n",
       "    <tr>\n",
       "      <th>4937</th>\n",
       "      <td>110229</td>\n",
       "      <td>1</td>\n",
       "      <td>03/20/2017</td>\n",
       "      <td>Brad</td>\n",
       "      <td></td>\n",
       "      <td>Returned</td>\n",
       "    </tr>\n",
       "    <tr>\n",
       "      <th>4886</th>\n",
       "      <td>110231</td>\n",
       "      <td>5</td>\n",
       "      <td>11/17/2017</td>\n",
       "      <td>KM</td>\n",
       "      <td></td>\n",
       "      <td>Great shoe</td>\n",
       "    </tr>\n",
       "    <tr>\n",
       "      <th>4878</th>\n",
       "      <td>120226</td>\n",
       "      <td>5</td>\n",
       "      <td>09/20/2016</td>\n",
       "      <td>Clausglez</td>\n",
       "      <td></td>\n",
       "      <td>Love them</td>\n",
       "    </tr>\n",
       "    <tr>\n",
       "      <th>4820</th>\n",
       "      <td>110211</td>\n",
       "      <td>4</td>\n",
       "      <td>04/03/2017</td>\n",
       "      <td>Cobb</td>\n",
       "      <td></td>\n",
       "      <td>Would buy again</td>\n",
       "    </tr>\n",
       "    <tr>\n",
       "      <th>4819</th>\n",
       "      <td>110211</td>\n",
       "      <td>5</td>\n",
       "      <td>04/09/2017</td>\n",
       "      <td>Matthew Purdy</td>\n",
       "      <td></td>\n",
       "      <td>Awesome</td>\n",
       "    </tr>\n",
       "    <tr>\n",
       "      <th>4818</th>\n",
       "      <td>110211</td>\n",
       "      <td>4</td>\n",
       "      <td>04/10/2017</td>\n",
       "      <td>Craig</td>\n",
       "      <td></td>\n",
       "      <td>Comfortable</td>\n",
       "    </tr>\n",
       "    <tr>\n",
       "      <th>4757</th>\n",
       "      <td>110251</td>\n",
       "      <td>5</td>\n",
       "      <td>08/25/2017</td>\n",
       "      <td>Big D...</td>\n",
       "      <td></td>\n",
       "      <td>Very comfortable.</td>\n",
       "    </tr>\n",
       "    <tr>\n",
       "      <th>4380</th>\n",
       "      <td>120225</td>\n",
       "      <td>5</td>\n",
       "      <td>07/23/2017</td>\n",
       "      <td>Kate</td>\n",
       "      <td></td>\n",
       "      <td>I would buy this again</td>\n",
       "    </tr>\n",
       "    <tr>\n",
       "      <th>4743</th>\n",
       "      <td>120225</td>\n",
       "      <td>5</td>\n",
       "      <td>06/22/2016</td>\n",
       "      <td>Thedrana</td>\n",
       "      <td></td>\n",
       "      <td>Comfy</td>\n",
       "    </tr>\n",
       "    <tr>\n",
       "      <th>4728</th>\n",
       "      <td>120225</td>\n",
       "      <td>5</td>\n",
       "      <td>07/07/2016</td>\n",
       "      <td>KungfuMomma</td>\n",
       "      <td></td>\n",
       "      <td>Great shoe!</td>\n",
       "    </tr>\n",
       "    <tr>\n",
       "      <th>...</th>\n",
       "      <td>...</td>\n",
       "      <td>...</td>\n",
       "      <td>...</td>\n",
       "      <td>...</td>\n",
       "      <td>...</td>\n",
       "      <td>...</td>\n",
       "    </tr>\n",
       "    <tr>\n",
       "      <th>2486</th>\n",
       "      <td>110196</td>\n",
       "      <td>5</td>\n",
       "      <td>07/22/2016</td>\n",
       "      <td>Kimo</td>\n",
       "      <td></td>\n",
       "      <td>Great</td>\n",
       "    </tr>\n",
       "    <tr>\n",
       "      <th>2466</th>\n",
       "      <td>110196</td>\n",
       "      <td>4</td>\n",
       "      <td>03/26/2017</td>\n",
       "      <td>HAS</td>\n",
       "      <td></td>\n",
       "      <td>Great</td>\n",
       "    </tr>\n",
       "    <tr>\n",
       "      <th>2461</th>\n",
       "      <td>110196</td>\n",
       "      <td>5</td>\n",
       "      <td>04/18/2017</td>\n",
       "      <td>MM</td>\n",
       "      <td></td>\n",
       "      <td>I would buy this product again</td>\n",
       "    </tr>\n",
       "    <tr>\n",
       "      <th>2460</th>\n",
       "      <td>110196</td>\n",
       "      <td>5</td>\n",
       "      <td>04/26/2017</td>\n",
       "      <td>n/a</td>\n",
       "      <td></td>\n",
       "      <td>Very comfortable</td>\n",
       "    </tr>\n",
       "    <tr>\n",
       "      <th>2440</th>\n",
       "      <td>110196</td>\n",
       "      <td>5</td>\n",
       "      <td>08/21/2017</td>\n",
       "      <td>Pete</td>\n",
       "      <td></td>\n",
       "      <td>I would buy these shoes again.</td>\n",
       "    </tr>\n",
       "    <tr>\n",
       "      <th>2437</th>\n",
       "      <td>110196</td>\n",
       "      <td>4</td>\n",
       "      <td>09/01/2017</td>\n",
       "      <td>mark</td>\n",
       "      <td></td>\n",
       "      <td>good</td>\n",
       "    </tr>\n",
       "    <tr>\n",
       "      <th>2436</th>\n",
       "      <td>110196</td>\n",
       "      <td>5</td>\n",
       "      <td>09/06/2017</td>\n",
       "      <td>Joe A</td>\n",
       "      <td></td>\n",
       "      <td>Great fit</td>\n",
       "    </tr>\n",
       "    <tr>\n",
       "      <th>2404</th>\n",
       "      <td>110196</td>\n",
       "      <td>5</td>\n",
       "      <td>11/18/2017</td>\n",
       "      <td>Zell</td>\n",
       "      <td></td>\n",
       "      <td>Yes</td>\n",
       "    </tr>\n",
       "    <tr>\n",
       "      <th>2640</th>\n",
       "      <td>110215</td>\n",
       "      <td>5</td>\n",
       "      <td>03/08/2017</td>\n",
       "      <td>JC</td>\n",
       "      <td></td>\n",
       "      <td>Love it</td>\n",
       "    </tr>\n",
       "    <tr>\n",
       "      <th>2661</th>\n",
       "      <td>110215</td>\n",
       "      <td>5</td>\n",
       "      <td>09/20/2016</td>\n",
       "      <td>rec runner</td>\n",
       "      <td></td>\n",
       "      <td>Would buy again</td>\n",
       "    </tr>\n",
       "    <tr>\n",
       "      <th>2666</th>\n",
       "      <td>110215</td>\n",
       "      <td>5</td>\n",
       "      <td>09/14/2016</td>\n",
       "      <td>Won't buy any other gym shoe</td>\n",
       "      <td></td>\n",
       "      <td>I would buy this shoe again</td>\n",
       "    </tr>\n",
       "    <tr>\n",
       "      <th>2674</th>\n",
       "      <td>110215</td>\n",
       "      <td>5</td>\n",
       "      <td>09/03/2016</td>\n",
       "      <td>Gman</td>\n",
       "      <td></td>\n",
       "      <td>Love!</td>\n",
       "    </tr>\n",
       "    <tr>\n",
       "      <th>2905</th>\n",
       "      <td>110247</td>\n",
       "      <td>5</td>\n",
       "      <td>11/11/2017</td>\n",
       "      <td>Evan</td>\n",
       "      <td></td>\n",
       "      <td>Love it</td>\n",
       "    </tr>\n",
       "    <tr>\n",
       "      <th>2892</th>\n",
       "      <td>120235</td>\n",
       "      <td>5</td>\n",
       "      <td>09/07/2017</td>\n",
       "      <td>Shannon</td>\n",
       "      <td></td>\n",
       "      <td>Love them!</td>\n",
       "    </tr>\n",
       "    <tr>\n",
       "      <th>2862</th>\n",
       "      <td>110254</td>\n",
       "      <td>5</td>\n",
       "      <td>10/03/2017</td>\n",
       "      <td>RB</td>\n",
       "      <td></td>\n",
       "      <td>Great shoe</td>\n",
       "    </tr>\n",
       "    <tr>\n",
       "      <th>2849</th>\n",
       "      <td>120219</td>\n",
       "      <td>4</td>\n",
       "      <td>10/12/2016</td>\n",
       "      <td>Tamz1023</td>\n",
       "      <td></td>\n",
       "      <td>Love these</td>\n",
       "    </tr>\n",
       "    <tr>\n",
       "      <th>2812</th>\n",
       "      <td>120219</td>\n",
       "      <td>5</td>\n",
       "      <td>08/08/2017</td>\n",
       "      <td>Love them</td>\n",
       "      <td></td>\n",
       "      <td>Love them</td>\n",
       "    </tr>\n",
       "    <tr>\n",
       "      <th>2803</th>\n",
       "      <td>120219</td>\n",
       "      <td>5</td>\n",
       "      <td>09/07/2017</td>\n",
       "      <td>Hh</td>\n",
       "      <td></td>\n",
       "      <td>Great shoe</td>\n",
       "    </tr>\n",
       "    <tr>\n",
       "      <th>2788</th>\n",
       "      <td>120219</td>\n",
       "      <td>5</td>\n",
       "      <td>10/29/2017</td>\n",
       "      <td>Rae Ann</td>\n",
       "      <td></td>\n",
       "      <td>I would buy again!</td>\n",
       "    </tr>\n",
       "    <tr>\n",
       "      <th>2961</th>\n",
       "      <td>110247</td>\n",
       "      <td>5</td>\n",
       "      <td>04/21/2017</td>\n",
       "      <td>AK</td>\n",
       "      <td></td>\n",
       "      <td>I would buy this shoe again</td>\n",
       "    </tr>\n",
       "    <tr>\n",
       "      <th>2787</th>\n",
       "      <td>120219</td>\n",
       "      <td>5</td>\n",
       "      <td>11/02/2017</td>\n",
       "      <td>PS</td>\n",
       "      <td></td>\n",
       "      <td>Great shoes</td>\n",
       "    </tr>\n",
       "    <tr>\n",
       "      <th>2733</th>\n",
       "      <td>110215</td>\n",
       "      <td>5</td>\n",
       "      <td>05/07/2016</td>\n",
       "      <td>Mike</td>\n",
       "      <td></td>\n",
       "      <td>Great shoes!</td>\n",
       "    </tr>\n",
       "    <tr>\n",
       "      <th>2710</th>\n",
       "      <td>110215</td>\n",
       "      <td>5</td>\n",
       "      <td>07/22/2016</td>\n",
       "      <td>Iron Runner</td>\n",
       "      <td></td>\n",
       "      <td>Awesome!!!</td>\n",
       "    </tr>\n",
       "    <tr>\n",
       "      <th>2704</th>\n",
       "      <td>110215</td>\n",
       "      <td>5</td>\n",
       "      <td>07/27/2016</td>\n",
       "      <td>Pauly</td>\n",
       "      <td></td>\n",
       "      <td>Love it</td>\n",
       "    </tr>\n",
       "    <tr>\n",
       "      <th>2701</th>\n",
       "      <td>110215</td>\n",
       "      <td>5</td>\n",
       "      <td>08/12/2016</td>\n",
       "      <td>Jon</td>\n",
       "      <td></td>\n",
       "      <td>Love this shoe</td>\n",
       "    </tr>\n",
       "    <tr>\n",
       "      <th>2700</th>\n",
       "      <td>110215</td>\n",
       "      <td>5</td>\n",
       "      <td>08/15/2016</td>\n",
       "      <td>Dave</td>\n",
       "      <td></td>\n",
       "      <td>Great shoe</td>\n",
       "    </tr>\n",
       "    <tr>\n",
       "      <th>2695</th>\n",
       "      <td>110215</td>\n",
       "      <td>5</td>\n",
       "      <td>08/24/2016</td>\n",
       "      <td>dibo</td>\n",
       "      <td></td>\n",
       "      <td>Great shoe</td>\n",
       "    </tr>\n",
       "    <tr>\n",
       "      <th>2680</th>\n",
       "      <td>110215</td>\n",
       "      <td>5</td>\n",
       "      <td>08/31/2016</td>\n",
       "      <td>Matt</td>\n",
       "      <td></td>\n",
       "      <td>Great Shoe</td>\n",
       "    </tr>\n",
       "    <tr>\n",
       "      <th>2770</th>\n",
       "      <td>110215</td>\n",
       "      <td>4</td>\n",
       "      <td>02/13/2016</td>\n",
       "      <td>Marco</td>\n",
       "      <td></td>\n",
       "      <td>I would buy this product again and again</td>\n",
       "    </tr>\n",
       "    <tr>\n",
       "      <th>6159</th>\n",
       "      <td>120243</td>\n",
       "      <td>5</td>\n",
       "      <td>10/09/2017</td>\n",
       "      <td>doe</td>\n",
       "      <td></td>\n",
       "      <td>Yes</td>\n",
       "    </tr>\n",
       "  </tbody>\n",
       "</table>\n",
       "<p>311 rows × 6 columns</p>\n",
       "</div>"
      ],
      "text/plain": [
       "     modelId rating  ratingDate                  reviewAuthor reviewComments  \\\n",
       "61    120249      5  09/23/2017                      ole girl                  \n",
       "4572  120225      5  04/03/2017                             B                  \n",
       "4563  120225      5  04/10/2017                        Lauren                  \n",
       "4556  120225      5  04/14/2017                         Haley                  \n",
       "4523  120225      5  05/10/2017             Sheila the Runner                  \n",
       "4500  120225      5  05/31/2017                            v-                  \n",
       "4487  120225      5  06/09/2017                   Lone runner                  \n",
       "4485  120225      5  06/10/2017                           Bri                  \n",
       "4474  120225      5  06/12/2017                        Hallie                  \n",
       "4463  120225      5  06/19/2017                           Meg                  \n",
       "4458  120225      5  06/20/2017                           SNP                  \n",
       "4454  120225      5  06/23/2017                         Stacy                  \n",
       "4431  120225      5  06/30/2017                         Susan                  \n",
       "4411  120225      5  07/06/2017                          Yuba                  \n",
       "4394  120225      5  07/15/2017                       Bronwyn                  \n",
       "4392  120225      5  07/20/2017                       Cherrie                  \n",
       "4576  120225      5  03/29/2017                           Amy                  \n",
       "4592  120225      5  03/21/2017                             Q                  \n",
       "4595  120225      5  03/18/2017                          Kris                  \n",
       "4605  120225      4  03/08/2017                         Becca                  \n",
       "4937  110229      1  03/20/2017                          Brad                  \n",
       "4886  110231      5  11/17/2017                            KM                  \n",
       "4878  120226      5  09/20/2016                     Clausglez                  \n",
       "4820  110211      4  04/03/2017                          Cobb                  \n",
       "4819  110211      5  04/09/2017                 Matthew Purdy                  \n",
       "4818  110211      4  04/10/2017                         Craig                  \n",
       "4757  110251      5  08/25/2017                      Big D...                  \n",
       "4380  120225      5  07/23/2017                          Kate                  \n",
       "4743  120225      5  06/22/2016                      Thedrana                  \n",
       "4728  120225      5  07/07/2016                   KungfuMomma                  \n",
       "...      ...    ...         ...                           ...            ...   \n",
       "2486  110196      5  07/22/2016                          Kimo                  \n",
       "2466  110196      4  03/26/2017                           HAS                  \n",
       "2461  110196      5  04/18/2017                            MM                  \n",
       "2460  110196      5  04/26/2017                           n/a                  \n",
       "2440  110196      5  08/21/2017                          Pete                  \n",
       "2437  110196      4  09/01/2017                          mark                  \n",
       "2436  110196      5  09/06/2017                         Joe A                  \n",
       "2404  110196      5  11/18/2017                          Zell                  \n",
       "2640  110215      5  03/08/2017                            JC                  \n",
       "2661  110215      5  09/20/2016                    rec runner                  \n",
       "2666  110215      5  09/14/2016  Won't buy any other gym shoe                  \n",
       "2674  110215      5  09/03/2016                          Gman                  \n",
       "2905  110247      5  11/11/2017                          Evan                  \n",
       "2892  120235      5  09/07/2017                       Shannon                  \n",
       "2862  110254      5  10/03/2017                            RB                  \n",
       "2849  120219      4  10/12/2016                      Tamz1023                  \n",
       "2812  120219      5  08/08/2017                     Love them                  \n",
       "2803  120219      5  09/07/2017                            Hh                  \n",
       "2788  120219      5  10/29/2017                       Rae Ann                  \n",
       "2961  110247      5  04/21/2017                            AK                  \n",
       "2787  120219      5  11/02/2017                            PS                  \n",
       "2733  110215      5  05/07/2016                          Mike                  \n",
       "2710  110215      5  07/22/2016                   Iron Runner                  \n",
       "2704  110215      5  07/27/2016                         Pauly                  \n",
       "2701  110215      5  08/12/2016                           Jon                  \n",
       "2700  110215      5  08/15/2016                          Dave                  \n",
       "2695  110215      5  08/24/2016                          dibo                  \n",
       "2680  110215      5  08/31/2016                          Matt                  \n",
       "2770  110215      4  02/13/2016                         Marco                  \n",
       "6159  120243      5  10/09/2017                           doe                  \n",
       "\n",
       "                                   reviewTitle  \n",
       "61                 I would buy this shoe again  \n",
       "4572                                Love them!  \n",
       "4563                                 Love them  \n",
       "4556                                   Awesome  \n",
       "4523                               Love these!  \n",
       "4500                                Excellent!  \n",
       "4487                                Love them!  \n",
       "4485                         Love these shoes!  \n",
       "4474                             Awesome shoes  \n",
       "4463                         Love these shoes!  \n",
       "4458                       Great running shoes  \n",
       "4454                           Love this shoe!  \n",
       "4431                               Great Shoes  \n",
       "4411            I will buy this product again.  \n",
       "4394                         I would buy again  \n",
       "4392                               Great shoes  \n",
       "4576            I would buy these shoes again!  \n",
       "4592                                Great shoe  \n",
       "4595                               Love these!  \n",
       "4605                                 Good shoe  \n",
       "4937                                  Returned  \n",
       "4886                                Great shoe  \n",
       "4878                                 Love them  \n",
       "4820                           Would buy again  \n",
       "4819                                   Awesome  \n",
       "4818                               Comfortable  \n",
       "4757                         Very comfortable.  \n",
       "4380                    I would buy this again  \n",
       "4743                                     Comfy  \n",
       "4728                               Great shoe!  \n",
       "...                                        ...  \n",
       "2486                                     Great  \n",
       "2466                                     Great  \n",
       "2461            I would buy this product again  \n",
       "2460                          Very comfortable  \n",
       "2440            I would buy these shoes again.  \n",
       "2437                                      good  \n",
       "2436                                 Great fit  \n",
       "2404                                       Yes  \n",
       "2640                                   Love it  \n",
       "2661                           Would buy again  \n",
       "2666               I would buy this shoe again  \n",
       "2674                                     Love!  \n",
       "2905                                   Love it  \n",
       "2892                                Love them!  \n",
       "2862                                Great shoe  \n",
       "2849                                Love these  \n",
       "2812                                 Love them  \n",
       "2803                                Great shoe  \n",
       "2788                        I would buy again!  \n",
       "2961               I would buy this shoe again  \n",
       "2787                               Great shoes  \n",
       "2733                              Great shoes!  \n",
       "2710                                Awesome!!!  \n",
       "2704                                   Love it  \n",
       "2701                            Love this shoe  \n",
       "2700                                Great shoe  \n",
       "2695                                Great shoe  \n",
       "2680                                Great Shoe  \n",
       "2770  I would buy this product again and again  \n",
       "6159                                       Yes  \n",
       "\n",
       "[311 rows x 6 columns]"
      ]
     },
     "execution_count": 64,
     "metadata": {},
     "output_type": "execute_result"
    }
   ],
   "source": [
    "duplicates = reviewData_df[reviewData_df.duplicated(['reviewComments', 'reviewTitle'])]\n",
    "duplicates.sort_values(by = ['reviewComments'])"
   ]
  },
  {
   "cell_type": "markdown",
   "metadata": {},
   "source": [
    "#### Remove duplications"
   ]
  },
  {
   "cell_type": "code",
   "execution_count": 85,
   "metadata": {},
   "outputs": [
    {
     "data": {
      "text/plain": [
       "(4288, 5)"
      ]
     },
     "execution_count": 85,
     "metadata": {},
     "output_type": "execute_result"
    }
   ],
   "source": [
    "reviewData_df.drop_duplicates(['reviewComments'], keep = 'first', inplace=True)\n",
    "reviewData_df.shape"
   ]
  },
  {
   "cell_type": "markdown",
   "metadata": {},
   "source": [
    "## Check Point 1: writing DF to .csv before modeling"
   ]
  },
  {
   "cell_type": "code",
   "execution_count": 91,
   "metadata": {
    "collapsed": true
   },
   "outputs": [],
   "source": [
    "reviewData_df.to_csv('product_reviews.csv', encoding='utf-8', index=False)\n",
    "productspec_df.to_csv('product_features.csv', encoding='utf-8', index=False)"
   ]
  },
  {
   "cell_type": "code",
   "execution_count": 92,
   "metadata": {},
   "outputs": [
    {
     "name": "stdout",
     "output_type": "stream",
     "text": [
      "total 2168\r\n",
      "-rw-------    1 qianyu  staff    70K Dec 20 11:19 JSON_EDA.ipynb\r\n",
      "drwxr-xr-x  147 qianyu  staff   4.9K Dec 14 17:22 \u001b[34madidas\u001b[m\u001b[m\r\n",
      "-rw-------    1 qianyu  staff   4.4K Dec 14 17:19 amazon_crawler.py\r\n",
      "drwxr-xr-x@ 165 qianyu  staff   5.5K Dec 12 00:21 \u001b[34masics\u001b[m\u001b[m\r\n",
      "drwxr-xr-x@  73 qianyu  staff   2.4K Dec 14 03:14 \u001b[34mbrooks\u001b[m\u001b[m\r\n",
      "-rw-------    1 qianyu  staff   1.8K Dec 17 14:49 process_json.py\r\n",
      "-rw-------    1 qianyu  staff   131K Dec 20 11:20 product_features.csv\r\n",
      "-rw-r--r--    1 qianyu  staff   864K Dec 20 11:20 product_reviews.csv\r\n"
     ]
    }
   ],
   "source": [
    "!ls -lh"
   ]
  }
 ],
 "metadata": {
  "kernelspec": {
   "display_name": "Python 2",
   "language": "python",
   "name": "python2"
  },
  "language_info": {
   "codemirror_mode": {
    "name": "ipython",
    "version": 2
   },
   "file_extension": ".py",
   "mimetype": "text/x-python",
   "name": "python",
   "nbconvert_exporter": "python",
   "pygments_lexer": "ipython2",
   "version": "2.7.14"
  }
 },
 "nbformat": 4,
 "nbformat_minor": 2
}
